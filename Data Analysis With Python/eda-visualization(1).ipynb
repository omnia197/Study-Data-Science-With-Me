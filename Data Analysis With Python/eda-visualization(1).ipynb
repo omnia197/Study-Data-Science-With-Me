{
 "cells": [
  {
   "cell_type": "code",
   "execution_count": 1,
   "id": "0974ceac",
   "metadata": {
    "_cell_guid": "b1076dfc-b9ad-4769-8c92-a6c4dae69d19",
    "_uuid": "8f2839f25d086af736a60e9eeb907d3b93b6e0e5",
    "execution": {
     "iopub.execute_input": "2024-07-08T23:10:17.303837Z",
     "iopub.status.busy": "2024-07-08T23:10:17.303408Z",
     "iopub.status.idle": "2024-07-08T23:10:18.218683Z",
     "shell.execute_reply": "2024-07-08T23:10:18.217353Z"
    },
    "papermill": {
     "duration": 0.92969,
     "end_time": "2024-07-08T23:10:18.221584",
     "exception": false,
     "start_time": "2024-07-08T23:10:17.291894",
     "status": "completed"
    },
    "tags": []
   },
   "outputs": [
    {
     "name": "stdout",
     "output_type": "stream",
     "text": [
      "/kaggle/input/new-york-city-airbnb-open-data/AB_NYC_2019.csv\n",
      "/kaggle/input/new-york-city-airbnb-open-data/New_York_City_.png\n"
     ]
    }
   ],
   "source": [
    "# This Python 3 environment comes with many helpful analytics libraries installed\n",
    "# It is defined by the kaggle/python Docker image: https://github.com/kaggle/docker-python\n",
    "# For example, here's several helpful packages to load\n",
    "\n",
    "import numpy as np # linear algebra\n",
    "import pandas as pd # data processing, CSV file I/O (e.g. pd.read_csv)\n",
    "\n",
    "# Input data files are available in the read-only \"../input/\" directory\n",
    "# For example, running this (by clicking run or pressing Shift+Enter) will list all files under the input directory\n",
    "\n",
    "import os\n",
    "for dirname, _, filenames in os.walk('/kaggle/input'):\n",
    "    for filename in filenames:\n",
    "        print(os.path.join(dirname, filename))\n",
    "\n",
    "# You can write up to 20GB to the current directory (/kaggle/working/) that gets preserved as output when you create a version using \"Save & Run All\" \n",
    "# You can also write temporary files to /kaggle/temp/, but they won't be saved outside of the current session"
   ]
  },
  {
   "cell_type": "code",
   "execution_count": 2,
   "id": "3a0bd27b",
   "metadata": {
    "execution": {
     "iopub.execute_input": "2024-07-08T23:10:18.243809Z",
     "iopub.status.busy": "2024-07-08T23:10:18.243273Z",
     "iopub.status.idle": "2024-07-08T23:10:18.549713Z",
     "shell.execute_reply": "2024-07-08T23:10:18.548470Z"
    },
    "papermill": {
     "duration": 0.320217,
     "end_time": "2024-07-08T23:10:18.552144",
     "exception": false,
     "start_time": "2024-07-08T23:10:18.231927",
     "status": "completed"
    },
    "tags": []
   },
   "outputs": [
    {
     "data": {
      "text/html": [
       "<div>\n",
       "<style scoped>\n",
       "    .dataframe tbody tr th:only-of-type {\n",
       "        vertical-align: middle;\n",
       "    }\n",
       "\n",
       "    .dataframe tbody tr th {\n",
       "        vertical-align: top;\n",
       "    }\n",
       "\n",
       "    .dataframe thead th {\n",
       "        text-align: right;\n",
       "    }\n",
       "</style>\n",
       "<table border=\"1\" class=\"dataframe\">\n",
       "  <thead>\n",
       "    <tr style=\"text-align: right;\">\n",
       "      <th></th>\n",
       "      <th>0</th>\n",
       "      <th>1</th>\n",
       "      <th>2</th>\n",
       "    </tr>\n",
       "  </thead>\n",
       "  <tbody>\n",
       "    <tr>\n",
       "      <th>id</th>\n",
       "      <td>2539</td>\n",
       "      <td>2595</td>\n",
       "      <td>3647</td>\n",
       "    </tr>\n",
       "    <tr>\n",
       "      <th>name</th>\n",
       "      <td>Clean &amp; quiet apt home by the park</td>\n",
       "      <td>Skylit Midtown Castle</td>\n",
       "      <td>THE VILLAGE OF HARLEM....NEW YORK !</td>\n",
       "    </tr>\n",
       "    <tr>\n",
       "      <th>host_id</th>\n",
       "      <td>2787</td>\n",
       "      <td>2845</td>\n",
       "      <td>4632</td>\n",
       "    </tr>\n",
       "    <tr>\n",
       "      <th>host_name</th>\n",
       "      <td>John</td>\n",
       "      <td>Jennifer</td>\n",
       "      <td>Elisabeth</td>\n",
       "    </tr>\n",
       "    <tr>\n",
       "      <th>neighbourhood_group</th>\n",
       "      <td>Brooklyn</td>\n",
       "      <td>Manhattan</td>\n",
       "      <td>Manhattan</td>\n",
       "    </tr>\n",
       "    <tr>\n",
       "      <th>neighbourhood</th>\n",
       "      <td>Kensington</td>\n",
       "      <td>Midtown</td>\n",
       "      <td>Harlem</td>\n",
       "    </tr>\n",
       "    <tr>\n",
       "      <th>latitude</th>\n",
       "      <td>40.64749</td>\n",
       "      <td>40.75362</td>\n",
       "      <td>40.80902</td>\n",
       "    </tr>\n",
       "    <tr>\n",
       "      <th>longitude</th>\n",
       "      <td>-73.97237</td>\n",
       "      <td>-73.98377</td>\n",
       "      <td>-73.9419</td>\n",
       "    </tr>\n",
       "    <tr>\n",
       "      <th>room_type</th>\n",
       "      <td>Private room</td>\n",
       "      <td>Entire home/apt</td>\n",
       "      <td>Private room</td>\n",
       "    </tr>\n",
       "    <tr>\n",
       "      <th>price</th>\n",
       "      <td>149</td>\n",
       "      <td>225</td>\n",
       "      <td>150</td>\n",
       "    </tr>\n",
       "    <tr>\n",
       "      <th>minimum_nights</th>\n",
       "      <td>1</td>\n",
       "      <td>1</td>\n",
       "      <td>3</td>\n",
       "    </tr>\n",
       "    <tr>\n",
       "      <th>number_of_reviews</th>\n",
       "      <td>9</td>\n",
       "      <td>45</td>\n",
       "      <td>0</td>\n",
       "    </tr>\n",
       "    <tr>\n",
       "      <th>last_review</th>\n",
       "      <td>2018-10-19</td>\n",
       "      <td>2019-05-21</td>\n",
       "      <td>NaN</td>\n",
       "    </tr>\n",
       "    <tr>\n",
       "      <th>reviews_per_month</th>\n",
       "      <td>0.21</td>\n",
       "      <td>0.38</td>\n",
       "      <td>NaN</td>\n",
       "    </tr>\n",
       "    <tr>\n",
       "      <th>calculated_host_listings_count</th>\n",
       "      <td>6</td>\n",
       "      <td>2</td>\n",
       "      <td>1</td>\n",
       "    </tr>\n",
       "    <tr>\n",
       "      <th>availability_365</th>\n",
       "      <td>365</td>\n",
       "      <td>355</td>\n",
       "      <td>365</td>\n",
       "    </tr>\n",
       "  </tbody>\n",
       "</table>\n",
       "</div>"
      ],
      "text/plain": [
       "                                                                 0  \\\n",
       "id                                                            2539   \n",
       "name                            Clean & quiet apt home by the park   \n",
       "host_id                                                       2787   \n",
       "host_name                                                     John   \n",
       "neighbourhood_group                                       Brooklyn   \n",
       "neighbourhood                                           Kensington   \n",
       "latitude                                                  40.64749   \n",
       "longitude                                                -73.97237   \n",
       "room_type                                             Private room   \n",
       "price                                                          149   \n",
       "minimum_nights                                                   1   \n",
       "number_of_reviews                                                9   \n",
       "last_review                                             2018-10-19   \n",
       "reviews_per_month                                             0.21   \n",
       "calculated_host_listings_count                                   6   \n",
       "availability_365                                               365   \n",
       "\n",
       "                                                    1  \\\n",
       "id                                               2595   \n",
       "name                            Skylit Midtown Castle   \n",
       "host_id                                          2845   \n",
       "host_name                                    Jennifer   \n",
       "neighbourhood_group                         Manhattan   \n",
       "neighbourhood                                 Midtown   \n",
       "latitude                                     40.75362   \n",
       "longitude                                   -73.98377   \n",
       "room_type                             Entire home/apt   \n",
       "price                                             225   \n",
       "minimum_nights                                      1   \n",
       "number_of_reviews                                  45   \n",
       "last_review                                2019-05-21   \n",
       "reviews_per_month                                0.38   \n",
       "calculated_host_listings_count                      2   \n",
       "availability_365                                  355   \n",
       "\n",
       "                                                                  2  \n",
       "id                                                             3647  \n",
       "name                            THE VILLAGE OF HARLEM....NEW YORK !  \n",
       "host_id                                                        4632  \n",
       "host_name                                                 Elisabeth  \n",
       "neighbourhood_group                                       Manhattan  \n",
       "neighbourhood                                                Harlem  \n",
       "latitude                                                   40.80902  \n",
       "longitude                                                  -73.9419  \n",
       "room_type                                              Private room  \n",
       "price                                                           150  \n",
       "minimum_nights                                                    3  \n",
       "number_of_reviews                                                 0  \n",
       "last_review                                                     NaN  \n",
       "reviews_per_month                                               NaN  \n",
       "calculated_host_listings_count                                    1  \n",
       "availability_365                                                365  "
      ]
     },
     "execution_count": 2,
     "metadata": {},
     "output_type": "execute_result"
    }
   ],
   "source": [
    "#read the data file using the function read_csv from pandas library\n",
    "data = pd.read_csv('/kaggle/input/new-york-city-airbnb-open-data/AB_NYC_2019.csv')\n",
    "#print the first 3 rows in transpose to be more clear to read\n",
    "data.head(3).T"
   ]
  },
  {
   "cell_type": "markdown",
   "id": "82810244",
   "metadata": {
    "papermill": {
     "duration": 0.010498,
     "end_time": "2024-07-08T23:10:18.573327",
     "exception": false,
     "start_time": "2024-07-08T23:10:18.562829",
     "status": "completed"
    },
    "tags": []
   },
   "source": [
    "# Data Describtion"
   ]
  },
  {
   "cell_type": "code",
   "execution_count": 3,
   "id": "ed9dbeba",
   "metadata": {
    "execution": {
     "iopub.execute_input": "2024-07-08T23:10:18.596090Z",
     "iopub.status.busy": "2024-07-08T23:10:18.595681Z",
     "iopub.status.idle": "2024-07-08T23:10:18.642693Z",
     "shell.execute_reply": "2024-07-08T23:10:18.641481Z"
    },
    "papermill": {
     "duration": 0.062159,
     "end_time": "2024-07-08T23:10:18.646467",
     "exception": false,
     "start_time": "2024-07-08T23:10:18.584308",
     "status": "completed"
    },
    "tags": []
   },
   "outputs": [
    {
     "name": "stdout",
     "output_type": "stream",
     "text": [
      "<class 'pandas.core.frame.DataFrame'>\n",
      "RangeIndex: 48895 entries, 0 to 48894\n",
      "Data columns (total 16 columns):\n",
      " #   Column                          Non-Null Count  Dtype  \n",
      "---  ------                          --------------  -----  \n",
      " 0   id                              48895 non-null  int64  \n",
      " 1   name                            48879 non-null  object \n",
      " 2   host_id                         48895 non-null  int64  \n",
      " 3   host_name                       48874 non-null  object \n",
      " 4   neighbourhood_group             48895 non-null  object \n",
      " 5   neighbourhood                   48895 non-null  object \n",
      " 6   latitude                        48895 non-null  float64\n",
      " 7   longitude                       48895 non-null  float64\n",
      " 8   room_type                       48895 non-null  object \n",
      " 9   price                           48895 non-null  int64  \n",
      " 10  minimum_nights                  48895 non-null  int64  \n",
      " 11  number_of_reviews               48895 non-null  int64  \n",
      " 12  last_review                     38843 non-null  object \n",
      " 13  reviews_per_month               38843 non-null  float64\n",
      " 14  calculated_host_listings_count  48895 non-null  int64  \n",
      " 15  availability_365                48895 non-null  int64  \n",
      "dtypes: float64(3), int64(7), object(6)\n",
      "memory usage: 6.0+ MB\n"
     ]
    }
   ],
   "source": [
    "#print the data types of inputs of data and be sure that they are accurate\n",
    "data.info()"
   ]
  },
  {
   "cell_type": "code",
   "execution_count": 4,
   "id": "026dceb6",
   "metadata": {
    "execution": {
     "iopub.execute_input": "2024-07-08T23:10:18.669249Z",
     "iopub.status.busy": "2024-07-08T23:10:18.668820Z",
     "iopub.status.idle": "2024-07-08T23:10:18.733207Z",
     "shell.execute_reply": "2024-07-08T23:10:18.732095Z"
    },
    "papermill": {
     "duration": 0.078984,
     "end_time": "2024-07-08T23:10:18.735783",
     "exception": false,
     "start_time": "2024-07-08T23:10:18.656799",
     "status": "completed"
    },
    "tags": []
   },
   "outputs": [
    {
     "data": {
      "text/html": [
       "<div>\n",
       "<style scoped>\n",
       "    .dataframe tbody tr th:only-of-type {\n",
       "        vertical-align: middle;\n",
       "    }\n",
       "\n",
       "    .dataframe tbody tr th {\n",
       "        vertical-align: top;\n",
       "    }\n",
       "\n",
       "    .dataframe thead th {\n",
       "        text-align: right;\n",
       "    }\n",
       "</style>\n",
       "<table border=\"1\" class=\"dataframe\">\n",
       "  <thead>\n",
       "    <tr style=\"text-align: right;\">\n",
       "      <th></th>\n",
       "      <th>id</th>\n",
       "      <th>host_id</th>\n",
       "      <th>latitude</th>\n",
       "      <th>longitude</th>\n",
       "      <th>price</th>\n",
       "      <th>minimum_nights</th>\n",
       "      <th>number_of_reviews</th>\n",
       "      <th>reviews_per_month</th>\n",
       "      <th>calculated_host_listings_count</th>\n",
       "      <th>availability_365</th>\n",
       "    </tr>\n",
       "  </thead>\n",
       "  <tbody>\n",
       "    <tr>\n",
       "      <th>count</th>\n",
       "      <td>4.889500e+04</td>\n",
       "      <td>4.889500e+04</td>\n",
       "      <td>48895.000000</td>\n",
       "      <td>48895.000000</td>\n",
       "      <td>48895.000000</td>\n",
       "      <td>48895.000000</td>\n",
       "      <td>48895.000000</td>\n",
       "      <td>38843.000000</td>\n",
       "      <td>48895.000000</td>\n",
       "      <td>48895.000000</td>\n",
       "    </tr>\n",
       "    <tr>\n",
       "      <th>mean</th>\n",
       "      <td>1.901714e+07</td>\n",
       "      <td>6.762001e+07</td>\n",
       "      <td>40.728949</td>\n",
       "      <td>-73.952170</td>\n",
       "      <td>152.720687</td>\n",
       "      <td>7.029962</td>\n",
       "      <td>23.274466</td>\n",
       "      <td>1.373221</td>\n",
       "      <td>7.143982</td>\n",
       "      <td>112.781327</td>\n",
       "    </tr>\n",
       "    <tr>\n",
       "      <th>std</th>\n",
       "      <td>1.098311e+07</td>\n",
       "      <td>7.861097e+07</td>\n",
       "      <td>0.054530</td>\n",
       "      <td>0.046157</td>\n",
       "      <td>240.154170</td>\n",
       "      <td>20.510550</td>\n",
       "      <td>44.550582</td>\n",
       "      <td>1.680442</td>\n",
       "      <td>32.952519</td>\n",
       "      <td>131.622289</td>\n",
       "    </tr>\n",
       "    <tr>\n",
       "      <th>min</th>\n",
       "      <td>2.539000e+03</td>\n",
       "      <td>2.438000e+03</td>\n",
       "      <td>40.499790</td>\n",
       "      <td>-74.244420</td>\n",
       "      <td>0.000000</td>\n",
       "      <td>1.000000</td>\n",
       "      <td>0.000000</td>\n",
       "      <td>0.010000</td>\n",
       "      <td>1.000000</td>\n",
       "      <td>0.000000</td>\n",
       "    </tr>\n",
       "    <tr>\n",
       "      <th>25%</th>\n",
       "      <td>9.471945e+06</td>\n",
       "      <td>7.822033e+06</td>\n",
       "      <td>40.690100</td>\n",
       "      <td>-73.983070</td>\n",
       "      <td>69.000000</td>\n",
       "      <td>1.000000</td>\n",
       "      <td>1.000000</td>\n",
       "      <td>0.190000</td>\n",
       "      <td>1.000000</td>\n",
       "      <td>0.000000</td>\n",
       "    </tr>\n",
       "    <tr>\n",
       "      <th>50%</th>\n",
       "      <td>1.967728e+07</td>\n",
       "      <td>3.079382e+07</td>\n",
       "      <td>40.723070</td>\n",
       "      <td>-73.955680</td>\n",
       "      <td>106.000000</td>\n",
       "      <td>3.000000</td>\n",
       "      <td>5.000000</td>\n",
       "      <td>0.720000</td>\n",
       "      <td>1.000000</td>\n",
       "      <td>45.000000</td>\n",
       "    </tr>\n",
       "    <tr>\n",
       "      <th>75%</th>\n",
       "      <td>2.915218e+07</td>\n",
       "      <td>1.074344e+08</td>\n",
       "      <td>40.763115</td>\n",
       "      <td>-73.936275</td>\n",
       "      <td>175.000000</td>\n",
       "      <td>5.000000</td>\n",
       "      <td>24.000000</td>\n",
       "      <td>2.020000</td>\n",
       "      <td>2.000000</td>\n",
       "      <td>227.000000</td>\n",
       "    </tr>\n",
       "    <tr>\n",
       "      <th>max</th>\n",
       "      <td>3.648724e+07</td>\n",
       "      <td>2.743213e+08</td>\n",
       "      <td>40.913060</td>\n",
       "      <td>-73.712990</td>\n",
       "      <td>10000.000000</td>\n",
       "      <td>1250.000000</td>\n",
       "      <td>629.000000</td>\n",
       "      <td>58.500000</td>\n",
       "      <td>327.000000</td>\n",
       "      <td>365.000000</td>\n",
       "    </tr>\n",
       "  </tbody>\n",
       "</table>\n",
       "</div>"
      ],
      "text/plain": [
       "                 id       host_id      latitude     longitude         price  \\\n",
       "count  4.889500e+04  4.889500e+04  48895.000000  48895.000000  48895.000000   \n",
       "mean   1.901714e+07  6.762001e+07     40.728949    -73.952170    152.720687   \n",
       "std    1.098311e+07  7.861097e+07      0.054530      0.046157    240.154170   \n",
       "min    2.539000e+03  2.438000e+03     40.499790    -74.244420      0.000000   \n",
       "25%    9.471945e+06  7.822033e+06     40.690100    -73.983070     69.000000   \n",
       "50%    1.967728e+07  3.079382e+07     40.723070    -73.955680    106.000000   \n",
       "75%    2.915218e+07  1.074344e+08     40.763115    -73.936275    175.000000   \n",
       "max    3.648724e+07  2.743213e+08     40.913060    -73.712990  10000.000000   \n",
       "\n",
       "       minimum_nights  number_of_reviews  reviews_per_month  \\\n",
       "count    48895.000000       48895.000000       38843.000000   \n",
       "mean         7.029962          23.274466           1.373221   \n",
       "std         20.510550          44.550582           1.680442   \n",
       "min          1.000000           0.000000           0.010000   \n",
       "25%          1.000000           1.000000           0.190000   \n",
       "50%          3.000000           5.000000           0.720000   \n",
       "75%          5.000000          24.000000           2.020000   \n",
       "max       1250.000000         629.000000          58.500000   \n",
       "\n",
       "       calculated_host_listings_count  availability_365  \n",
       "count                    48895.000000      48895.000000  \n",
       "mean                         7.143982        112.781327  \n",
       "std                         32.952519        131.622289  \n",
       "min                          1.000000          0.000000  \n",
       "25%                          1.000000          0.000000  \n",
       "50%                          1.000000         45.000000  \n",
       "75%                          2.000000        227.000000  \n",
       "max                        327.000000        365.000000  "
      ]
     },
     "execution_count": 4,
     "metadata": {},
     "output_type": "execute_result"
    }
   ],
   "source": [
    "#print the main numerical information of noncategorical columns\n",
    "data.describe()\n",
    "#we can find that id , host_id , latitude, longitude don not have big effect so we will benefit from price at most ways and how other columns can effect him"
   ]
  },
  {
   "cell_type": "code",
   "execution_count": 5,
   "id": "e85ba52d",
   "metadata": {
    "execution": {
     "iopub.execute_input": "2024-07-08T23:10:18.758691Z",
     "iopub.status.busy": "2024-07-08T23:10:18.757720Z",
     "iopub.status.idle": "2024-07-08T23:10:18.854764Z",
     "shell.execute_reply": "2024-07-08T23:10:18.853531Z"
    },
    "papermill": {
     "duration": 0.111061,
     "end_time": "2024-07-08T23:10:18.857348",
     "exception": false,
     "start_time": "2024-07-08T23:10:18.746287",
     "status": "completed"
    },
    "tags": []
   },
   "outputs": [
    {
     "data": {
      "text/html": [
       "<div>\n",
       "<style scoped>\n",
       "    .dataframe tbody tr th:only-of-type {\n",
       "        vertical-align: middle;\n",
       "    }\n",
       "\n",
       "    .dataframe tbody tr th {\n",
       "        vertical-align: top;\n",
       "    }\n",
       "\n",
       "    .dataframe thead th {\n",
       "        text-align: right;\n",
       "    }\n",
       "</style>\n",
       "<table border=\"1\" class=\"dataframe\">\n",
       "  <thead>\n",
       "    <tr style=\"text-align: right;\">\n",
       "      <th></th>\n",
       "      <th>name</th>\n",
       "      <th>host_name</th>\n",
       "      <th>neighbourhood_group</th>\n",
       "      <th>neighbourhood</th>\n",
       "      <th>room_type</th>\n",
       "      <th>last_review</th>\n",
       "    </tr>\n",
       "  </thead>\n",
       "  <tbody>\n",
       "    <tr>\n",
       "      <th>count</th>\n",
       "      <td>48879</td>\n",
       "      <td>48874</td>\n",
       "      <td>48895</td>\n",
       "      <td>48895</td>\n",
       "      <td>48895</td>\n",
       "      <td>38843</td>\n",
       "    </tr>\n",
       "    <tr>\n",
       "      <th>unique</th>\n",
       "      <td>47905</td>\n",
       "      <td>11452</td>\n",
       "      <td>5</td>\n",
       "      <td>221</td>\n",
       "      <td>3</td>\n",
       "      <td>1764</td>\n",
       "    </tr>\n",
       "    <tr>\n",
       "      <th>top</th>\n",
       "      <td>Hillside Hotel</td>\n",
       "      <td>Michael</td>\n",
       "      <td>Manhattan</td>\n",
       "      <td>Williamsburg</td>\n",
       "      <td>Entire home/apt</td>\n",
       "      <td>2019-06-23</td>\n",
       "    </tr>\n",
       "    <tr>\n",
       "      <th>freq</th>\n",
       "      <td>18</td>\n",
       "      <td>417</td>\n",
       "      <td>21661</td>\n",
       "      <td>3920</td>\n",
       "      <td>25409</td>\n",
       "      <td>1413</td>\n",
       "    </tr>\n",
       "  </tbody>\n",
       "</table>\n",
       "</div>"
      ],
      "text/plain": [
       "                  name host_name neighbourhood_group neighbourhood  \\\n",
       "count            48879     48874               48895         48895   \n",
       "unique           47905     11452                   5           221   \n",
       "top     Hillside Hotel   Michael           Manhattan  Williamsburg   \n",
       "freq                18       417               21661          3920   \n",
       "\n",
       "              room_type last_review  \n",
       "count             48895       38843  \n",
       "unique                3        1764  \n",
       "top     Entire home/apt  2019-06-23  \n",
       "freq              25409        1413  "
      ]
     },
     "execution_count": 5,
     "metadata": {},
     "output_type": "execute_result"
    }
   ],
   "source": [
    "#print the main information about categorical data\n",
    "data.describe(include = 'object')"
   ]
  },
  {
   "cell_type": "code",
   "execution_count": 6,
   "id": "0a995ecb",
   "metadata": {
    "execution": {
     "iopub.execute_input": "2024-07-08T23:10:18.880225Z",
     "iopub.status.busy": "2024-07-08T23:10:18.879843Z",
     "iopub.status.idle": "2024-07-08T23:10:18.905274Z",
     "shell.execute_reply": "2024-07-08T23:10:18.904098Z"
    },
    "papermill": {
     "duration": 0.040062,
     "end_time": "2024-07-08T23:10:18.907921",
     "exception": false,
     "start_time": "2024-07-08T23:10:18.867859",
     "status": "completed"
    },
    "tags": []
   },
   "outputs": [
    {
     "data": {
      "text/plain": [
       "id                                 0.000000\n",
       "name                               0.032723\n",
       "host_id                            0.000000\n",
       "host_name                          0.042949\n",
       "neighbourhood_group                0.000000\n",
       "neighbourhood                      0.000000\n",
       "latitude                           0.000000\n",
       "longitude                          0.000000\n",
       "room_type                          0.000000\n",
       "price                              0.000000\n",
       "minimum_nights                     0.000000\n",
       "number_of_reviews                  0.000000\n",
       "last_review                       20.558339\n",
       "reviews_per_month                 20.558339\n",
       "calculated_host_listings_count     0.000000\n",
       "availability_365                   0.000000\n",
       "dtype: float64"
      ]
     },
     "execution_count": 6,
     "metadata": {},
     "output_type": "execute_result"
    }
   ],
   "source": [
    "#print the number of missing values of the data\n",
    "data.isnull().mean()*100\n",
    "#missing values are at: name, host_name, last_review, reviews_per_month"
   ]
  },
  {
   "cell_type": "code",
   "execution_count": 7,
   "id": "67911939",
   "metadata": {
    "execution": {
     "iopub.execute_input": "2024-07-08T23:10:18.932473Z",
     "iopub.status.busy": "2024-07-08T23:10:18.932055Z",
     "iopub.status.idle": "2024-07-08T23:10:18.951457Z",
     "shell.execute_reply": "2024-07-08T23:10:18.950254Z"
    },
    "papermill": {
     "duration": 0.034043,
     "end_time": "2024-07-08T23:10:18.954034",
     "exception": false,
     "start_time": "2024-07-08T23:10:18.919991",
     "status": "completed"
    },
    "tags": []
   },
   "outputs": [
    {
     "data": {
      "text/plain": [
       "host_id\n",
       "219517861    327\n",
       "107434423    232\n",
       "30283594     121\n",
       "137358866    103\n",
       "16098958      96\n",
       "12243051      96\n",
       "61391963      91\n",
       "22541573      87\n",
       "200380610     65\n",
       "7503643       52\n",
       "Name: count, dtype: int64"
      ]
     },
     "execution_count": 7,
     "metadata": {},
     "output_type": "execute_result"
    }
   ],
   "source": [
    "#can be used to the most attractive host \n",
    "data['host_id'].value_counts().nlargest(10)"
   ]
  },
  {
   "cell_type": "code",
   "execution_count": 8,
   "id": "a4a97137",
   "metadata": {
    "execution": {
     "iopub.execute_input": "2024-07-08T23:10:18.978484Z",
     "iopub.status.busy": "2024-07-08T23:10:18.978085Z",
     "iopub.status.idle": "2024-07-08T23:10:18.990028Z",
     "shell.execute_reply": "2024-07-08T23:10:18.988878Z"
    },
    "papermill": {
     "duration": 0.027602,
     "end_time": "2024-07-08T23:10:18.992471",
     "exception": false,
     "start_time": "2024-07-08T23:10:18.964869",
     "status": "completed"
    },
    "tags": []
   },
   "outputs": [
    {
     "data": {
      "text/plain": [
       "1593         Bethania\n",
       "16137             Nat\n",
       "29687        Svetlana\n",
       "14813          Iliana\n",
       "43739    Sonder (NYC)\n",
       "Name: host_name, dtype: object"
      ]
     },
     "execution_count": 8,
     "metadata": {},
     "output_type": "execute_result"
    }
   ],
   "source": [
    "#we can here determine that they are just names that do not have a big effect in analysis\n",
    "#they are useful in just the way of past cell\n",
    "data['host_name'].sample(5)"
   ]
  },
  {
   "cell_type": "code",
   "execution_count": 9,
   "id": "0cdcc1a7",
   "metadata": {
    "execution": {
     "iopub.execute_input": "2024-07-08T23:10:19.018105Z",
     "iopub.status.busy": "2024-07-08T23:10:19.017247Z",
     "iopub.status.idle": "2024-07-08T23:10:19.027432Z",
     "shell.execute_reply": "2024-07-08T23:10:19.026338Z"
    },
    "papermill": {
     "duration": 0.026067,
     "end_time": "2024-07-08T23:10:19.030018",
     "exception": false,
     "start_time": "2024-07-08T23:10:19.003951",
     "status": "completed"
    },
    "tags": []
   },
   "outputs": [
    {
     "data": {
      "text/plain": [
       "23893                 Top of the Heights Harlem Duplex!\n",
       "4590     Chic Designer’s Room & 2 Beds in Manhattan LES\n",
       "8922                 Perfect, 1 block from Central Park\n",
       "11720                Cozy Upper East Side 1 bedroom apt\n",
       "32444          Small, cosy room for the solo traveler!!\n",
       "Name: name, dtype: object"
      ]
     },
     "execution_count": 9,
     "metadata": {},
     "output_type": "execute_result"
    }
   ],
   "source": [
    "#it is a way of advertisement of the hosting place which is may be used in determining the effective one\n",
    "data['name'].sample(5)"
   ]
  },
  {
   "cell_type": "markdown",
   "id": "d2c790fb",
   "metadata": {
    "papermill": {
     "duration": 0.010937,
     "end_time": "2024-07-08T23:10:19.052752",
     "exception": false,
     "start_time": "2024-07-08T23:10:19.041815",
     "status": "completed"
    },
    "tags": []
   },
   "source": [
    "# Handling missing values"
   ]
  },
  {
   "cell_type": "code",
   "execution_count": 10,
   "id": "0077e373",
   "metadata": {
    "execution": {
     "iopub.execute_input": "2024-07-08T23:10:19.077709Z",
     "iopub.status.busy": "2024-07-08T23:10:19.077294Z",
     "iopub.status.idle": "2024-07-08T23:10:19.086569Z",
     "shell.execute_reply": "2024-07-08T23:10:19.085307Z"
    },
    "papermill": {
     "duration": 0.024686,
     "end_time": "2024-07-08T23:10:19.088881",
     "exception": false,
     "start_time": "2024-07-08T23:10:19.064195",
     "status": "completed"
    },
    "tags": []
   },
   "outputs": [
    {
     "data": {
      "text/plain": [
       "array(['2018-10-19', '2019-05-21', nan, ..., '2017-12-23', '2018-01-29',\n",
       "       '2018-03-29'], dtype=object)"
      ]
     },
     "execution_count": 10,
     "metadata": {},
     "output_type": "execute_result"
    }
   ],
   "source": [
    "#a column with string data type of date \n",
    "data['last_review'].unique()"
   ]
  },
  {
   "cell_type": "code",
   "execution_count": 11,
   "id": "dc11a73d",
   "metadata": {
    "execution": {
     "iopub.execute_input": "2024-07-08T23:10:19.115240Z",
     "iopub.status.busy": "2024-07-08T23:10:19.114835Z",
     "iopub.status.idle": "2024-07-08T23:10:19.124801Z",
     "shell.execute_reply": "2024-07-08T23:10:19.123521Z"
    },
    "papermill": {
     "duration": 0.02667,
     "end_time": "2024-07-08T23:10:19.127328",
     "exception": false,
     "start_time": "2024-07-08T23:10:19.100658",
     "status": "completed"
    },
    "tags": []
   },
   "outputs": [
    {
     "data": {
      "text/plain": [
       "10052"
      ]
     },
     "execution_count": 11,
     "metadata": {},
     "output_type": "execute_result"
    }
   ],
   "source": [
    "data['last_review'].isnull().sum()"
   ]
  },
  {
   "cell_type": "markdown",
   "id": "e066ebd1",
   "metadata": {
    "papermill": {
     "duration": 0.010981,
     "end_time": "2024-07-08T23:10:19.149588",
     "exception": false,
     "start_time": "2024-07-08T23:10:19.138607",
     "status": "completed"
    },
    "tags": []
   },
   "source": [
    "# Pandas Profiling"
   ]
  },
  {
   "cell_type": "markdown",
   "id": "7dfa7b74",
   "metadata": {
    "execution": {
     "iopub.execute_input": "2024-07-08T22:34:27.168915Z",
     "iopub.status.busy": "2024-07-08T22:34:27.168507Z",
     "iopub.status.idle": "2024-07-08T22:34:30.435926Z",
     "shell.execute_reply": "2024-07-08T22:34:30.434500Z",
     "shell.execute_reply.started": "2024-07-08T22:34:27.168882Z"
    },
    "papermill": {
     "duration": 0.011939,
     "end_time": "2024-07-08T23:10:19.172953",
     "exception": false,
     "start_time": "2024-07-08T23:10:19.161014",
     "status": "completed"
    },
    "tags": []
   },
   "source": [
    "!pip install pandas-profiling"
   ]
  },
  {
   "cell_type": "markdown",
   "id": "51466980",
   "metadata": {
    "execution": {
     "iopub.execute_input": "2024-07-08T22:49:39.534216Z",
     "iopub.status.busy": "2024-07-08T22:49:39.533798Z",
     "iopub.status.idle": "2024-07-08T22:49:39.769870Z",
     "shell.execute_reply": "2024-07-08T22:49:39.767531Z",
     "shell.execute_reply.started": "2024-07-08T22:49:39.534170Z"
    },
    "papermill": {
     "duration": 0.011581,
     "end_time": "2024-07-08T23:10:19.195882",
     "exception": false,
     "start_time": "2024-07-08T23:10:19.184301",
     "status": "completed"
    },
    "tags": []
   },
   "source": [
    "import pandas_profiling\n",
    "profile = pandas_profiling.ProfileReport(df)\n",
    "profile.to_file(output_file=\"Air_bnb.html\")"
   ]
  },
  {
   "cell_type": "markdown",
   "id": "e633a074",
   "metadata": {
    "papermill": {
     "duration": 0.011401,
     "end_time": "2024-07-08T23:10:19.218583",
     "exception": false,
     "start_time": "2024-07-08T23:10:19.207182",
     "status": "completed"
    },
    "tags": []
   },
   "source": [
    "# Neighbourhood Anlysis"
   ]
  },
  {
   "cell_type": "code",
   "execution_count": 12,
   "id": "42407ae6",
   "metadata": {
    "execution": {
     "iopub.execute_input": "2024-07-08T23:10:19.242728Z",
     "iopub.status.busy": "2024-07-08T23:10:19.242297Z",
     "iopub.status.idle": "2024-07-08T23:10:19.252540Z",
     "shell.execute_reply": "2024-07-08T23:10:19.251393Z"
    },
    "papermill": {
     "duration": 0.024946,
     "end_time": "2024-07-08T23:10:19.254786",
     "exception": false,
     "start_time": "2024-07-08T23:10:19.229840",
     "status": "completed"
    },
    "tags": []
   },
   "outputs": [
    {
     "data": {
      "text/plain": [
       "array(['Brooklyn', 'Manhattan', 'Queens', 'Staten Island', 'Bronx'],\n",
       "      dtype=object)"
      ]
     },
     "execution_count": 12,
     "metadata": {},
     "output_type": "execute_result"
    }
   ],
   "source": [
    "#get the unique values of neighbourhood_group\n",
    "data['neighbourhood_group'].unique() "
   ]
  },
  {
   "cell_type": "code",
   "execution_count": 13,
   "id": "d896e624",
   "metadata": {
    "execution": {
     "iopub.execute_input": "2024-07-08T23:10:19.279348Z",
     "iopub.status.busy": "2024-07-08T23:10:19.278956Z",
     "iopub.status.idle": "2024-07-08T23:10:19.296635Z",
     "shell.execute_reply": "2024-07-08T23:10:19.295437Z"
    },
    "papermill": {
     "duration": 0.033112,
     "end_time": "2024-07-08T23:10:19.299295",
     "exception": false,
     "start_time": "2024-07-08T23:10:19.266183",
     "status": "completed"
    },
    "tags": []
   },
   "outputs": [
    {
     "data": {
      "text/plain": [
       "(5, 221, 3)"
      ]
     },
     "execution_count": 13,
     "metadata": {},
     "output_type": "execute_result"
    }
   ],
   "source": [
    "# the number of unique values of the columns \n",
    "data['neighbourhood_group'].nunique() , data['neighbourhood'].nunique(), data['room_type'].nunique()"
   ]
  },
  {
   "cell_type": "code",
   "execution_count": 14,
   "id": "e35d0676",
   "metadata": {
    "execution": {
     "iopub.execute_input": "2024-07-08T23:10:19.325685Z",
     "iopub.status.busy": "2024-07-08T23:10:19.324397Z",
     "iopub.status.idle": "2024-07-08T23:10:21.953839Z",
     "shell.execute_reply": "2024-07-08T23:10:21.950615Z"
    },
    "papermill": {
     "duration": 2.646461,
     "end_time": "2024-07-08T23:10:21.957764",
     "exception": false,
     "start_time": "2024-07-08T23:10:19.311303",
     "status": "completed"
    },
    "tags": []
   },
   "outputs": [
    {
     "data": {
      "text/html": [
       "        <script type=\"text/javascript\">\n",
       "        window.PlotlyConfig = {MathJaxConfig: 'local'};\n",
       "        if (window.MathJax && window.MathJax.Hub && window.MathJax.Hub.Config) {window.MathJax.Hub.Config({SVG: {font: \"STIX-Web\"}});}\n",
       "        if (typeof require !== 'undefined') {\n",
       "        require.undef(\"plotly\");\n",
       "        requirejs.config({\n",
       "            paths: {\n",
       "                'plotly': ['https://cdn.plot.ly/plotly-2.27.0.min']\n",
       "            }\n",
       "        });\n",
       "        require(['plotly'], function(Plotly) {\n",
       "            window._Plotly = Plotly;\n",
       "        });\n",
       "        }\n",
       "        </script>\n",
       "        "
      ]
     },
     "metadata": {},
     "output_type": "display_data"
    },
    {
     "data": {
      "text/html": [
       "<div>                            <div id=\"2dd631ff-3c2b-4189-a019-9e9d0482ceaa\" class=\"plotly-graph-div\" style=\"height:525px; width:100%;\"></div>            <script type=\"text/javascript\">                require([\"plotly\"], function(Plotly) {                    window.PLOTLYENV=window.PLOTLYENV || {};                                    if (document.getElementById(\"2dd631ff-3c2b-4189-a019-9e9d0482ceaa\")) {                    Plotly.newPlot(                        \"2dd631ff-3c2b-4189-a019-9e9d0482ceaa\",                        [{\"domain\":{\"x\":[0.0,1.0],\"y\":[0.0,1.0]},\"hovertemplate\":\"neighbourhood_group=%{label}\\u003cbr\\u003evalue=%{value}\\u003cextra\\u003e\\u003c\\u002fextra\\u003e\",\"labels\":[\"Manhattan\",\"Brooklyn\",\"Queens\",\"Bronx\",\"Staten Island\"],\"legendgroup\":\"\",\"name\":\"\",\"showlegend\":true,\"values\":[0.4430105327743123,0.41116678596993556,0.11588096942427652,0.022313119950915228,0.007628591880560385],\"type\":\"pie\"}],                        {\"template\":{\"data\":{\"histogram2dcontour\":[{\"type\":\"histogram2dcontour\",\"colorbar\":{\"outlinewidth\":0,\"ticks\":\"\"},\"colorscale\":[[0.0,\"#0d0887\"],[0.1111111111111111,\"#46039f\"],[0.2222222222222222,\"#7201a8\"],[0.3333333333333333,\"#9c179e\"],[0.4444444444444444,\"#bd3786\"],[0.5555555555555556,\"#d8576b\"],[0.6666666666666666,\"#ed7953\"],[0.7777777777777778,\"#fb9f3a\"],[0.8888888888888888,\"#fdca26\"],[1.0,\"#f0f921\"]]}],\"choropleth\":[{\"type\":\"choropleth\",\"colorbar\":{\"outlinewidth\":0,\"ticks\":\"\"}}],\"histogram2d\":[{\"type\":\"histogram2d\",\"colorbar\":{\"outlinewidth\":0,\"ticks\":\"\"},\"colorscale\":[[0.0,\"#0d0887\"],[0.1111111111111111,\"#46039f\"],[0.2222222222222222,\"#7201a8\"],[0.3333333333333333,\"#9c179e\"],[0.4444444444444444,\"#bd3786\"],[0.5555555555555556,\"#d8576b\"],[0.6666666666666666,\"#ed7953\"],[0.7777777777777778,\"#fb9f3a\"],[0.8888888888888888,\"#fdca26\"],[1.0,\"#f0f921\"]]}],\"heatmap\":[{\"type\":\"heatmap\",\"colorbar\":{\"outlinewidth\":0,\"ticks\":\"\"},\"colorscale\":[[0.0,\"#0d0887\"],[0.1111111111111111,\"#46039f\"],[0.2222222222222222,\"#7201a8\"],[0.3333333333333333,\"#9c179e\"],[0.4444444444444444,\"#bd3786\"],[0.5555555555555556,\"#d8576b\"],[0.6666666666666666,\"#ed7953\"],[0.7777777777777778,\"#fb9f3a\"],[0.8888888888888888,\"#fdca26\"],[1.0,\"#f0f921\"]]}],\"heatmapgl\":[{\"type\":\"heatmapgl\",\"colorbar\":{\"outlinewidth\":0,\"ticks\":\"\"},\"colorscale\":[[0.0,\"#0d0887\"],[0.1111111111111111,\"#46039f\"],[0.2222222222222222,\"#7201a8\"],[0.3333333333333333,\"#9c179e\"],[0.4444444444444444,\"#bd3786\"],[0.5555555555555556,\"#d8576b\"],[0.6666666666666666,\"#ed7953\"],[0.7777777777777778,\"#fb9f3a\"],[0.8888888888888888,\"#fdca26\"],[1.0,\"#f0f921\"]]}],\"contourcarpet\":[{\"type\":\"contourcarpet\",\"colorbar\":{\"outlinewidth\":0,\"ticks\":\"\"}}],\"contour\":[{\"type\":\"contour\",\"colorbar\":{\"outlinewidth\":0,\"ticks\":\"\"},\"colorscale\":[[0.0,\"#0d0887\"],[0.1111111111111111,\"#46039f\"],[0.2222222222222222,\"#7201a8\"],[0.3333333333333333,\"#9c179e\"],[0.4444444444444444,\"#bd3786\"],[0.5555555555555556,\"#d8576b\"],[0.6666666666666666,\"#ed7953\"],[0.7777777777777778,\"#fb9f3a\"],[0.8888888888888888,\"#fdca26\"],[1.0,\"#f0f921\"]]}],\"surface\":[{\"type\":\"surface\",\"colorbar\":{\"outlinewidth\":0,\"ticks\":\"\"},\"colorscale\":[[0.0,\"#0d0887\"],[0.1111111111111111,\"#46039f\"],[0.2222222222222222,\"#7201a8\"],[0.3333333333333333,\"#9c179e\"],[0.4444444444444444,\"#bd3786\"],[0.5555555555555556,\"#d8576b\"],[0.6666666666666666,\"#ed7953\"],[0.7777777777777778,\"#fb9f3a\"],[0.8888888888888888,\"#fdca26\"],[1.0,\"#f0f921\"]]}],\"mesh3d\":[{\"type\":\"mesh3d\",\"colorbar\":{\"outlinewidth\":0,\"ticks\":\"\"}}],\"scatter\":[{\"fillpattern\":{\"fillmode\":\"overlay\",\"size\":10,\"solidity\":0.2},\"type\":\"scatter\"}],\"parcoords\":[{\"type\":\"parcoords\",\"line\":{\"colorbar\":{\"outlinewidth\":0,\"ticks\":\"\"}}}],\"scatterpolargl\":[{\"type\":\"scatterpolargl\",\"marker\":{\"colorbar\":{\"outlinewidth\":0,\"ticks\":\"\"}}}],\"bar\":[{\"error_x\":{\"color\":\"#2a3f5f\"},\"error_y\":{\"color\":\"#2a3f5f\"},\"marker\":{\"line\":{\"color\":\"#E5ECF6\",\"width\":0.5},\"pattern\":{\"fillmode\":\"overlay\",\"size\":10,\"solidity\":0.2}},\"type\":\"bar\"}],\"scattergeo\":[{\"type\":\"scattergeo\",\"marker\":{\"colorbar\":{\"outlinewidth\":0,\"ticks\":\"\"}}}],\"scatterpolar\":[{\"type\":\"scatterpolar\",\"marker\":{\"colorbar\":{\"outlinewidth\":0,\"ticks\":\"\"}}}],\"histogram\":[{\"marker\":{\"pattern\":{\"fillmode\":\"overlay\",\"size\":10,\"solidity\":0.2}},\"type\":\"histogram\"}],\"scattergl\":[{\"type\":\"scattergl\",\"marker\":{\"colorbar\":{\"outlinewidth\":0,\"ticks\":\"\"}}}],\"scatter3d\":[{\"type\":\"scatter3d\",\"line\":{\"colorbar\":{\"outlinewidth\":0,\"ticks\":\"\"}},\"marker\":{\"colorbar\":{\"outlinewidth\":0,\"ticks\":\"\"}}}],\"scattermapbox\":[{\"type\":\"scattermapbox\",\"marker\":{\"colorbar\":{\"outlinewidth\":0,\"ticks\":\"\"}}}],\"scatterternary\":[{\"type\":\"scatterternary\",\"marker\":{\"colorbar\":{\"outlinewidth\":0,\"ticks\":\"\"}}}],\"scattercarpet\":[{\"type\":\"scattercarpet\",\"marker\":{\"colorbar\":{\"outlinewidth\":0,\"ticks\":\"\"}}}],\"carpet\":[{\"aaxis\":{\"endlinecolor\":\"#2a3f5f\",\"gridcolor\":\"white\",\"linecolor\":\"white\",\"minorgridcolor\":\"white\",\"startlinecolor\":\"#2a3f5f\"},\"baxis\":{\"endlinecolor\":\"#2a3f5f\",\"gridcolor\":\"white\",\"linecolor\":\"white\",\"minorgridcolor\":\"white\",\"startlinecolor\":\"#2a3f5f\"},\"type\":\"carpet\"}],\"table\":[{\"cells\":{\"fill\":{\"color\":\"#EBF0F8\"},\"line\":{\"color\":\"white\"}},\"header\":{\"fill\":{\"color\":\"#C8D4E3\"},\"line\":{\"color\":\"white\"}},\"type\":\"table\"}],\"barpolar\":[{\"marker\":{\"line\":{\"color\":\"#E5ECF6\",\"width\":0.5},\"pattern\":{\"fillmode\":\"overlay\",\"size\":10,\"solidity\":0.2}},\"type\":\"barpolar\"}],\"pie\":[{\"automargin\":true,\"type\":\"pie\"}]},\"layout\":{\"autotypenumbers\":\"strict\",\"colorway\":[\"#636efa\",\"#EF553B\",\"#00cc96\",\"#ab63fa\",\"#FFA15A\",\"#19d3f3\",\"#FF6692\",\"#B6E880\",\"#FF97FF\",\"#FECB52\"],\"font\":{\"color\":\"#2a3f5f\"},\"hovermode\":\"closest\",\"hoverlabel\":{\"align\":\"left\"},\"paper_bgcolor\":\"white\",\"plot_bgcolor\":\"#E5ECF6\",\"polar\":{\"bgcolor\":\"#E5ECF6\",\"angularaxis\":{\"gridcolor\":\"white\",\"linecolor\":\"white\",\"ticks\":\"\"},\"radialaxis\":{\"gridcolor\":\"white\",\"linecolor\":\"white\",\"ticks\":\"\"}},\"ternary\":{\"bgcolor\":\"#E5ECF6\",\"aaxis\":{\"gridcolor\":\"white\",\"linecolor\":\"white\",\"ticks\":\"\"},\"baxis\":{\"gridcolor\":\"white\",\"linecolor\":\"white\",\"ticks\":\"\"},\"caxis\":{\"gridcolor\":\"white\",\"linecolor\":\"white\",\"ticks\":\"\"}},\"coloraxis\":{\"colorbar\":{\"outlinewidth\":0,\"ticks\":\"\"}},\"colorscale\":{\"sequential\":[[0.0,\"#0d0887\"],[0.1111111111111111,\"#46039f\"],[0.2222222222222222,\"#7201a8\"],[0.3333333333333333,\"#9c179e\"],[0.4444444444444444,\"#bd3786\"],[0.5555555555555556,\"#d8576b\"],[0.6666666666666666,\"#ed7953\"],[0.7777777777777778,\"#fb9f3a\"],[0.8888888888888888,\"#fdca26\"],[1.0,\"#f0f921\"]],\"sequentialminus\":[[0.0,\"#0d0887\"],[0.1111111111111111,\"#46039f\"],[0.2222222222222222,\"#7201a8\"],[0.3333333333333333,\"#9c179e\"],[0.4444444444444444,\"#bd3786\"],[0.5555555555555556,\"#d8576b\"],[0.6666666666666666,\"#ed7953\"],[0.7777777777777778,\"#fb9f3a\"],[0.8888888888888888,\"#fdca26\"],[1.0,\"#f0f921\"]],\"diverging\":[[0,\"#8e0152\"],[0.1,\"#c51b7d\"],[0.2,\"#de77ae\"],[0.3,\"#f1b6da\"],[0.4,\"#fde0ef\"],[0.5,\"#f7f7f7\"],[0.6,\"#e6f5d0\"],[0.7,\"#b8e186\"],[0.8,\"#7fbc41\"],[0.9,\"#4d9221\"],[1,\"#276419\"]]},\"xaxis\":{\"gridcolor\":\"white\",\"linecolor\":\"white\",\"ticks\":\"\",\"title\":{\"standoff\":15},\"zerolinecolor\":\"white\",\"automargin\":true,\"zerolinewidth\":2},\"yaxis\":{\"gridcolor\":\"white\",\"linecolor\":\"white\",\"ticks\":\"\",\"title\":{\"standoff\":15},\"zerolinecolor\":\"white\",\"automargin\":true,\"zerolinewidth\":2},\"scene\":{\"xaxis\":{\"backgroundcolor\":\"#E5ECF6\",\"gridcolor\":\"white\",\"linecolor\":\"white\",\"showbackground\":true,\"ticks\":\"\",\"zerolinecolor\":\"white\",\"gridwidth\":2},\"yaxis\":{\"backgroundcolor\":\"#E5ECF6\",\"gridcolor\":\"white\",\"linecolor\":\"white\",\"showbackground\":true,\"ticks\":\"\",\"zerolinecolor\":\"white\",\"gridwidth\":2},\"zaxis\":{\"backgroundcolor\":\"#E5ECF6\",\"gridcolor\":\"white\",\"linecolor\":\"white\",\"showbackground\":true,\"ticks\":\"\",\"zerolinecolor\":\"white\",\"gridwidth\":2}},\"shapedefaults\":{\"line\":{\"color\":\"#2a3f5f\"}},\"annotationdefaults\":{\"arrowcolor\":\"#2a3f5f\",\"arrowhead\":0,\"arrowwidth\":1},\"geo\":{\"bgcolor\":\"white\",\"landcolor\":\"#E5ECF6\",\"subunitcolor\":\"white\",\"showland\":true,\"showlakes\":true,\"lakecolor\":\"white\"},\"title\":{\"x\":0.05},\"mapbox\":{\"style\":\"light\"}}},\"legend\":{\"tracegroupgap\":0},\"title\":{\"text\":\"Neighbourhood Group\"}},                        {\"responsive\": true}                    ).then(function(){\n",
       "                            \n",
       "var gd = document.getElementById('2dd631ff-3c2b-4189-a019-9e9d0482ceaa');\n",
       "var x = new MutationObserver(function (mutations, observer) {{\n",
       "        var display = window.getComputedStyle(gd).display;\n",
       "        if (!display || display === 'none') {{\n",
       "            console.log([gd, 'removed!']);\n",
       "            Plotly.purge(gd);\n",
       "            observer.disconnect();\n",
       "        }}\n",
       "}});\n",
       "\n",
       "// Listen for the removal of the full notebook cells\n",
       "var notebookContainer = gd.closest('#notebook-container');\n",
       "if (notebookContainer) {{\n",
       "    x.observe(notebookContainer, {childList: true});\n",
       "}}\n",
       "\n",
       "// Listen for the clearing of the current output cell\n",
       "var outputEl = gd.closest('.output');\n",
       "if (outputEl) {{\n",
       "    x.observe(outputEl, {childList: true});\n",
       "}}\n",
       "\n",
       "                        })                };                });            </script>        </div>"
      ]
     },
     "metadata": {},
     "output_type": "display_data"
    }
   ],
   "source": [
    "# visualize a pie chart of neighbourhood_group\n",
    "# we have to convert to a percent so we used normalize = True\n",
    "import plotly.express as px\n",
    "percent = data['neighbourhood_group'].value_counts(normalize = True)\n",
    "px.pie(percent, values=percent.values, names=percent.index, title='Neighbourhood Group')"
   ]
  },
  {
   "cell_type": "code",
   "execution_count": 15,
   "id": "31087d0d",
   "metadata": {
    "execution": {
     "iopub.execute_input": "2024-07-08T23:10:21.985458Z",
     "iopub.status.busy": "2024-07-08T23:10:21.984380Z",
     "iopub.status.idle": "2024-07-08T23:10:24.696374Z",
     "shell.execute_reply": "2024-07-08T23:10:24.695172Z"
    },
    "papermill": {
     "duration": 2.728828,
     "end_time": "2024-07-08T23:10:24.699031",
     "exception": false,
     "start_time": "2024-07-08T23:10:21.970203",
     "status": "completed"
    },
    "tags": []
   },
   "outputs": [
    {
     "data": {
      "image/png": "[encoded data removed]",
      "text/plain": [
       "<Figure size 640x480 with 1 Axes>"
      ]
     },
     "metadata": {},
     "output_type": "display_data"
    }
   ],
   "source": [
    "# visualize barplot of neighbourhood_group with price and different room_type\n",
    "import seaborn as sns\n",
    "sns.barplot(x='neighbourhood_group', y ='price', hue ='room_type', data = data, order=data.neighbourhood_group.value_counts().index);"
   ]
  },
  {
   "cell_type": "code",
   "execution_count": 16,
   "id": "4635eb0c",
   "metadata": {
    "execution": {
     "iopub.execute_input": "2024-07-08T23:10:24.725954Z",
     "iopub.status.busy": "2024-07-08T23:10:24.725528Z",
     "iopub.status.idle": "2024-07-08T23:10:26.332993Z",
     "shell.execute_reply": "2024-07-08T23:10:26.331851Z"
    },
    "papermill": {
     "duration": 1.623728,
     "end_time": "2024-07-08T23:10:26.335310",
     "exception": false,
     "start_time": "2024-07-08T23:10:24.711582",
     "status": "completed"
    },
    "tags": []
   },
   "outputs": [
    {
     "data": {
      "image/png": "[encoded data removed]",
      "text/plain": [
       "<Figure size 1800x400 with 3 Axes>"
      ]
     },
     "metadata": {},
     "output_type": "display_data"
    }
   ],
   "source": [
    "# same as pas visualize but make it mre readable for evry room type\n",
    "grid = sns.FacetGrid(data, col='room_type', height=4, aspect=1.5, palette='Set1') \n",
    "grid.map(sns.barplot, 'neighbourhood_group', 'price', order=data.neighbourhood_group.value_counts().index); "
   ]
  },
  {
   "cell_type": "code",
   "execution_count": 17,
   "id": "18b8d009",
   "metadata": {
    "execution": {
     "iopub.execute_input": "2024-07-08T23:10:26.362681Z",
     "iopub.status.busy": "2024-07-08T23:10:26.362257Z",
     "iopub.status.idle": "2024-07-08T23:10:26.397419Z",
     "shell.execute_reply": "2024-07-08T23:10:26.396372Z"
    },
    "papermill": {
     "duration": 0.051768,
     "end_time": "2024-07-08T23:10:26.399917",
     "exception": false,
     "start_time": "2024-07-08T23:10:26.348149",
     "status": "completed"
    },
    "tags": []
   },
   "outputs": [
    {
     "data": {
      "text/html": [
       "<div>\n",
       "<style scoped>\n",
       "    .dataframe tbody tr th:only-of-type {\n",
       "        vertical-align: middle;\n",
       "    }\n",
       "\n",
       "    .dataframe tbody tr th {\n",
       "        vertical-align: top;\n",
       "    }\n",
       "\n",
       "    .dataframe thead th {\n",
       "        text-align: right;\n",
       "    }\n",
       "</style>\n",
       "<table border=\"1\" class=\"dataframe\">\n",
       "  <thead>\n",
       "    <tr style=\"text-align: right;\">\n",
       "      <th>room_type</th>\n",
       "      <th>Entire home/apt</th>\n",
       "      <th>Private room</th>\n",
       "      <th>Shared room</th>\n",
       "    </tr>\n",
       "    <tr>\n",
       "      <th>neighbourhood_group</th>\n",
       "      <th></th>\n",
       "      <th></th>\n",
       "      <th></th>\n",
       "    </tr>\n",
       "  </thead>\n",
       "  <tbody>\n",
       "    <tr>\n",
       "      <th>Bronx</th>\n",
       "      <td>127.506596</td>\n",
       "      <td>66.788344</td>\n",
       "      <td>59.800000</td>\n",
       "    </tr>\n",
       "    <tr>\n",
       "      <th>Brooklyn</th>\n",
       "      <td>178.327545</td>\n",
       "      <td>76.500099</td>\n",
       "      <td>50.527845</td>\n",
       "    </tr>\n",
       "    <tr>\n",
       "      <th>Manhattan</th>\n",
       "      <td>249.239109</td>\n",
       "      <td>116.776622</td>\n",
       "      <td>88.977083</td>\n",
       "    </tr>\n",
       "    <tr>\n",
       "      <th>Queens</th>\n",
       "      <td>147.050573</td>\n",
       "      <td>71.762456</td>\n",
       "      <td>69.020202</td>\n",
       "    </tr>\n",
       "    <tr>\n",
       "      <th>Staten Island</th>\n",
       "      <td>173.846591</td>\n",
       "      <td>62.292553</td>\n",
       "      <td>57.444444</td>\n",
       "    </tr>\n",
       "  </tbody>\n",
       "</table>\n",
       "</div>"
      ],
      "text/plain": [
       "room_type            Entire home/apt  Private room  Shared room\n",
       "neighbourhood_group                                            \n",
       "Bronx                     127.506596     66.788344    59.800000\n",
       "Brooklyn                  178.327545     76.500099    50.527845\n",
       "Manhattan                 249.239109    116.776622    88.977083\n",
       "Queens                    147.050573     71.762456    69.020202\n",
       "Staten Island             173.846591     62.292553    57.444444"
      ]
     },
     "execution_count": 17,
     "metadata": {},
     "output_type": "execute_result"
    }
   ],
   "source": [
    "# crosstab to get the mean for every room type price with neighbourhood_group\n",
    "heat_mean = pd.crosstab(index = data.neighbourhood_group , columns = data.room_type ,values= data.price , aggfunc = 'mean')\n",
    "heat_mean"
   ]
  },
  {
   "cell_type": "code",
   "execution_count": 18,
   "id": "846d37c5",
   "metadata": {
    "execution": {
     "iopub.execute_input": "2024-07-08T23:10:26.429207Z",
     "iopub.status.busy": "2024-07-08T23:10:26.428784Z",
     "iopub.status.idle": "2024-07-08T23:10:26.460555Z",
     "shell.execute_reply": "2024-07-08T23:10:26.459421Z"
    },
    "papermill": {
     "duration": 0.049649,
     "end_time": "2024-07-08T23:10:26.463115",
     "exception": false,
     "start_time": "2024-07-08T23:10:26.413466",
     "status": "completed"
    },
    "tags": []
   },
   "outputs": [
    {
     "data": {
      "text/html": [
       "<div>\n",
       "<style scoped>\n",
       "    .dataframe tbody tr th:only-of-type {\n",
       "        vertical-align: middle;\n",
       "    }\n",
       "\n",
       "    .dataframe tbody tr th {\n",
       "        vertical-align: top;\n",
       "    }\n",
       "\n",
       "    .dataframe thead th {\n",
       "        text-align: right;\n",
       "    }\n",
       "</style>\n",
       "<table border=\"1\" class=\"dataframe\">\n",
       "  <thead>\n",
       "    <tr style=\"text-align: right;\">\n",
       "      <th>room_type</th>\n",
       "      <th>Entire home/apt</th>\n",
       "      <th>Private room</th>\n",
       "      <th>Shared room</th>\n",
       "    </tr>\n",
       "    <tr>\n",
       "      <th>neighbourhood_group</th>\n",
       "      <th></th>\n",
       "      <th></th>\n",
       "      <th></th>\n",
       "    </tr>\n",
       "  </thead>\n",
       "  <tbody>\n",
       "    <tr>\n",
       "      <th>Bronx</th>\n",
       "      <td>100.0</td>\n",
       "      <td>53.5</td>\n",
       "      <td>40.0</td>\n",
       "    </tr>\n",
       "    <tr>\n",
       "      <th>Brooklyn</th>\n",
       "      <td>145.0</td>\n",
       "      <td>65.0</td>\n",
       "      <td>36.0</td>\n",
       "    </tr>\n",
       "    <tr>\n",
       "      <th>Manhattan</th>\n",
       "      <td>191.0</td>\n",
       "      <td>90.0</td>\n",
       "      <td>69.0</td>\n",
       "    </tr>\n",
       "    <tr>\n",
       "      <th>Queens</th>\n",
       "      <td>120.0</td>\n",
       "      <td>60.0</td>\n",
       "      <td>37.0</td>\n",
       "    </tr>\n",
       "    <tr>\n",
       "      <th>Staten Island</th>\n",
       "      <td>100.0</td>\n",
       "      <td>50.0</td>\n",
       "      <td>30.0</td>\n",
       "    </tr>\n",
       "  </tbody>\n",
       "</table>\n",
       "</div>"
      ],
      "text/plain": [
       "room_type            Entire home/apt  Private room  Shared room\n",
       "neighbourhood_group                                            \n",
       "Bronx                          100.0          53.5         40.0\n",
       "Brooklyn                       145.0          65.0         36.0\n",
       "Manhattan                      191.0          90.0         69.0\n",
       "Queens                         120.0          60.0         37.0\n",
       "Staten Island                  100.0          50.0         30.0"
      ]
     },
     "execution_count": 18,
     "metadata": {},
     "output_type": "execute_result"
    }
   ],
   "source": [
    "#same as above but using median not mean\n",
    "heat_median = pd.crosstab(index = data.neighbourhood_group , columns = data.room_type ,values= data.price , aggfunc = 'median')\n",
    "heat_median"
   ]
  },
  {
   "cell_type": "code",
   "execution_count": 19,
   "id": "7ebfa914",
   "metadata": {
    "execution": {
     "iopub.execute_input": "2024-07-08T23:10:26.552626Z",
     "iopub.status.busy": "2024-07-08T23:10:26.551672Z",
     "iopub.status.idle": "2024-07-08T23:10:26.882020Z",
     "shell.execute_reply": "2024-07-08T23:10:26.880662Z"
    },
    "papermill": {
     "duration": 0.347866,
     "end_time": "2024-07-08T23:10:26.884586",
     "exception": false,
     "start_time": "2024-07-08T23:10:26.536720",
     "status": "completed"
    },
    "tags": []
   },
   "outputs": [
    {
     "data": {
      "text/plain": [
       "<Axes: xlabel='room_type', ylabel='neighbourhood_group'>"
      ]
     },
     "execution_count": 19,
     "metadata": {},
     "output_type": "execute_result"
    },
    {
     "data": {
      "image/png": "[encoded data removed]",
      "text/plain": [
       "<Figure size 640x480 with 2 Axes>"
      ]
     },
     "metadata": {},
     "output_type": "display_data"
    }
   ],
   "source": [
    "# visualize mean crosstab as heat map \n",
    "sns.heatmap(heat_mean , annot = True , fmt = '.0f')"
   ]
  },
  {
   "cell_type": "code",
   "execution_count": 20,
   "id": "a89dd6bb",
   "metadata": {
    "execution": {
     "iopub.execute_input": "2024-07-08T23:10:26.914355Z",
     "iopub.status.busy": "2024-07-08T23:10:26.913935Z",
     "iopub.status.idle": "2024-07-08T23:10:27.252357Z",
     "shell.execute_reply": "2024-07-08T23:10:27.250902Z"
    },
    "papermill": {
     "duration": 0.356456,
     "end_time": "2024-07-08T23:10:27.255126",
     "exception": false,
     "start_time": "2024-07-08T23:10:26.898670",
     "status": "completed"
    },
    "tags": []
   },
   "outputs": [
    {
     "data": {
      "text/plain": [
       "<Axes: xlabel='room_type', ylabel='neighbourhood_group'>"
      ]
     },
     "execution_count": 20,
     "metadata": {},
     "output_type": "execute_result"
    },
    {
     "data": {
      "image/png": "[encoded data removed]",
      "text/plain": [
       "<Figure size 640x480 with 2 Axes>"
      ]
     },
     "metadata": {},
     "output_type": "display_data"
    }
   ],
   "source": [
    "# visualize median crosstab as heat map \n",
    "sns.heatmap(heat_median , annot = True , fmt = '.0f')"
   ]
  },
  {
   "cell_type": "markdown",
   "id": "9da7d6c7",
   "metadata": {
    "papermill": {
     "duration": 0.014892,
     "end_time": "2024-07-08T23:10:27.285046",
     "exception": false,
     "start_time": "2024-07-08T23:10:27.270154",
     "status": "completed"
    },
    "tags": []
   },
   "source": [
    "# find the top 10 neighborhood in price for every room type"
   ]
  },
  {
   "cell_type": "code",
   "execution_count": 21,
   "id": "da1732fa",
   "metadata": {
    "execution": {
     "iopub.execute_input": "2024-07-08T23:10:27.317568Z",
     "iopub.status.busy": "2024-07-08T23:10:27.316543Z",
     "iopub.status.idle": "2024-07-08T23:10:27.340897Z",
     "shell.execute_reply": "2024-07-08T23:10:27.339795Z"
    },
    "papermill": {
     "duration": 0.043158,
     "end_time": "2024-07-08T23:10:27.343350",
     "exception": false,
     "start_time": "2024-07-08T23:10:27.300192",
     "status": "completed"
    },
    "tags": []
   },
   "outputs": [
    {
     "name": "stdout",
     "output_type": "stream",
     "text": [
      "<class 'pandas.core.frame.DataFrame'>\n",
      "Index: 10 entries, 9151 to 42523\n",
      "Data columns (total 3 columns):\n",
      " #   Column               Non-Null Count  Dtype \n",
      "---  ------               --------------  ----- \n",
      " 0   neighbourhood_group  10 non-null     object\n",
      " 1   price                10 non-null     int64 \n",
      " 2   room_type            10 non-null     object\n",
      "dtypes: int64(1), object(2)\n",
      "memory usage: 320.0+ bytes\n"
     ]
    }
   ],
   "source": [
    "# find the top 10 neighborhood in price for every room type\n",
    "nrp = data[['neighbourhood_group' , 'price' , 'room_type']].copy()\n",
    "nrp.sort_values(by = 'price' , ascending = False , inplace = True)\n",
    "result = nrp.head(10).copy()\n",
    "result.info()\n",
    "#making a new dataframe of needed data"
   ]
  },
  {
   "cell_type": "code",
   "execution_count": 22,
   "id": "b144d803",
   "metadata": {
    "execution": {
     "iopub.execute_input": "2024-07-08T23:10:27.375125Z",
     "iopub.status.busy": "2024-07-08T23:10:27.374737Z",
     "iopub.status.idle": "2024-07-08T23:10:27.686800Z",
     "shell.execute_reply": "2024-07-08T23:10:27.685663Z"
    },
    "papermill": {
     "duration": 0.331442,
     "end_time": "2024-07-08T23:10:27.689850",
     "exception": false,
     "start_time": "2024-07-08T23:10:27.358408",
     "status": "completed"
    },
    "tags": []
   },
   "outputs": [
    {
     "data": {
      "image/png": "[encoded data removed]",
      "text/plain": [
       "<Figure size 640x480 with 1 Axes>"
      ]
     },
     "metadata": {},
     "output_type": "display_data"
    }
   ],
   "source": [
    "#making a barplot of neighbourhood_group with price depending on room_type of the new dataframe \"result\"\n",
    "sns.barplot(x='neighbourhood_group', y ='price', hue ='room_type', data = result, order=result.neighbourhood_group.value_counts().index);"
   ]
  },
  {
   "cell_type": "markdown",
   "id": "1b7d7c17",
   "metadata": {
    "papermill": {
     "duration": 0.01573,
     "end_time": "2024-07-08T23:10:27.726317",
     "exception": false,
     "start_time": "2024-07-08T23:10:27.710587",
     "status": "completed"
    },
    "tags": []
   },
   "source": [
    "# analysis for price <1000"
   ]
  },
  {
   "cell_type": "code",
   "execution_count": 23,
   "id": "54d5f413",
   "metadata": {
    "execution": {
     "iopub.execute_input": "2024-07-08T23:10:27.765069Z",
     "iopub.status.busy": "2024-07-08T23:10:27.763801Z",
     "iopub.status.idle": "2024-07-08T23:10:27.800592Z",
     "shell.execute_reply": "2024-07-08T23:10:27.799188Z"
    },
    "papermill": {
     "duration": 0.06152,
     "end_time": "2024-07-08T23:10:27.803642",
     "exception": false,
     "start_time": "2024-07-08T23:10:27.742122",
     "status": "completed"
    },
    "tags": []
   },
   "outputs": [
    {
     "data": {
      "text/html": [
       "<div>\n",
       "<style scoped>\n",
       "    .dataframe tbody tr th:only-of-type {\n",
       "        vertical-align: middle;\n",
       "    }\n",
       "\n",
       "    .dataframe tbody tr th {\n",
       "        vertical-align: top;\n",
       "    }\n",
       "\n",
       "    .dataframe thead th {\n",
       "        text-align: right;\n",
       "    }\n",
       "</style>\n",
       "<table border=\"1\" class=\"dataframe\">\n",
       "  <thead>\n",
       "    <tr style=\"text-align: right;\">\n",
       "      <th></th>\n",
       "      <th>id</th>\n",
       "      <th>name</th>\n",
       "      <th>host_id</th>\n",
       "      <th>host_name</th>\n",
       "      <th>neighbourhood_group</th>\n",
       "      <th>neighbourhood</th>\n",
       "      <th>latitude</th>\n",
       "      <th>longitude</th>\n",
       "      <th>room_type</th>\n",
       "      <th>price</th>\n",
       "      <th>minimum_nights</th>\n",
       "      <th>number_of_reviews</th>\n",
       "      <th>last_review</th>\n",
       "      <th>reviews_per_month</th>\n",
       "      <th>calculated_host_listings_count</th>\n",
       "      <th>availability_365</th>\n",
       "    </tr>\n",
       "  </thead>\n",
       "  <tbody>\n",
       "    <tr>\n",
       "      <th>0</th>\n",
       "      <td>2539</td>\n",
       "      <td>Clean &amp; quiet apt home by the park</td>\n",
       "      <td>2787</td>\n",
       "      <td>John</td>\n",
       "      <td>Brooklyn</td>\n",
       "      <td>Kensington</td>\n",
       "      <td>40.64749</td>\n",
       "      <td>-73.97237</td>\n",
       "      <td>Private room</td>\n",
       "      <td>149</td>\n",
       "      <td>1</td>\n",
       "      <td>9</td>\n",
       "      <td>2018-10-19</td>\n",
       "      <td>0.21</td>\n",
       "      <td>6</td>\n",
       "      <td>365</td>\n",
       "    </tr>\n",
       "    <tr>\n",
       "      <th>1</th>\n",
       "      <td>2595</td>\n",
       "      <td>Skylit Midtown Castle</td>\n",
       "      <td>2845</td>\n",
       "      <td>Jennifer</td>\n",
       "      <td>Manhattan</td>\n",
       "      <td>Midtown</td>\n",
       "      <td>40.75362</td>\n",
       "      <td>-73.98377</td>\n",
       "      <td>Entire home/apt</td>\n",
       "      <td>225</td>\n",
       "      <td>1</td>\n",
       "      <td>45</td>\n",
       "      <td>2019-05-21</td>\n",
       "      <td>0.38</td>\n",
       "      <td>2</td>\n",
       "      <td>355</td>\n",
       "    </tr>\n",
       "    <tr>\n",
       "      <th>2</th>\n",
       "      <td>3647</td>\n",
       "      <td>THE VILLAGE OF HARLEM....NEW YORK !</td>\n",
       "      <td>4632</td>\n",
       "      <td>Elisabeth</td>\n",
       "      <td>Manhattan</td>\n",
       "      <td>Harlem</td>\n",
       "      <td>40.80902</td>\n",
       "      <td>-73.94190</td>\n",
       "      <td>Private room</td>\n",
       "      <td>150</td>\n",
       "      <td>3</td>\n",
       "      <td>0</td>\n",
       "      <td>NaN</td>\n",
       "      <td>NaN</td>\n",
       "      <td>1</td>\n",
       "      <td>365</td>\n",
       "    </tr>\n",
       "  </tbody>\n",
       "</table>\n",
       "</div>"
      ],
      "text/plain": [
       "     id                                 name  host_id  host_name  \\\n",
       "0  2539   Clean & quiet apt home by the park     2787       John   \n",
       "1  2595                Skylit Midtown Castle     2845   Jennifer   \n",
       "2  3647  THE VILLAGE OF HARLEM....NEW YORK !     4632  Elisabeth   \n",
       "\n",
       "  neighbourhood_group neighbourhood  latitude  longitude        room_type  \\\n",
       "0            Brooklyn    Kensington  40.64749  -73.97237     Private room   \n",
       "1           Manhattan       Midtown  40.75362  -73.98377  Entire home/apt   \n",
       "2           Manhattan        Harlem  40.80902  -73.94190     Private room   \n",
       "\n",
       "   price  minimum_nights  number_of_reviews last_review  reviews_per_month  \\\n",
       "0    149               1                  9  2018-10-19               0.21   \n",
       "1    225               1                 45  2019-05-21               0.38   \n",
       "2    150               3                  0         NaN                NaN   \n",
       "\n",
       "   calculated_host_listings_count  availability_365  \n",
       "0                               6               365  \n",
       "1                               2               355  \n",
       "2                               1               365  "
      ]
     },
     "execution_count": 23,
     "metadata": {},
     "output_type": "execute_result"
    }
   ],
   "source": [
    "# analysis for price <1000\n",
    "pricedata = data[data['price']<1000].copy()\n",
    "pricedata.head(3)"
   ]
  },
  {
   "cell_type": "code",
   "execution_count": 24,
   "id": "ee97c113",
   "metadata": {
    "execution": {
     "iopub.execute_input": "2024-07-08T23:10:27.843389Z",
     "iopub.status.busy": "2024-07-08T23:10:27.842856Z",
     "iopub.status.idle": "2024-07-08T23:10:27.909789Z",
     "shell.execute_reply": "2024-07-08T23:10:27.908448Z"
    },
    "papermill": {
     "duration": 0.08719,
     "end_time": "2024-07-08T23:10:27.912436",
     "exception": false,
     "start_time": "2024-07-08T23:10:27.825246",
     "status": "completed"
    },
    "tags": []
   },
   "outputs": [
    {
     "data": {
      "text/html": [
       "<div>\n",
       "<style scoped>\n",
       "    .dataframe tbody tr th:only-of-type {\n",
       "        vertical-align: middle;\n",
       "    }\n",
       "\n",
       "    .dataframe tbody tr th {\n",
       "        vertical-align: top;\n",
       "    }\n",
       "\n",
       "    .dataframe thead th {\n",
       "        text-align: right;\n",
       "    }\n",
       "</style>\n",
       "<table border=\"1\" class=\"dataframe\">\n",
       "  <thead>\n",
       "    <tr style=\"text-align: right;\">\n",
       "      <th></th>\n",
       "      <th>count</th>\n",
       "      <th>mean</th>\n",
       "      <th>std</th>\n",
       "      <th>min</th>\n",
       "      <th>25%</th>\n",
       "      <th>50%</th>\n",
       "      <th>75%</th>\n",
       "      <th>max</th>\n",
       "    </tr>\n",
       "  </thead>\n",
       "  <tbody>\n",
       "    <tr>\n",
       "      <th>id</th>\n",
       "      <td>48597.0</td>\n",
       "      <td>1.902170e+07</td>\n",
       "      <td>1.097769e+07</td>\n",
       "      <td>2539.00000</td>\n",
       "      <td>9.476831e+06</td>\n",
       "      <td>1.967775e+07</td>\n",
       "      <td>2.914645e+07</td>\n",
       "      <td>3.648724e+07</td>\n",
       "    </tr>\n",
       "    <tr>\n",
       "      <th>host_id</th>\n",
       "      <td>48597.0</td>\n",
       "      <td>6.763529e+07</td>\n",
       "      <td>7.860145e+07</td>\n",
       "      <td>2438.00000</td>\n",
       "      <td>7.831209e+06</td>\n",
       "      <td>3.084879e+07</td>\n",
       "      <td>1.074344e+08</td>\n",
       "      <td>2.743213e+08</td>\n",
       "    </tr>\n",
       "    <tr>\n",
       "      <th>latitude</th>\n",
       "      <td>48597.0</td>\n",
       "      <td>4.072892e+01</td>\n",
       "      <td>5.457874e-02</td>\n",
       "      <td>40.49979</td>\n",
       "      <td>4.069000e+01</td>\n",
       "      <td>4.072296e+01</td>\n",
       "      <td>4.076312e+01</td>\n",
       "      <td>4.091306e+01</td>\n",
       "    </tr>\n",
       "    <tr>\n",
       "      <th>longitude</th>\n",
       "      <td>48597.0</td>\n",
       "      <td>-7.395203e+01</td>\n",
       "      <td>4.615434e-02</td>\n",
       "      <td>-74.24442</td>\n",
       "      <td>-7.398294e+01</td>\n",
       "      <td>-7.395557e+01</td>\n",
       "      <td>-7.393609e+01</td>\n",
       "      <td>-7.371299e+01</td>\n",
       "    </tr>\n",
       "    <tr>\n",
       "      <th>price</th>\n",
       "      <td>48597.0</td>\n",
       "      <td>1.402373e+02</td>\n",
       "      <td>1.129063e+02</td>\n",
       "      <td>0.00000</td>\n",
       "      <td>6.900000e+01</td>\n",
       "      <td>1.050000e+02</td>\n",
       "      <td>1.750000e+02</td>\n",
       "      <td>9.990000e+02</td>\n",
       "    </tr>\n",
       "    <tr>\n",
       "      <th>minimum_nights</th>\n",
       "      <td>48597.0</td>\n",
       "      <td>6.975019e+00</td>\n",
       "      <td>2.027523e+01</td>\n",
       "      <td>1.00000</td>\n",
       "      <td>1.000000e+00</td>\n",
       "      <td>3.000000e+00</td>\n",
       "      <td>5.000000e+00</td>\n",
       "      <td>1.250000e+03</td>\n",
       "    </tr>\n",
       "    <tr>\n",
       "      <th>number_of_reviews</th>\n",
       "      <td>48597.0</td>\n",
       "      <td>2.337527e+01</td>\n",
       "      <td>4.465088e+01</td>\n",
       "      <td>0.00000</td>\n",
       "      <td>1.000000e+00</td>\n",
       "      <td>5.000000e+00</td>\n",
       "      <td>2.400000e+01</td>\n",
       "      <td>6.290000e+02</td>\n",
       "    </tr>\n",
       "    <tr>\n",
       "      <th>reviews_per_month</th>\n",
       "      <td>38706.0</td>\n",
       "      <td>1.375349e+00</td>\n",
       "      <td>1.681966e+00</td>\n",
       "      <td>0.01000</td>\n",
       "      <td>1.900000e-01</td>\n",
       "      <td>7.200000e-01</td>\n",
       "      <td>2.020000e+00</td>\n",
       "      <td>5.850000e+01</td>\n",
       "    </tr>\n",
       "    <tr>\n",
       "      <th>calculated_host_listings_count</th>\n",
       "      <td>48597.0</td>\n",
       "      <td>7.168014e+00</td>\n",
       "      <td>3.304240e+01</td>\n",
       "      <td>1.00000</td>\n",
       "      <td>1.000000e+00</td>\n",
       "      <td>1.000000e+00</td>\n",
       "      <td>2.000000e+00</td>\n",
       "      <td>3.270000e+02</td>\n",
       "    </tr>\n",
       "    <tr>\n",
       "      <th>availability_365</th>\n",
       "      <td>48597.0</td>\n",
       "      <td>1.123679e+02</td>\n",
       "      <td>1.313787e+02</td>\n",
       "      <td>0.00000</td>\n",
       "      <td>0.000000e+00</td>\n",
       "      <td>4.400000e+01</td>\n",
       "      <td>2.250000e+02</td>\n",
       "      <td>3.650000e+02</td>\n",
       "    </tr>\n",
       "  </tbody>\n",
       "</table>\n",
       "</div>"
      ],
      "text/plain": [
       "                                  count          mean           std  \\\n",
       "id                              48597.0  1.902170e+07  1.097769e+07   \n",
       "host_id                         48597.0  6.763529e+07  7.860145e+07   \n",
       "latitude                        48597.0  4.072892e+01  5.457874e-02   \n",
       "longitude                       48597.0 -7.395203e+01  4.615434e-02   \n",
       "price                           48597.0  1.402373e+02  1.129063e+02   \n",
       "minimum_nights                  48597.0  6.975019e+00  2.027523e+01   \n",
       "number_of_reviews               48597.0  2.337527e+01  4.465088e+01   \n",
       "reviews_per_month               38706.0  1.375349e+00  1.681966e+00   \n",
       "calculated_host_listings_count  48597.0  7.168014e+00  3.304240e+01   \n",
       "availability_365                48597.0  1.123679e+02  1.313787e+02   \n",
       "\n",
       "                                       min           25%           50%  \\\n",
       "id                              2539.00000  9.476831e+06  1.967775e+07   \n",
       "host_id                         2438.00000  7.831209e+06  3.084879e+07   \n",
       "latitude                          40.49979  4.069000e+01  4.072296e+01   \n",
       "longitude                        -74.24442 -7.398294e+01 -7.395557e+01   \n",
       "price                              0.00000  6.900000e+01  1.050000e+02   \n",
       "minimum_nights                     1.00000  1.000000e+00  3.000000e+00   \n",
       "number_of_reviews                  0.00000  1.000000e+00  5.000000e+00   \n",
       "reviews_per_month                  0.01000  1.900000e-01  7.200000e-01   \n",
       "calculated_host_listings_count     1.00000  1.000000e+00  1.000000e+00   \n",
       "availability_365                   0.00000  0.000000e+00  4.400000e+01   \n",
       "\n",
       "                                         75%           max  \n",
       "id                              2.914645e+07  3.648724e+07  \n",
       "host_id                         1.074344e+08  2.743213e+08  \n",
       "latitude                        4.076312e+01  4.091306e+01  \n",
       "longitude                      -7.393609e+01 -7.371299e+01  \n",
       "price                           1.750000e+02  9.990000e+02  \n",
       "minimum_nights                  5.000000e+00  1.250000e+03  \n",
       "number_of_reviews               2.400000e+01  6.290000e+02  \n",
       "reviews_per_month               2.020000e+00  5.850000e+01  \n",
       "calculated_host_listings_count  2.000000e+00  3.270000e+02  \n",
       "availability_365                2.250000e+02  3.650000e+02  "
      ]
     },
     "execution_count": 24,
     "metadata": {},
     "output_type": "execute_result"
    }
   ],
   "source": [
    "#get the main numerical data of the new dataframe \"pricedata\"\n",
    "pricedata.describe().T"
   ]
  },
  {
   "cell_type": "code",
   "execution_count": 25,
   "id": "7e2df308",
   "metadata": {
    "execution": {
     "iopub.execute_input": "2024-07-08T23:10:27.958268Z",
     "iopub.status.busy": "2024-07-08T23:10:27.957849Z",
     "iopub.status.idle": "2024-07-08T23:10:28.997371Z",
     "shell.execute_reply": "2024-07-08T23:10:28.996305Z"
    },
    "papermill": {
     "duration": 1.064517,
     "end_time": "2024-07-08T23:10:28.999851",
     "exception": false,
     "start_time": "2024-07-08T23:10:27.935334",
     "status": "completed"
    },
    "tags": []
   },
   "outputs": [
    {
     "data": {
      "image/png": "[encoded data removed]",
      "text/plain": [
       "<Figure size 640x480 with 1 Axes>"
      ]
     },
     "metadata": {},
     "output_type": "display_data"
    }
   ],
   "source": [
    "#making a barplot of neighbourhood_group with price depending on room_type of the new dataframe \"pricedata\"\n",
    "sns.barplot(x='neighbourhood_group', y ='price', hue ='room_type', data = pricedata, order=pricedata.neighbourhood_group.value_counts().index);"
   ]
  },
  {
   "cell_type": "code",
   "execution_count": 26,
   "id": "ffbdbdbe",
   "metadata": {
    "execution": {
     "iopub.execute_input": "2024-07-08T23:10:29.036418Z",
     "iopub.status.busy": "2024-07-08T23:10:29.035359Z",
     "iopub.status.idle": "2024-07-08T23:10:30.597993Z",
     "shell.execute_reply": "2024-07-08T23:10:30.596778Z"
    },
    "papermill": {
     "duration": 1.584274,
     "end_time": "2024-07-08T23:10:30.600735",
     "exception": false,
     "start_time": "2024-07-08T23:10:29.016461",
     "status": "completed"
    },
    "tags": []
   },
   "outputs": [
    {
     "data": {
      "image/png": "[encoded data removed]",
      "text/plain": [
       "<Figure size 1800x400 with 3 Axes>"
      ]
     },
     "metadata": {},
     "output_type": "display_data"
    }
   ],
   "source": [
    "# similar to the above visualization but in readable way in room type\n",
    "grid = sns.FacetGrid(pricedata, col='room_type', height=4, aspect=1.5, palette='Set1')\n",
    "grid.map(sns.barplot, 'neighbourhood_group', 'price', order=pricedata.neighbourhood_group.value_counts().index); "
   ]
  },
  {
   "cell_type": "code",
   "execution_count": 27,
   "id": "9d40ab27",
   "metadata": {
    "execution": {
     "iopub.execute_input": "2024-07-08T23:10:30.636437Z",
     "iopub.status.busy": "2024-07-08T23:10:30.636028Z",
     "iopub.status.idle": "2024-07-08T23:10:30.664402Z",
     "shell.execute_reply": "2024-07-08T23:10:30.662551Z"
    },
    "papermill": {
     "duration": 0.049319,
     "end_time": "2024-07-08T23:10:30.666986",
     "exception": false,
     "start_time": "2024-07-08T23:10:30.617667",
     "status": "completed"
    },
    "tags": []
   },
   "outputs": [
    {
     "name": "stdout",
     "output_type": "stream",
     "text": [
      "<class 'pandas.core.frame.DataFrame'>\n",
      "Index: 48597 entries, 0 to 48894\n",
      "Data columns (total 16 columns):\n",
      " #   Column                          Non-Null Count  Dtype  \n",
      "---  ------                          --------------  -----  \n",
      " 0   id                              48597 non-null  int64  \n",
      " 1   name                            48581 non-null  object \n",
      " 2   host_id                         48597 non-null  int64  \n",
      " 3   host_name                       48576 non-null  object \n",
      " 4   neighbourhood_group             48597 non-null  object \n",
      " 5   neighbourhood                   48597 non-null  object \n",
      " 6   latitude                        48597 non-null  float64\n",
      " 7   longitude                       48597 non-null  float64\n",
      " 8   room_type                       48597 non-null  object \n",
      " 9   price                           48597 non-null  int64  \n",
      " 10  minimum_nights                  48597 non-null  int64  \n",
      " 11  number_of_reviews               48597 non-null  int64  \n",
      " 12  last_review                     38706 non-null  object \n",
      " 13  reviews_per_month               38706 non-null  float64\n",
      " 14  calculated_host_listings_count  48597 non-null  int64  \n",
      " 15  availability_365                48597 non-null  int64  \n",
      "dtypes: float64(3), int64(7), object(6)\n",
      "memory usage: 6.3+ MB\n"
     ]
    }
   ],
   "source": [
    "#know the main datatype and entries of pricedata\n",
    "# we can find that pricedata has about 99% of the entries of the main data\n",
    "pricedata.info()"
   ]
  },
  {
   "cell_type": "code",
   "execution_count": 28,
   "id": "037cca72",
   "metadata": {
    "execution": {
     "iopub.execute_input": "2024-07-08T23:10:30.703581Z",
     "iopub.status.busy": "2024-07-08T23:10:30.702818Z",
     "iopub.status.idle": "2024-07-08T23:10:31.055688Z",
     "shell.execute_reply": "2024-07-08T23:10:31.054180Z"
    },
    "papermill": {
     "duration": 0.37416,
     "end_time": "2024-07-08T23:10:31.058363",
     "exception": false,
     "start_time": "2024-07-08T23:10:30.684203",
     "status": "completed"
    },
    "tags": []
   },
   "outputs": [
    {
     "data": {
      "image/png": "[encoded data removed]",
      "text/plain": [
       "<Figure size 640x480 with 2 Axes>"
      ]
     },
     "metadata": {},
     "output_type": "display_data"
    }
   ],
   "source": [
    "# making a heat map of the data of price less than 1000\n",
    "# the values are very near to the main heatmap so the price from less than 1000 and more than 1000 doesnot change very much\n",
    "heat_mean2 = pd.crosstab(index = pricedata.neighbourhood_group , columns = pricedata.room_type ,values= pricedata.price , aggfunc = 'mean')\n",
    "sns.heatmap(heat_mean2 , annot = True , fmt = '.0f');"
   ]
  },
  {
   "cell_type": "code",
   "execution_count": 29,
   "id": "9b58541c",
   "metadata": {
    "execution": {
     "iopub.execute_input": "2024-07-08T23:10:31.098581Z",
     "iopub.status.busy": "2024-07-08T23:10:31.097551Z",
     "iopub.status.idle": "2024-07-08T23:10:31.512726Z",
     "shell.execute_reply": "2024-07-08T23:10:31.511270Z"
    },
    "papermill": {
     "duration": 0.437697,
     "end_time": "2024-07-08T23:10:31.515411",
     "exception": false,
     "start_time": "2024-07-08T23:10:31.077714",
     "status": "completed"
    },
    "tags": []
   },
   "outputs": [
    {
     "data": {
      "image/png": "[encoded data removed]",
      "text/plain": [
       "<Figure size 640x480 with 1 Axes>"
      ]
     },
     "metadata": {},
     "output_type": "display_data"
    }
   ],
   "source": [
    "#histogram of price less than 1000 which is skewed\n",
    "pricedata.price.hist(bins=100);"
   ]
  },
  {
   "cell_type": "markdown",
   "id": "b8a2b52b",
   "metadata": {
    "papermill": {
     "duration": 0.018594,
     "end_time": "2024-07-08T23:10:31.552334",
     "exception": false,
     "start_time": "2024-07-08T23:10:31.533740",
     "status": "completed"
    },
    "tags": []
   },
   "source": [
    "# distance between the property and the city center (latitude: 40.7128, longitude: -74.0060)."
   ]
  },
  {
   "cell_type": "code",
   "execution_count": 30,
   "id": "3d9f2dde",
   "metadata": {
    "execution": {
     "iopub.execute_input": "2024-07-08T23:10:31.591238Z",
     "iopub.status.busy": "2024-07-08T23:10:31.590792Z",
     "iopub.status.idle": "2024-07-08T23:10:44.141542Z",
     "shell.execute_reply": "2024-07-08T23:10:44.140291Z"
    },
    "papermill": {
     "duration": 12.573624,
     "end_time": "2024-07-08T23:10:44.144360",
     "exception": false,
     "start_time": "2024-07-08T23:10:31.570736",
     "status": "completed"
    },
    "tags": []
   },
   "outputs": [],
   "source": [
    "# first way by using geoby library \n",
    "data['lat2'] = 40.7128\n",
    "data['long2'] = -74.0060\n",
    "from geopy.distance import geodesic\n",
    "\n",
    "# Function to calculate distance\n",
    "def calculate_distance(row):\n",
    "        coord1 = (row['latitude'], row['longitude'])\n",
    "        coord2 = (row['lat2'], row['long2'])\n",
    "        return geodesic(coord1, coord2).kilometers\n",
    "        \n",
    "# Apply the function to each row in the DataFrame\n",
    "data['distance_km'] = data.apply(calculate_distance, axis = 1)"
   ]
  },
  {
   "cell_type": "code",
   "execution_count": 31,
   "id": "0013d1f9",
   "metadata": {
    "execution": {
     "iopub.execute_input": "2024-07-08T23:10:44.184785Z",
     "iopub.status.busy": "2024-07-08T23:10:44.183618Z",
     "iopub.status.idle": "2024-07-08T23:10:44.193750Z",
     "shell.execute_reply": "2024-07-08T23:10:44.192551Z"
    },
    "papermill": {
     "duration": 0.033248,
     "end_time": "2024-07-08T23:10:44.196064",
     "exception": false,
     "start_time": "2024-07-08T23:10:44.162816",
     "status": "completed"
    },
    "tags": []
   },
   "outputs": [
    {
     "data": {
      "text/plain": [
       "0         7.789889\n",
       "1         4.906576\n",
       "2        11.977809\n",
       "3         4.970672\n",
       "4        10.863385\n",
       "           ...    \n",
       "48890     6.076650\n",
       "48891     6.273778\n",
       "48892    12.312912\n",
       "48893     5.121622\n",
       "48894     5.861772\n",
       "Name: distance_km, Length: 48895, dtype: float64"
      ]
     },
     "execution_count": 31,
     "metadata": {},
     "output_type": "execute_result"
    }
   ],
   "source": [
    "data['distance_km']"
   ]
  },
  {
   "cell_type": "code",
   "execution_count": 32,
   "id": "13f93a23",
   "metadata": {
    "execution": {
     "iopub.execute_input": "2024-07-08T23:10:44.234332Z",
     "iopub.status.busy": "2024-07-08T23:10:44.233948Z",
     "iopub.status.idle": "2024-07-08T23:10:44.261999Z",
     "shell.execute_reply": "2024-07-08T23:10:44.260870Z"
    },
    "papermill": {
     "duration": 0.050078,
     "end_time": "2024-07-08T23:10:44.264670",
     "exception": false,
     "start_time": "2024-07-08T23:10:44.214592",
     "status": "completed"
    },
    "tags": []
   },
   "outputs": [
    {
     "name": "stdout",
     "output_type": "stream",
     "text": [
      "<class 'pandas.core.frame.DataFrame'>\n",
      "RangeIndex: 48895 entries, 0 to 48894\n",
      "Data columns (total 19 columns):\n",
      " #   Column                          Non-Null Count  Dtype  \n",
      "---  ------                          --------------  -----  \n",
      " 0   id                              48895 non-null  int64  \n",
      " 1   name                            48879 non-null  object \n",
      " 2   host_id                         48895 non-null  int64  \n",
      " 3   host_name                       48874 non-null  object \n",
      " 4   neighbourhood_group             48895 non-null  object \n",
      " 5   neighbourhood                   48895 non-null  object \n",
      " 6   latitude                        48895 non-null  float64\n",
      " 7   longitude                       48895 non-null  float64\n",
      " 8   room_type                       48895 non-null  object \n",
      " 9   price                           48895 non-null  int64  \n",
      " 10  minimum_nights                  48895 non-null  int64  \n",
      " 11  number_of_reviews               48895 non-null  int64  \n",
      " 12  last_review                     38843 non-null  object \n",
      " 13  reviews_per_month               38843 non-null  float64\n",
      " 14  calculated_host_listings_count  48895 non-null  int64  \n",
      " 15  availability_365                48895 non-null  int64  \n",
      " 16  lat2                            48895 non-null  float64\n",
      " 17  long2                           48895 non-null  float64\n",
      " 18  distance_km                     48895 non-null  float64\n",
      "dtypes: float64(6), int64(7), object(6)\n",
      "memory usage: 7.1+ MB\n"
     ]
    }
   ],
   "source": [
    "data.info()"
   ]
  },
  {
   "cell_type": "code",
   "execution_count": 33,
   "id": "bc0b43a2",
   "metadata": {
    "execution": {
     "iopub.execute_input": "2024-07-08T23:10:44.304748Z",
     "iopub.status.busy": "2024-07-08T23:10:44.304325Z",
     "iopub.status.idle": "2024-07-08T23:10:44.320374Z",
     "shell.execute_reply": "2024-07-08T23:10:44.319087Z"
    },
    "papermill": {
     "duration": 0.039588,
     "end_time": "2024-07-08T23:10:44.323142",
     "exception": false,
     "start_time": "2024-07-08T23:10:44.283554",
     "status": "completed"
    },
    "tags": []
   },
   "outputs": [
    {
     "data": {
      "text/plain": [
       "latitude       0.033939\n",
       "distance_km    0.147357\n",
       "longitude      0.150019\n",
       "price          1.000000\n",
       "Name: price, dtype: float64"
      ]
     },
     "execution_count": 33,
     "metadata": {},
     "output_type": "execute_result"
    }
   ],
   "source": [
    "numerical = data[['price' ,'distance_km' , 'latitude' , 'longitude']].copy() \n",
    "numerical.corr()['price'].apply(lambda x: abs(x)).sort_values() #weak correlation"
   ]
  },
  {
   "cell_type": "code",
   "execution_count": 34,
   "id": "6ef9d983",
   "metadata": {
    "execution": {
     "iopub.execute_input": "2024-07-08T23:10:44.362569Z",
     "iopub.status.busy": "2024-07-08T23:10:44.362158Z",
     "iopub.status.idle": "2024-07-08T23:10:45.025248Z",
     "shell.execute_reply": "2024-07-08T23:10:45.023991Z"
    },
    "papermill": {
     "duration": 0.686792,
     "end_time": "2024-07-08T23:10:45.028624",
     "exception": false,
     "start_time": "2024-07-08T23:10:44.341832",
     "status": "completed"
    },
    "tags": []
   },
   "outputs": [
    {
     "name": "stderr",
     "output_type": "stream",
     "text": [
      "/opt/conda/lib/python3.10/site-packages/seaborn/_oldcore.py:1119: FutureWarning:\n",
      "\n",
      "use_inf_as_na option is deprecated and will be removed in a future version. Convert inf values to NaN before operating instead.\n",
      "\n"
     ]
    },
    {
     "data": {
      "image/png": "[encoded data removed]",
      "text/plain": [
       "<Figure size 640x480 with 1 Axes>"
      ]
     },
     "metadata": {},
     "output_type": "display_data"
    }
   ],
   "source": [
    "sns.histplot(data['distance_km'], bins=30, kde=True);"
   ]
  },
  {
   "cell_type": "code",
   "execution_count": 35,
   "id": "5f9278ee",
   "metadata": {
    "execution": {
     "iopub.execute_input": "2024-07-08T23:10:45.070198Z",
     "iopub.status.busy": "2024-07-08T23:10:45.069807Z",
     "iopub.status.idle": "2024-07-08T23:10:45.323619Z",
     "shell.execute_reply": "2024-07-08T23:10:45.322370Z"
    },
    "papermill": {
     "duration": 0.277351,
     "end_time": "2024-07-08T23:10:45.326182",
     "exception": false,
     "start_time": "2024-07-08T23:10:45.048831",
     "status": "completed"
    },
    "tags": []
   },
   "outputs": [
    {
     "name": "stderr",
     "output_type": "stream",
     "text": [
      "/opt/conda/lib/python3.10/site-packages/seaborn/_oldcore.py:1119: FutureWarning:\n",
      "\n",
      "use_inf_as_na option is deprecated and will be removed in a future version. Convert inf values to NaN before operating instead.\n",
      "\n"
     ]
    },
    {
     "data": {
      "text/plain": [
       "<Axes: xlabel='price', ylabel='Count'>"
      ]
     },
     "execution_count": 35,
     "metadata": {},
     "output_type": "execute_result"
    },
    {
     "data": {
      "image/png": "[encoded data removed]",
      "text/plain": [
       "<Figure size 640x480 with 1 Axes>"
      ]
     },
     "metadata": {},
     "output_type": "display_data"
    }
   ],
   "source": [
    "sns.histplot(numerical.corr()['price'].sort_values())"
   ]
  },
  {
   "cell_type": "markdown",
   "id": "b0b39964",
   "metadata": {
    "papermill": {
     "duration": 0.019762,
     "end_time": "2024-07-08T23:10:45.366104",
     "exception": false,
     "start_time": "2024-07-08T23:10:45.346342",
     "status": "completed"
    },
    "tags": []
   },
   "source": [
    "Thanks"
   ]
  }
 ],
 "metadata": {
  "kaggle": {
   "accelerator": "none",
   "dataSources": [
    {
     "datasetId": 268833,
     "sourceId": 611395,
     "sourceType": "datasetVersion"
    }
   ],
   "dockerImageVersionId": 30732,
   "isGpuEnabled": false,
   "isInternetEnabled": false,
   "language": "python",
   "sourceType": "notebook"
  },
  "kernelspec": {
   "display_name": "Python 3",
   "language": "python",
   "name": "python3"
  },
  "language_info": {
   "codemirror_mode": {
    "name": "ipython",
    "version": 3
   },
   "file_extension": ".py",
   "mimetype": "text/x-python",
   "name": "python",
   "nbconvert_exporter": "python",
   "pygments_lexer": "ipython3",
   "version": "3.10.13"
  },
  "papermill": {
   "default_parameters": {},
   "duration": 32.292327,
   "end_time": "2024-07-08T23:10:46.210759",
   "environment_variables": {},
   "exception": null,
   "input_path": "__notebook__.ipynb",
   "output_path": "__notebook__.ipynb",
   "parameters": {},
   "start_time": "2024-07-08T23:10:13.918432",
   "version": "2.5.0"
  }
 },
 "nbformat": 4,
 "nbformat_minor": 5
}
