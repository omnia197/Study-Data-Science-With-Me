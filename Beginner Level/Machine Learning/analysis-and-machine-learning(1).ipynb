{
 "cells": [
  {
   "cell_type": "code",
   "execution_count": 1,
   "id": "799feb5b",
   "metadata": {
    "_cell_guid": "b1076dfc-b9ad-4769-8c92-a6c4dae69d19",
    "_uuid": "8f2839f25d086af736a60e9eeb907d3b93b6e0e5",
    "execution": {
     "iopub.execute_input": "2024-07-10T01:04:06.754467Z",
     "iopub.status.busy": "2024-07-10T01:04:06.754025Z",
     "iopub.status.idle": "2024-07-10T01:04:07.743618Z",
     "shell.execute_reply": "2024-07-10T01:04:07.742091Z"
    },
    "papermill": {
     "duration": 1.002505,
     "end_time": "2024-07-10T01:04:07.746145",
     "exception": false,
     "start_time": "2024-07-10T01:04:06.743640",
     "status": "completed"
    },
    "tags": []
   },
   "outputs": [
    {
     "name": "stdout",
     "output_type": "stream",
     "text": [
      "/kaggle/input/50-startups/50_Startups.csv\n"
     ]
    }
   ],
   "source": [
    "# This Python 3 environment comes with many helpful analytics libraries installed\n",
    "# It is defined by the kaggle/python Docker image: https://github.com/kaggle/docker-python\n",
    "# For example, here's several helpful packages to load\n",
    "\n",
    "import numpy as np # linear algebra\n",
    "import pandas as pd # data processing, CSV file I/O (e.g. pd.read_csv)\n",
    "\n",
    "# Input data files are available in the read-only \"../input/\" directory\n",
    "# For example, running this (by clicking run or pressing Shift+Enter) will list all files under the input directory\n",
    "\n",
    "import os\n",
    "for dirname, _, filenames in os.walk('/kaggle/input'):\n",
    "    for filename in filenames:\n",
    "        print(os.path.join(dirname, filename))\n",
    "\n",
    "# You can write up to 20GB to the current directory (/kaggle/working/) that gets preserved as output when you create a version using \"Save & Run All\" \n",
    "# You can also write temporary files to /kaggle/temp/, but they won't be saved outside of the current session"
   ]
  },
  {
   "cell_type": "markdown",
   "id": "a378f87d",
   "metadata": {
    "papermill": {
     "duration": 0.007304,
     "end_time": "2024-07-10T01:04:07.761390",
     "exception": false,
     "start_time": "2024-07-10T01:04:07.754086",
     "status": "completed"
    },
    "tags": []
   },
   "source": [
    "# Data Describtion"
   ]
  },
  {
   "cell_type": "code",
   "execution_count": 2,
   "id": "50a1338e",
   "metadata": {
    "execution": {
     "iopub.execute_input": "2024-07-10T01:04:07.778902Z",
     "iopub.status.busy": "2024-07-10T01:04:07.778368Z",
     "iopub.status.idle": "2024-07-10T01:04:07.826075Z",
     "shell.execute_reply": "2024-07-10T01:04:07.824912Z"
    },
    "papermill": {
     "duration": 0.059497,
     "end_time": "2024-07-10T01:04:07.828832",
     "exception": false,
     "start_time": "2024-07-10T01:04:07.769335",
     "status": "completed"
    },
    "tags": []
   },
   "outputs": [
    {
     "name": "stdout",
     "output_type": "stream",
     "text": [
      "<class 'pandas.core.frame.DataFrame'>\n",
      "RangeIndex: 50 entries, 0 to 49\n",
      "Data columns (total 5 columns):\n",
      " #   Column           Non-Null Count  Dtype  \n",
      "---  ------           --------------  -----  \n",
      " 0   R&D Spend        50 non-null     float64\n",
      " 1   Administration   50 non-null     float64\n",
      " 2   Marketing Spend  50 non-null     float64\n",
      " 3   State            50 non-null     object \n",
      " 4   Profit           50 non-null     float64\n",
      "dtypes: float64(4), object(1)\n",
      "memory usage: 2.1+ KB\n"
     ]
    }
   ],
   "source": [
    "#reading the file data\n",
    "data = pd.read_csv(\"/kaggle/input/50-startups/50_Startups.csv\")\n",
    "data.info()\n",
    "#the data has 5 columns with 4 in float and 1 a string \n",
    "#the label is the profit\n",
    "#the other are the features"
   ]
  },
  {
   "cell_type": "code",
   "execution_count": 3,
   "id": "7863159e",
   "metadata": {
    "execution": {
     "iopub.execute_input": "2024-07-10T01:04:07.846406Z",
     "iopub.status.busy": "2024-07-10T01:04:07.846036Z",
     "iopub.status.idle": "2024-07-10T01:04:07.855291Z",
     "shell.execute_reply": "2024-07-10T01:04:07.854298Z"
    },
    "papermill": {
     "duration": 0.020624,
     "end_time": "2024-07-10T01:04:07.857548",
     "exception": false,
     "start_time": "2024-07-10T01:04:07.836924",
     "status": "completed"
    },
    "tags": []
   },
   "outputs": [
    {
     "data": {
      "text/plain": [
       "R&D Spend          0\n",
       "Administration     0\n",
       "Marketing Spend    0\n",
       "State              0\n",
       "Profit             0\n",
       "dtype: int64"
      ]
     },
     "execution_count": 3,
     "metadata": {},
     "output_type": "execute_result"
    }
   ],
   "source": [
    "# the data is so clean\n",
    "data.isnull().sum()"
   ]
  },
  {
   "cell_type": "code",
   "execution_count": 4,
   "id": "6e7eb003",
   "metadata": {
    "execution": {
     "iopub.execute_input": "2024-07-10T01:04:07.876295Z",
     "iopub.status.busy": "2024-07-10T01:04:07.874929Z",
     "iopub.status.idle": "2024-07-10T01:04:07.908418Z",
     "shell.execute_reply": "2024-07-10T01:04:07.907362Z"
    },
    "papermill": {
     "duration": 0.045609,
     "end_time": "2024-07-10T01:04:07.911231",
     "exception": false,
     "start_time": "2024-07-10T01:04:07.865622",
     "status": "completed"
    },
    "tags": []
   },
   "outputs": [
    {
     "data": {
      "text/html": [
       "<div>\n",
       "<style scoped>\n",
       "    .dataframe tbody tr th:only-of-type {\n",
       "        vertical-align: middle;\n",
       "    }\n",
       "\n",
       "    .dataframe tbody tr th {\n",
       "        vertical-align: top;\n",
       "    }\n",
       "\n",
       "    .dataframe thead th {\n",
       "        text-align: right;\n",
       "    }\n",
       "</style>\n",
       "<table border=\"1\" class=\"dataframe\">\n",
       "  <thead>\n",
       "    <tr style=\"text-align: right;\">\n",
       "      <th></th>\n",
       "      <th>R&amp;D Spend</th>\n",
       "      <th>Administration</th>\n",
       "      <th>Marketing Spend</th>\n",
       "      <th>Profit</th>\n",
       "    </tr>\n",
       "  </thead>\n",
       "  <tbody>\n",
       "    <tr>\n",
       "      <th>count</th>\n",
       "      <td>50.000000</td>\n",
       "      <td>50.000000</td>\n",
       "      <td>50.000000</td>\n",
       "      <td>50.000000</td>\n",
       "    </tr>\n",
       "    <tr>\n",
       "      <th>mean</th>\n",
       "      <td>73721.615600</td>\n",
       "      <td>121344.639600</td>\n",
       "      <td>211025.097800</td>\n",
       "      <td>112012.639200</td>\n",
       "    </tr>\n",
       "    <tr>\n",
       "      <th>std</th>\n",
       "      <td>45902.256482</td>\n",
       "      <td>28017.802755</td>\n",
       "      <td>122290.310726</td>\n",
       "      <td>40306.180338</td>\n",
       "    </tr>\n",
       "    <tr>\n",
       "      <th>min</th>\n",
       "      <td>0.000000</td>\n",
       "      <td>51283.140000</td>\n",
       "      <td>0.000000</td>\n",
       "      <td>14681.400000</td>\n",
       "    </tr>\n",
       "    <tr>\n",
       "      <th>25%</th>\n",
       "      <td>39936.370000</td>\n",
       "      <td>103730.875000</td>\n",
       "      <td>129300.132500</td>\n",
       "      <td>90138.902500</td>\n",
       "    </tr>\n",
       "    <tr>\n",
       "      <th>50%</th>\n",
       "      <td>73051.080000</td>\n",
       "      <td>122699.795000</td>\n",
       "      <td>212716.240000</td>\n",
       "      <td>107978.190000</td>\n",
       "    </tr>\n",
       "    <tr>\n",
       "      <th>75%</th>\n",
       "      <td>101602.800000</td>\n",
       "      <td>144842.180000</td>\n",
       "      <td>299469.085000</td>\n",
       "      <td>139765.977500</td>\n",
       "    </tr>\n",
       "    <tr>\n",
       "      <th>max</th>\n",
       "      <td>165349.200000</td>\n",
       "      <td>182645.560000</td>\n",
       "      <td>471784.100000</td>\n",
       "      <td>192261.830000</td>\n",
       "    </tr>\n",
       "  </tbody>\n",
       "</table>\n",
       "</div>"
      ],
      "text/plain": [
       "           R&D Spend  Administration  Marketing Spend         Profit\n",
       "count      50.000000       50.000000        50.000000      50.000000\n",
       "mean    73721.615600   121344.639600    211025.097800  112012.639200\n",
       "std     45902.256482    28017.802755    122290.310726   40306.180338\n",
       "min         0.000000    51283.140000         0.000000   14681.400000\n",
       "25%     39936.370000   103730.875000    129300.132500   90138.902500\n",
       "50%     73051.080000   122699.795000    212716.240000  107978.190000\n",
       "75%    101602.800000   144842.180000    299469.085000  139765.977500\n",
       "max    165349.200000   182645.560000    471784.100000  192261.830000"
      ]
     },
     "execution_count": 4,
     "metadata": {},
     "output_type": "execute_result"
    }
   ],
   "source": [
    "# know the main numerical information about the data\n",
    "data.describe()"
   ]
  },
  {
   "cell_type": "markdown",
   "id": "303cc83f",
   "metadata": {
    "papermill": {
     "duration": 0.00767,
     "end_time": "2024-07-10T01:04:07.927158",
     "exception": false,
     "start_time": "2024-07-10T01:04:07.919488",
     "status": "completed"
    },
    "tags": []
   },
   "source": [
    "# Data Visualization"
   ]
  },
  {
   "cell_type": "code",
   "execution_count": 5,
   "id": "2050a5ad",
   "metadata": {
    "execution": {
     "iopub.execute_input": "2024-07-10T01:04:07.945006Z",
     "iopub.status.busy": "2024-07-10T01:04:07.944585Z",
     "iopub.status.idle": "2024-07-10T01:04:08.224177Z",
     "shell.execute_reply": "2024-07-10T01:04:08.222923Z"
    },
    "papermill": {
     "duration": 0.291427,
     "end_time": "2024-07-10T01:04:08.226592",
     "exception": false,
     "start_time": "2024-07-10T01:04:07.935165",
     "status": "completed"
    },
    "tags": []
   },
   "outputs": [
    {
     "data": {
      "text/plain": [
       "(Profit             1.000000\n",
       " R&D Spend          0.972900\n",
       " Marketing Spend    0.747766\n",
       " Administration     0.200717\n",
       " Name: Profit, dtype: float64,\n",
       " <Axes: >)"
      ]
     },
     "execution_count": 5,
     "metadata": {},
     "output_type": "execute_result"
    },
    {
     "data": {
      "image/png": "[encoded data removed]",
      "text/plain": [
       "<Figure size 640x480 with 1 Axes>"
      ]
     },
     "metadata": {},
     "output_type": "display_data"
    }
   ],
   "source": [
    "import matplotlib as plt\n",
    "#know the numerical data correlation with profit\n",
    "x = data[['Administration' , 'R&D Spend' , 'Marketing Spend' , 'Profit']].corr()['Profit'].sort_values(ascending = False)\n",
    "# we find that R&D Spend and Marketing Spend have strong correlation\n",
    "x , x.plot(kind = 'bar')"
   ]
  },
  {
   "cell_type": "code",
   "execution_count": 6,
   "id": "7ca598ab",
   "metadata": {
    "execution": {
     "iopub.execute_input": "2024-07-10T01:04:08.245381Z",
     "iopub.status.busy": "2024-07-10T01:04:08.245000Z",
     "iopub.status.idle": "2024-07-10T01:04:09.035882Z",
     "shell.execute_reply": "2024-07-10T01:04:09.034611Z"
    },
    "papermill": {
     "duration": 0.803281,
     "end_time": "2024-07-10T01:04:09.038467",
     "exception": false,
     "start_time": "2024-07-10T01:04:08.235186",
     "status": "completed"
    },
    "tags": []
   },
   "outputs": [
    {
     "data": {
      "image/png": "[encoded data removed]",
      "text/plain": [
       "<Figure size 640x480 with 4 Axes>"
      ]
     },
     "metadata": {},
     "output_type": "display_data"
    }
   ],
   "source": [
    "#the data has normal distributiion\n",
    "data.hist();"
   ]
  },
  {
   "cell_type": "code",
   "execution_count": 7,
   "id": "07d6ee13",
   "metadata": {
    "execution": {
     "iopub.execute_input": "2024-07-10T01:04:09.059203Z",
     "iopub.status.busy": "2024-07-10T01:04:09.058781Z",
     "iopub.status.idle": "2024-07-10T01:04:11.686842Z",
     "shell.execute_reply": "2024-07-10T01:04:11.685558Z"
    },
    "papermill": {
     "duration": 2.641607,
     "end_time": "2024-07-10T01:04:11.689765",
     "exception": false,
     "start_time": "2024-07-10T01:04:09.048158",
     "status": "completed"
    },
    "tags": []
   },
   "outputs": [
    {
     "data": {
      "text/html": [
       "        <script type=\"text/javascript\">\n",
       "        window.PlotlyConfig = {MathJaxConfig: 'local'};\n",
       "        if (window.MathJax && window.MathJax.Hub && window.MathJax.Hub.Config) {window.MathJax.Hub.Config({SVG: {font: \"STIX-Web\"}});}\n",
       "        if (typeof require !== 'undefined') {\n",
       "        require.undef(\"plotly\");\n",
       "        requirejs.config({\n",
       "            paths: {\n",
       "                'plotly': ['https://cdn.plot.ly/plotly-2.27.0.min']\n",
       "            }\n",
       "        });\n",
       "        require(['plotly'], function(Plotly) {\n",
       "            window._Plotly = Plotly;\n",
       "        });\n",
       "        }\n",
       "        </script>\n",
       "        "
      ]
     },
     "metadata": {},
     "output_type": "display_data"
    },
    {
     "data": {
      "text/html": [
       "<div>                            <div id=\"ecba3dc2-f502-4ca0-9481-a7829eb98d3e\" class=\"plotly-graph-div\" style=\"height:525px; width:100%;\"></div>            <script type=\"text/javascript\">                require([\"plotly\"], function(Plotly) {                    window.PLOTLYENV=window.PLOTLYENV || {};                                    if (document.getElementById(\"ecba3dc2-f502-4ca0-9481-a7829eb98d3e\")) {                    Plotly.newPlot(                        \"ecba3dc2-f502-4ca0-9481-a7829eb98d3e\",                        [{\"domain\":{\"x\":[0.0,1.0],\"y\":[0.0,1.0]},\"hovertemplate\":\"State=%{label}\\u003cextra\\u003e\\u003c\\u002fextra\\u003e\",\"labels\":[\"New York\",\"California\",\"Florida\",\"New York\",\"Florida\",\"New York\",\"California\",\"Florida\",\"New York\",\"California\",\"Florida\",\"California\",\"Florida\",\"California\",\"Florida\",\"New York\",\"California\",\"New York\",\"Florida\",\"New York\",\"California\",\"New York\",\"Florida\",\"Florida\",\"New York\",\"California\",\"Florida\",\"New York\",\"Florida\",\"New York\",\"Florida\",\"New York\",\"California\",\"Florida\",\"California\",\"New York\",\"Florida\",\"California\",\"New York\",\"California\",\"California\",\"Florida\",\"California\",\"New York\",\"California\",\"New York\",\"Florida\",\"California\",\"New York\",\"California\"],\"legendgroup\":\"\",\"name\":\"\",\"showlegend\":true,\"type\":\"pie\"}],                        {\"template\":{\"data\":{\"histogram2dcontour\":[{\"type\":\"histogram2dcontour\",\"colorbar\":{\"outlinewidth\":0,\"ticks\":\"\"},\"colorscale\":[[0.0,\"#0d0887\"],[0.1111111111111111,\"#46039f\"],[0.2222222222222222,\"#7201a8\"],[0.3333333333333333,\"#9c179e\"],[0.4444444444444444,\"#bd3786\"],[0.5555555555555556,\"#d8576b\"],[0.6666666666666666,\"#ed7953\"],[0.7777777777777778,\"#fb9f3a\"],[0.8888888888888888,\"#fdca26\"],[1.0,\"#f0f921\"]]}],\"choropleth\":[{\"type\":\"choropleth\",\"colorbar\":{\"outlinewidth\":0,\"ticks\":\"\"}}],\"histogram2d\":[{\"type\":\"histogram2d\",\"colorbar\":{\"outlinewidth\":0,\"ticks\":\"\"},\"colorscale\":[[0.0,\"#0d0887\"],[0.1111111111111111,\"#46039f\"],[0.2222222222222222,\"#7201a8\"],[0.3333333333333333,\"#9c179e\"],[0.4444444444444444,\"#bd3786\"],[0.5555555555555556,\"#d8576b\"],[0.6666666666666666,\"#ed7953\"],[0.7777777777777778,\"#fb9f3a\"],[0.8888888888888888,\"#fdca26\"],[1.0,\"#f0f921\"]]}],\"heatmap\":[{\"type\":\"heatmap\",\"colorbar\":{\"outlinewidth\":0,\"ticks\":\"\"},\"colorscale\":[[0.0,\"#0d0887\"],[0.1111111111111111,\"#46039f\"],[0.2222222222222222,\"#7201a8\"],[0.3333333333333333,\"#9c179e\"],[0.4444444444444444,\"#bd3786\"],[0.5555555555555556,\"#d8576b\"],[0.6666666666666666,\"#ed7953\"],[0.7777777777777778,\"#fb9f3a\"],[0.8888888888888888,\"#fdca26\"],[1.0,\"#f0f921\"]]}],\"heatmapgl\":[{\"type\":\"heatmapgl\",\"colorbar\":{\"outlinewidth\":0,\"ticks\":\"\"},\"colorscale\":[[0.0,\"#0d0887\"],[0.1111111111111111,\"#46039f\"],[0.2222222222222222,\"#7201a8\"],[0.3333333333333333,\"#9c179e\"],[0.4444444444444444,\"#bd3786\"],[0.5555555555555556,\"#d8576b\"],[0.6666666666666666,\"#ed7953\"],[0.7777777777777778,\"#fb9f3a\"],[0.8888888888888888,\"#fdca26\"],[1.0,\"#f0f921\"]]}],\"contourcarpet\":[{\"type\":\"contourcarpet\",\"colorbar\":{\"outlinewidth\":0,\"ticks\":\"\"}}],\"contour\":[{\"type\":\"contour\",\"colorbar\":{\"outlinewidth\":0,\"ticks\":\"\"},\"colorscale\":[[0.0,\"#0d0887\"],[0.1111111111111111,\"#46039f\"],[0.2222222222222222,\"#7201a8\"],[0.3333333333333333,\"#9c179e\"],[0.4444444444444444,\"#bd3786\"],[0.5555555555555556,\"#d8576b\"],[0.6666666666666666,\"#ed7953\"],[0.7777777777777778,\"#fb9f3a\"],[0.8888888888888888,\"#fdca26\"],[1.0,\"#f0f921\"]]}],\"surface\":[{\"type\":\"surface\",\"colorbar\":{\"outlinewidth\":0,\"ticks\":\"\"},\"colorscale\":[[0.0,\"#0d0887\"],[0.1111111111111111,\"#46039f\"],[0.2222222222222222,\"#7201a8\"],[0.3333333333333333,\"#9c179e\"],[0.4444444444444444,\"#bd3786\"],[0.5555555555555556,\"#d8576b\"],[0.6666666666666666,\"#ed7953\"],[0.7777777777777778,\"#fb9f3a\"],[0.8888888888888888,\"#fdca26\"],[1.0,\"#f0f921\"]]}],\"mesh3d\":[{\"type\":\"mesh3d\",\"colorbar\":{\"outlinewidth\":0,\"ticks\":\"\"}}],\"scatter\":[{\"fillpattern\":{\"fillmode\":\"overlay\",\"size\":10,\"solidity\":0.2},\"type\":\"scatter\"}],\"parcoords\":[{\"type\":\"parcoords\",\"line\":{\"colorbar\":{\"outlinewidth\":0,\"ticks\":\"\"}}}],\"scatterpolargl\":[{\"type\":\"scatterpolargl\",\"marker\":{\"colorbar\":{\"outlinewidth\":0,\"ticks\":\"\"}}}],\"bar\":[{\"error_x\":{\"color\":\"#2a3f5f\"},\"error_y\":{\"color\":\"#2a3f5f\"},\"marker\":{\"line\":{\"color\":\"#E5ECF6\",\"width\":0.5},\"pattern\":{\"fillmode\":\"overlay\",\"size\":10,\"solidity\":0.2}},\"type\":\"bar\"}],\"scattergeo\":[{\"type\":\"scattergeo\",\"marker\":{\"colorbar\":{\"outlinewidth\":0,\"ticks\":\"\"}}}],\"scatterpolar\":[{\"type\":\"scatterpolar\",\"marker\":{\"colorbar\":{\"outlinewidth\":0,\"ticks\":\"\"}}}],\"histogram\":[{\"marker\":{\"pattern\":{\"fillmode\":\"overlay\",\"size\":10,\"solidity\":0.2}},\"type\":\"histogram\"}],\"scattergl\":[{\"type\":\"scattergl\",\"marker\":{\"colorbar\":{\"outlinewidth\":0,\"ticks\":\"\"}}}],\"scatter3d\":[{\"type\":\"scatter3d\",\"line\":{\"colorbar\":{\"outlinewidth\":0,\"ticks\":\"\"}},\"marker\":{\"colorbar\":{\"outlinewidth\":0,\"ticks\":\"\"}}}],\"scattermapbox\":[{\"type\":\"scattermapbox\",\"marker\":{\"colorbar\":{\"outlinewidth\":0,\"ticks\":\"\"}}}],\"scatterternary\":[{\"type\":\"scatterternary\",\"marker\":{\"colorbar\":{\"outlinewidth\":0,\"ticks\":\"\"}}}],\"scattercarpet\":[{\"type\":\"scattercarpet\",\"marker\":{\"colorbar\":{\"outlinewidth\":0,\"ticks\":\"\"}}}],\"carpet\":[{\"aaxis\":{\"endlinecolor\":\"#2a3f5f\",\"gridcolor\":\"white\",\"linecolor\":\"white\",\"minorgridcolor\":\"white\",\"startlinecolor\":\"#2a3f5f\"},\"baxis\":{\"endlinecolor\":\"#2a3f5f\",\"gridcolor\":\"white\",\"linecolor\":\"white\",\"minorgridcolor\":\"white\",\"startlinecolor\":\"#2a3f5f\"},\"type\":\"carpet\"}],\"table\":[{\"cells\":{\"fill\":{\"color\":\"#EBF0F8\"},\"line\":{\"color\":\"white\"}},\"header\":{\"fill\":{\"color\":\"#C8D4E3\"},\"line\":{\"color\":\"white\"}},\"type\":\"table\"}],\"barpolar\":[{\"marker\":{\"line\":{\"color\":\"#E5ECF6\",\"width\":0.5},\"pattern\":{\"fillmode\":\"overlay\",\"size\":10,\"solidity\":0.2}},\"type\":\"barpolar\"}],\"pie\":[{\"automargin\":true,\"type\":\"pie\"}]},\"layout\":{\"autotypenumbers\":\"strict\",\"colorway\":[\"#636efa\",\"#EF553B\",\"#00cc96\",\"#ab63fa\",\"#FFA15A\",\"#19d3f3\",\"#FF6692\",\"#B6E880\",\"#FF97FF\",\"#FECB52\"],\"font\":{\"color\":\"#2a3f5f\"},\"hovermode\":\"closest\",\"hoverlabel\":{\"align\":\"left\"},\"paper_bgcolor\":\"white\",\"plot_bgcolor\":\"#E5ECF6\",\"polar\":{\"bgcolor\":\"#E5ECF6\",\"angularaxis\":{\"gridcolor\":\"white\",\"linecolor\":\"white\",\"ticks\":\"\"},\"radialaxis\":{\"gridcolor\":\"white\",\"linecolor\":\"white\",\"ticks\":\"\"}},\"ternary\":{\"bgcolor\":\"#E5ECF6\",\"aaxis\":{\"gridcolor\":\"white\",\"linecolor\":\"white\",\"ticks\":\"\"},\"baxis\":{\"gridcolor\":\"white\",\"linecolor\":\"white\",\"ticks\":\"\"},\"caxis\":{\"gridcolor\":\"white\",\"linecolor\":\"white\",\"ticks\":\"\"}},\"coloraxis\":{\"colorbar\":{\"outlinewidth\":0,\"ticks\":\"\"}},\"colorscale\":{\"sequential\":[[0.0,\"#0d0887\"],[0.1111111111111111,\"#46039f\"],[0.2222222222222222,\"#7201a8\"],[0.3333333333333333,\"#9c179e\"],[0.4444444444444444,\"#bd3786\"],[0.5555555555555556,\"#d8576b\"],[0.6666666666666666,\"#ed7953\"],[0.7777777777777778,\"#fb9f3a\"],[0.8888888888888888,\"#fdca26\"],[1.0,\"#f0f921\"]],\"sequentialminus\":[[0.0,\"#0d0887\"],[0.1111111111111111,\"#46039f\"],[0.2222222222222222,\"#7201a8\"],[0.3333333333333333,\"#9c179e\"],[0.4444444444444444,\"#bd3786\"],[0.5555555555555556,\"#d8576b\"],[0.6666666666666666,\"#ed7953\"],[0.7777777777777778,\"#fb9f3a\"],[0.8888888888888888,\"#fdca26\"],[1.0,\"#f0f921\"]],\"diverging\":[[0,\"#8e0152\"],[0.1,\"#c51b7d\"],[0.2,\"#de77ae\"],[0.3,\"#f1b6da\"],[0.4,\"#fde0ef\"],[0.5,\"#f7f7f7\"],[0.6,\"#e6f5d0\"],[0.7,\"#b8e186\"],[0.8,\"#7fbc41\"],[0.9,\"#4d9221\"],[1,\"#276419\"]]},\"xaxis\":{\"gridcolor\":\"white\",\"linecolor\":\"white\",\"ticks\":\"\",\"title\":{\"standoff\":15},\"zerolinecolor\":\"white\",\"automargin\":true,\"zerolinewidth\":2},\"yaxis\":{\"gridcolor\":\"white\",\"linecolor\":\"white\",\"ticks\":\"\",\"title\":{\"standoff\":15},\"zerolinecolor\":\"white\",\"automargin\":true,\"zerolinewidth\":2},\"scene\":{\"xaxis\":{\"backgroundcolor\":\"#E5ECF6\",\"gridcolor\":\"white\",\"linecolor\":\"white\",\"showbackground\":true,\"ticks\":\"\",\"zerolinecolor\":\"white\",\"gridwidth\":2},\"yaxis\":{\"backgroundcolor\":\"#E5ECF6\",\"gridcolor\":\"white\",\"linecolor\":\"white\",\"showbackground\":true,\"ticks\":\"\",\"zerolinecolor\":\"white\",\"gridwidth\":2},\"zaxis\":{\"backgroundcolor\":\"#E5ECF6\",\"gridcolor\":\"white\",\"linecolor\":\"white\",\"showbackground\":true,\"ticks\":\"\",\"zerolinecolor\":\"white\",\"gridwidth\":2}},\"shapedefaults\":{\"line\":{\"color\":\"#2a3f5f\"}},\"annotationdefaults\":{\"arrowcolor\":\"#2a3f5f\",\"arrowhead\":0,\"arrowwidth\":1},\"geo\":{\"bgcolor\":\"white\",\"landcolor\":\"#E5ECF6\",\"subunitcolor\":\"white\",\"showland\":true,\"showlakes\":true,\"lakecolor\":\"white\"},\"title\":{\"x\":0.05},\"mapbox\":{\"style\":\"light\"}}},\"legend\":{\"tracegroupgap\":0},\"margin\":{\"t\":60}},                        {\"responsive\": true}                    ).then(function(){\n",
       "                            \n",
       "var gd = document.getElementById('ecba3dc2-f502-4ca0-9481-a7829eb98d3e');\n",
       "var x = new MutationObserver(function (mutations, observer) {{\n",
       "        var display = window.getComputedStyle(gd).display;\n",
       "        if (!display || display === 'none') {{\n",
       "            console.log([gd, 'removed!']);\n",
       "            Plotly.purge(gd);\n",
       "            observer.disconnect();\n",
       "        }}\n",
       "}});\n",
       "\n",
       "// Listen for the removal of the full notebook cells\n",
       "var notebookContainer = gd.closest('#notebook-container');\n",
       "if (notebookContainer) {{\n",
       "    x.observe(notebookContainer, {childList: true});\n",
       "}}\n",
       "\n",
       "// Listen for the clearing of the current output cell\n",
       "var outputEl = gd.closest('.output');\n",
       "if (outputEl) {{\n",
       "    x.observe(outputEl, {childList: true});\n",
       "}}\n",
       "\n",
       "                        })                };                });            </script>        </div>"
      ]
     },
     "metadata": {},
     "output_type": "display_data"
    }
   ],
   "source": [
    "#categorical data\n",
    "import plotly.express as px\n",
    "px.pie(data , names='State')"
   ]
  },
  {
   "cell_type": "code",
   "execution_count": 8,
   "id": "1734ea3b",
   "metadata": {
    "execution": {
     "iopub.execute_input": "2024-07-10T01:04:11.711804Z",
     "iopub.status.busy": "2024-07-10T01:04:11.711413Z",
     "iopub.status.idle": "2024-07-10T01:04:11.720417Z",
     "shell.execute_reply": "2024-07-10T01:04:11.719082Z"
    },
    "papermill": {
     "duration": 0.023385,
     "end_time": "2024-07-10T01:04:11.722927",
     "exception": false,
     "start_time": "2024-07-10T01:04:11.699542",
     "status": "completed"
    },
    "tags": []
   },
   "outputs": [
    {
     "data": {
      "text/plain": [
       "State\n",
       "New York      17\n",
       "California    17\n",
       "Florida       16\n",
       "Name: count, dtype: int64"
      ]
     },
     "execution_count": 8,
     "metadata": {},
     "output_type": "execute_result"
    }
   ],
   "source": [
    "data['State'].value_counts()"
   ]
  },
  {
   "cell_type": "code",
   "execution_count": 9,
   "id": "2556c851",
   "metadata": {
    "execution": {
     "iopub.execute_input": "2024-07-10T01:04:11.743434Z",
     "iopub.status.busy": "2024-07-10T01:04:11.743055Z",
     "iopub.status.idle": "2024-07-10T01:04:13.646753Z",
     "shell.execute_reply": "2024-07-10T01:04:13.645648Z"
    },
    "papermill": {
     "duration": 1.916832,
     "end_time": "2024-07-10T01:04:13.649254",
     "exception": false,
     "start_time": "2024-07-10T01:04:11.732422",
     "status": "completed"
    },
    "tags": []
   },
   "outputs": [
    {
     "data": {
      "text/plain": [
       "<Axes: xlabel='State', ylabel='Profit'>"
      ]
     },
     "execution_count": 9,
     "metadata": {},
     "output_type": "execute_result"
    },
    {
     "data": {
      "image/png": "[encoded data removed]",
      "text/plain": [
       "<Figure size 640x480 with 1 Axes>"
      ]
     },
     "metadata": {},
     "output_type": "display_data"
    }
   ],
   "source": [
    "#see the relation between categorical and numerical data\n",
    "import seaborn as sns\n",
    "sns.set()\n",
    "sns.barplot(data =data , x = 'State' , y = 'Profit')"
   ]
  },
  {
   "cell_type": "markdown",
   "id": "77c4b5c8",
   "metadata": {
    "papermill": {
     "duration": 0.00999,
     "end_time": "2024-07-10T01:04:13.669877",
     "exception": false,
     "start_time": "2024-07-10T01:04:13.659887",
     "status": "completed"
    },
    "tags": []
   },
   "source": [
    "# Train_set and test_set split "
   ]
  },
  {
   "cell_type": "code",
   "execution_count": 10,
   "id": "e73226c1",
   "metadata": {
    "execution": {
     "iopub.execute_input": "2024-07-10T01:04:13.691894Z",
     "iopub.status.busy": "2024-07-10T01:04:13.691461Z",
     "iopub.status.idle": "2024-07-10T01:04:14.001944Z",
     "shell.execute_reply": "2024-07-10T01:04:14.000531Z"
    },
    "papermill": {
     "duration": 0.324871,
     "end_time": "2024-07-10T01:04:14.004779",
     "exception": false,
     "start_time": "2024-07-10T01:04:13.679908",
     "status": "completed"
    },
    "tags": []
   },
   "outputs": [],
   "source": [
    "from sklearn.model_selection import train_test_split\n",
    "train_set , test_set = train_test_split(data , test_size = 0.2 , random_state = 42)"
   ]
  },
  {
   "cell_type": "code",
   "execution_count": 11,
   "id": "7512b590",
   "metadata": {
    "execution": {
     "iopub.execute_input": "2024-07-10T01:04:14.026891Z",
     "iopub.status.busy": "2024-07-10T01:04:14.026478Z",
     "iopub.status.idle": "2024-07-10T01:04:14.034078Z",
     "shell.execute_reply": "2024-07-10T01:04:14.032933Z"
    },
    "papermill": {
     "duration": 0.021377,
     "end_time": "2024-07-10T01:04:14.036429",
     "exception": false,
     "start_time": "2024-07-10T01:04:14.015052",
     "status": "completed"
    },
    "tags": []
   },
   "outputs": [
    {
     "data": {
      "text/plain": [
       "((40, 5), (10, 5))"
      ]
     },
     "execution_count": 11,
     "metadata": {},
     "output_type": "execute_result"
    }
   ],
   "source": [
    "train_set.shape , test_set.shape  "
   ]
  },
  {
   "cell_type": "code",
   "execution_count": 12,
   "id": "4a71ce42",
   "metadata": {
    "execution": {
     "iopub.execute_input": "2024-07-10T01:04:14.059355Z",
     "iopub.status.busy": "2024-07-10T01:04:14.058534Z",
     "iopub.status.idle": "2024-07-10T01:04:15.117581Z",
     "shell.execute_reply": "2024-07-10T01:04:15.116266Z"
    },
    "papermill": {
     "duration": 1.073029,
     "end_time": "2024-07-10T01:04:15.120127",
     "exception": false,
     "start_time": "2024-07-10T01:04:14.047098",
     "status": "completed"
    },
    "tags": []
   },
   "outputs": [
    {
     "data": {
      "text/plain": [
       "array([[<Axes: title={'center': 'R&D Spend'}>,\n",
       "        <Axes: title={'center': 'Administration'}>],\n",
       "       [<Axes: title={'center': 'Marketing Spend'}>,\n",
       "        <Axes: title={'center': 'Profit'}>]], dtype=object)"
      ]
     },
     "execution_count": 12,
     "metadata": {},
     "output_type": "execute_result"
    },
    {
     "data": {
      "image/png": "[encoded data removed]",
      "text/plain": [
       "<Figure size 640x480 with 4 Axes>"
      ]
     },
     "metadata": {},
     "output_type": "display_data"
    }
   ],
   "source": [
    "train_set.hist()"
   ]
  },
  {
   "cell_type": "code",
   "execution_count": 13,
   "id": "5deaa9bf",
   "metadata": {
    "execution": {
     "iopub.execute_input": "2024-07-10T01:04:15.143388Z",
     "iopub.status.busy": "2024-07-10T01:04:15.142978Z",
     "iopub.status.idle": "2024-07-10T01:04:16.179226Z",
     "shell.execute_reply": "2024-07-10T01:04:16.178020Z"
    },
    "papermill": {
     "duration": 1.050982,
     "end_time": "2024-07-10T01:04:16.181759",
     "exception": false,
     "start_time": "2024-07-10T01:04:15.130777",
     "status": "completed"
    },
    "tags": []
   },
   "outputs": [
    {
     "data": {
      "text/plain": [
       "array([[<Axes: title={'center': 'R&D Spend'}>,\n",
       "        <Axes: title={'center': 'Administration'}>],\n",
       "       [<Axes: title={'center': 'Marketing Spend'}>,\n",
       "        <Axes: title={'center': 'Profit'}>]], dtype=object)"
      ]
     },
     "execution_count": 13,
     "metadata": {},
     "output_type": "execute_result"
    },
    {
     "data": {
      "image/png": "[encoded data removed]",
      "text/plain": [
       "<Figure size 640x480 with 4 Axes>"
      ]
     },
     "metadata": {},
     "output_type": "display_data"
    }
   ],
   "source": [
    "test_set.hist()"
   ]
  },
  {
   "cell_type": "code",
   "execution_count": 14,
   "id": "188215eb",
   "metadata": {
    "execution": {
     "iopub.execute_input": "2024-07-10T01:04:16.206674Z",
     "iopub.status.busy": "2024-07-10T01:04:16.206254Z",
     "iopub.status.idle": "2024-07-10T01:04:16.218799Z",
     "shell.execute_reply": "2024-07-10T01:04:16.217731Z"
    },
    "papermill": {
     "duration": 0.027641,
     "end_time": "2024-07-10T01:04:16.221142",
     "exception": false,
     "start_time": "2024-07-10T01:04:16.193501",
     "status": "completed"
    },
    "tags": []
   },
   "outputs": [
    {
     "data": {
      "text/plain": [
       "((40, 4), (40, 1), (40, 3), (40, 1))"
      ]
     },
     "execution_count": 14,
     "metadata": {},
     "output_type": "execute_result"
    }
   ],
   "source": [
    "#preparing the training data into needed ones:\n",
    "#1- features and labels\n",
    "#2- split features into numerical and categiorical data\n",
    "train_feature = train_set.drop('Profit' , axis = 1).copy()\n",
    "train_label  = train_set[['Profit']].copy()\n",
    "train_numf  = train_feature.drop('State' ,axis = 1).copy()\n",
    "train_catf = train_feature[['State']].copy()\n",
    "train_feature.shape , train_label.shape  , train_numf.shape  , train_catf.shape "
   ]
  },
  {
   "cell_type": "markdown",
   "id": "b2498419",
   "metadata": {
    "papermill": {
     "duration": 0.01111,
     "end_time": "2024-07-10T01:04:16.243560",
     "exception": false,
     "start_time": "2024-07-10T01:04:16.232450",
     "status": "completed"
    },
    "tags": []
   },
   "source": [
    "# Dealing With numerical data"
   ]
  },
  {
   "cell_type": "code",
   "execution_count": 15,
   "id": "906c2031",
   "metadata": {
    "execution": {
     "iopub.execute_input": "2024-07-10T01:04:16.267980Z",
     "iopub.status.busy": "2024-07-10T01:04:16.267570Z",
     "iopub.status.idle": "2024-07-10T01:04:16.460766Z",
     "shell.execute_reply": "2024-07-10T01:04:16.459562Z"
    },
    "papermill": {
     "duration": 0.208424,
     "end_time": "2024-07-10T01:04:16.463326",
     "exception": false,
     "start_time": "2024-07-10T01:04:16.254902",
     "status": "completed"
    },
    "tags": []
   },
   "outputs": [
    {
     "data": {
      "text/plain": [
       "array([ 75124.21 , 120134.7  , 249791.995])"
      ]
     },
     "execution_count": 15,
     "metadata": {},
     "output_type": "execute_result"
    }
   ],
   "source": [
    "#imputation using median\n",
    "from sklearn.impute import SimpleImputer\n",
    "imputer = SimpleImputer(strategy = 'median')\n",
    "imputer.fit(train_numf)\n",
    "imputer.statistics_"
   ]
  },
  {
   "cell_type": "code",
   "execution_count": 16,
   "id": "b128c605",
   "metadata": {
    "execution": {
     "iopub.execute_input": "2024-07-10T01:04:16.488472Z",
     "iopub.status.busy": "2024-07-10T01:04:16.488077Z",
     "iopub.status.idle": "2024-07-10T01:04:16.501589Z",
     "shell.execute_reply": "2024-07-10T01:04:16.500574Z"
    },
    "papermill": {
     "duration": 0.028644,
     "end_time": "2024-07-10T01:04:16.503896",
     "exception": false,
     "start_time": "2024-07-10T01:04:16.475252",
     "status": "completed"
    },
    "tags": []
   },
   "outputs": [
    {
     "data": {
      "text/html": [
       "<div>\n",
       "<style scoped>\n",
       "    .dataframe tbody tr th:only-of-type {\n",
       "        vertical-align: middle;\n",
       "    }\n",
       "\n",
       "    .dataframe tbody tr th {\n",
       "        vertical-align: top;\n",
       "    }\n",
       "\n",
       "    .dataframe thead th {\n",
       "        text-align: right;\n",
       "    }\n",
       "</style>\n",
       "<table border=\"1\" class=\"dataframe\">\n",
       "  <thead>\n",
       "    <tr style=\"text-align: right;\">\n",
       "      <th></th>\n",
       "      <th>R&amp;D Spend</th>\n",
       "      <th>Administration</th>\n",
       "      <th>Marketing Spend</th>\n",
       "    </tr>\n",
       "  </thead>\n",
       "  <tbody>\n",
       "    <tr>\n",
       "      <th>12</th>\n",
       "      <td>93863.75</td>\n",
       "      <td>127320.38</td>\n",
       "      <td>249839.44</td>\n",
       "    </tr>\n",
       "    <tr>\n",
       "      <th>4</th>\n",
       "      <td>142107.34</td>\n",
       "      <td>91391.77</td>\n",
       "      <td>366168.42</td>\n",
       "    </tr>\n",
       "    <tr>\n",
       "      <th>37</th>\n",
       "      <td>44069.95</td>\n",
       "      <td>51283.14</td>\n",
       "      <td>197029.42</td>\n",
       "    </tr>\n",
       "  </tbody>\n",
       "</table>\n",
       "</div>"
      ],
      "text/plain": [
       "    R&D Spend  Administration  Marketing Spend\n",
       "12   93863.75       127320.38        249839.44\n",
       "4   142107.34        91391.77        366168.42\n",
       "37   44069.95        51283.14        197029.42"
      ]
     },
     "execution_count": 16,
     "metadata": {},
     "output_type": "execute_result"
    }
   ],
   "source": [
    "#making a dataframe of the imputation numerical data\n",
    "Imputation_Data = pd.DataFrame(imputer.transform(train_numf) , index = train_numf.index , columns = train_numf.columns)\n",
    "Imputation_Data.head(3)"
   ]
  },
  {
   "cell_type": "code",
   "execution_count": 17,
   "id": "91f8d6dd",
   "metadata": {
    "execution": {
     "iopub.execute_input": "2024-07-10T01:04:16.528572Z",
     "iopub.status.busy": "2024-07-10T01:04:16.528184Z",
     "iopub.status.idle": "2024-07-10T01:04:16.540424Z",
     "shell.execute_reply": "2024-07-10T01:04:16.539351Z"
    },
    "papermill": {
     "duration": 0.027367,
     "end_time": "2024-07-10T01:04:16.542803",
     "exception": false,
     "start_time": "2024-07-10T01:04:16.515436",
     "status": "completed"
    },
    "tags": []
   },
   "outputs": [
    {
     "data": {
      "text/plain": [
       "array([[0., 1., 0.],\n",
       "       [0., 1., 0.],\n",
       "       [1., 0., 0.],\n",
       "       [0., 0., 1.],\n",
       "       [0., 0., 1.],\n",
       "       [1., 0., 0.],\n",
       "       [0., 1., 0.],\n",
       "       [0., 1., 0.],\n",
       "       [1., 0., 0.],\n",
       "       [0., 0., 1.],\n",
       "       [1., 0., 0.],\n",
       "       [1., 0., 0.],\n",
       "       [0., 0., 1.],\n",
       "       [1., 0., 0.],\n",
       "       [0., 0., 1.],\n",
       "       [0., 0., 1.],\n",
       "       [1., 0., 0.],\n",
       "       [0., 0., 1.],\n",
       "       [0., 1., 0.],\n",
       "       [0., 0., 1.],\n",
       "       [0., 0., 1.],\n",
       "       [1., 0., 0.],\n",
       "       [0., 1., 0.],\n",
       "       [1., 0., 0.],\n",
       "       [0., 0., 1.],\n",
       "       [0., 1., 0.],\n",
       "       [0., 0., 1.],\n",
       "       [0., 0., 1.],\n",
       "       [0., 1., 0.],\n",
       "       [1., 0., 0.],\n",
       "       [0., 1., 0.],\n",
       "       [0., 1., 0.],\n",
       "       [0., 1., 0.],\n",
       "       [1., 0., 0.],\n",
       "       [1., 0., 0.],\n",
       "       [0., 1., 0.],\n",
       "       [1., 0., 0.],\n",
       "       [0., 1., 0.],\n",
       "       [0., 1., 0.],\n",
       "       [0., 0., 1.]])"
      ]
     },
     "execution_count": 17,
     "metadata": {},
     "output_type": "execute_result"
    }
   ],
   "source": [
    "# Dealing with categorical data\n",
    "from sklearn.preprocessing import OneHotEncoder\n",
    "catencoder = OneHotEncoder(sparse_output = False)\n",
    "cat = catencoder.fit_transform(train_catf)\n",
    "cat"
   ]
  },
  {
   "cell_type": "markdown",
   "id": "da11ec15",
   "metadata": {
    "papermill": {
     "duration": 0.011767,
     "end_time": "2024-07-10T01:04:16.566636",
     "exception": false,
     "start_time": "2024-07-10T01:04:16.554869",
     "status": "completed"
    },
    "tags": []
   },
   "source": [
    "# Feature Scaling"
   ]
  },
  {
   "cell_type": "code",
   "execution_count": 18,
   "id": "51889517",
   "metadata": {
    "execution": {
     "iopub.execute_input": "2024-07-10T01:04:16.592200Z",
     "iopub.status.busy": "2024-07-10T01:04:16.591787Z",
     "iopub.status.idle": "2024-07-10T01:04:16.604449Z",
     "shell.execute_reply": "2024-07-10T01:04:16.603193Z"
    },
    "papermill": {
     "duration": 0.028294,
     "end_time": "2024-07-10T01:04:16.606870",
     "exception": false,
     "start_time": "2024-07-10T01:04:16.578576",
     "status": "completed"
    },
    "tags": []
   },
   "outputs": [
    {
     "data": {
      "text/plain": [
       "array([[ 0.34202149,  0.22787678,  0.12425038],\n",
       "       [ 1.36207849, -1.0974737 ,  1.14990688],\n",
       "       [-0.71081297, -2.5770186 , -0.34136825],\n",
       "       [ 0.90611438,  1.0172367 ,  0.66890185],\n",
       "       [ 1.40997088, -0.09115403,  1.30006861],\n",
       "       [ 1.20367103,  0.96116332, -0.95248784],\n",
       "       [-1.05285826, -1.34392538, -0.62843389],\n",
       "       [-1.61480906, -0.19649414,  0.54106768],\n",
       "       [-1.642623  ,  0.52691442, -2.07854935],\n",
       "       [ 0.77885123,  0.05437051,  0.2294954 ],\n",
       "       [ 0.96515572, -0.45976843,  0.61043134],\n",
       "       [ 0.00687736,  0.01677049,  0.25215324],\n",
       "       [-0.01361318, -0.80643974, -0.83912073],\n",
       "       [-0.66099544,  1.34830937, -0.2199755 ],\n",
       "       [-0.34996231,  1.16416226, -1.30074144],\n",
       "       [ 1.85350175,  0.58117289,  2.08110569],\n",
       "       [-1.17369938,  1.24178366, -1.82872605],\n",
       "       [-0.11798808,  0.24795036,  1.03542337],\n",
       "       [-0.46926521, -0.66714345, -0.18614397],\n",
       "       [ 1.14576723, -0.78676456,  1.12074899],\n",
       "       [-0.25546817,  1.17634061, -1.1339251 ],\n",
       "       [ 0.48597351, -1.08276111,  0.12341374],\n",
       "       [-1.03655971,  0.21813196, -0.30524204],\n",
       "       [ 1.79532434,  1.11530979,  1.83524249],\n",
       "       [ 0.01483507,  1.2036886 ,  0.56419281],\n",
       "       [ 1.6017269 , -0.73767194,  1.51815297],\n",
       "       [-1.3147716 ,  0.23016091, -1.7652495 ],\n",
       "       [-0.66970778, -1.33150615, -0.26652879],\n",
       "       [-0.21472284, -0.56778295,  0.60855432],\n",
       "       [-1.03464471, -0.09579459, -0.55503387],\n",
       "       [ 0.51221561, -0.38912928, -0.058069  ],\n",
       "       [-0.07809041,  0.06049067,  0.59577454],\n",
       "       [ 0.29731084, -0.25700668,  0.52171564],\n",
       "       [-1.642623  , -0.15342356, -1.68026474],\n",
       "       [-0.03032003, -0.26838639,  0.5547339 ],\n",
       "       [ 1.11238589,  0.89960352,  0.77702646],\n",
       "       [-1.14276186, -0.92048811, -0.77364407],\n",
       "       [ 0.89344327,  1.30601677,  0.18308953],\n",
       "       [-0.24603715,  2.26873651, -1.03685304],\n",
       "       [-1.21489084, -2.03605733, -0.44509263]])"
      ]
     },
     "execution_count": 18,
     "metadata": {},
     "output_type": "execute_result"
    }
   ],
   "source": [
    "#StandardScaler\n",
    "from sklearn.preprocessing import StandardScaler\n",
    "scaler = StandardScaler()\n",
    "feature = scaler.fit_transform(train_numf) \n",
    "feature"
   ]
  },
  {
   "cell_type": "markdown",
   "id": "30299fcb",
   "metadata": {
    "papermill": {
     "duration": 0.011796,
     "end_time": "2024-07-10T01:04:16.630490",
     "exception": false,
     "start_time": "2024-07-10T01:04:16.618694",
     "status": "completed"
    },
    "tags": []
   },
   "source": [
    "# Making A Pipeline"
   ]
  },
  {
   "cell_type": "code",
   "execution_count": 19,
   "id": "a08a6cdd",
   "metadata": {
    "execution": {
     "iopub.execute_input": "2024-07-10T01:04:16.656588Z",
     "iopub.status.busy": "2024-07-10T01:04:16.655788Z",
     "iopub.status.idle": "2024-07-10T01:04:16.689436Z",
     "shell.execute_reply": "2024-07-10T01:04:16.688255Z"
    },
    "papermill": {
     "duration": 0.049892,
     "end_time": "2024-07-10T01:04:16.692278",
     "exception": false,
     "start_time": "2024-07-10T01:04:16.642386",
     "status": "completed"
    },
    "tags": []
   },
   "outputs": [
    {
     "data": {
      "text/plain": [
       "(40, 5)"
      ]
     },
     "execution_count": 19,
     "metadata": {},
     "output_type": "execute_result"
    }
   ],
   "source": [
    "#pipeline for numerical data\n",
    "from sklearn.pipeline import Pipeline\n",
    "pipeline = Pipeline([('imputer', SimpleImputer(strategy = 'median')) , ('std_scaler' , StandardScaler())])\n",
    "num_pipe = pipeline.fit_transform(train_numf)\n",
    "\n",
    "#dealing with categorical data\n",
    "from sklearn.compose import ColumnTransformer\n",
    "num =list(train_numf)\n",
    "cat = ['State']\n",
    "\n",
    "full_pipeline = ColumnTransformer([('num' ,pipeline , num) , (\"cat\" , OneHotEncoder(sparse = False) , cat)])\n",
    "\n",
    "# Using make_column_transformer\n",
    "from sklearn.compose import make_column_transformer\n",
    "full_pipeline = make_column_transformer((pipeline, num),(OneHotEncoder(sparse_output= False , drop = 'first'), cat))\n",
    "\n",
    "# Transform the training data\n",
    "train_features_prepared = full_pipeline.fit_transform(train_feature)\n",
    "train_features_prepared.shape"
   ]
  },
  {
   "cell_type": "markdown",
   "id": "617ad7e6",
   "metadata": {
    "papermill": {
     "duration": 0.011931,
     "end_time": "2024-07-10T01:04:16.716491",
     "exception": false,
     "start_time": "2024-07-10T01:04:16.704560",
     "status": "completed"
    },
    "tags": []
   },
   "source": [
    "# Modeling"
   ]
  },
  {
   "cell_type": "code",
   "execution_count": 20,
   "id": "38e0cba3",
   "metadata": {
    "execution": {
     "iopub.execute_input": "2024-07-10T01:04:16.742154Z",
     "iopub.status.busy": "2024-07-10T01:04:16.741731Z",
     "iopub.status.idle": "2024-07-10T01:04:16.814030Z",
     "shell.execute_reply": "2024-07-10T01:04:16.812912Z"
    },
    "papermill": {
     "duration": 0.08818,
     "end_time": "2024-07-10T01:04:16.816569",
     "exception": false,
     "start_time": "2024-07-10T01:04:16.728389",
     "status": "completed"
    },
    "tags": []
   },
   "outputs": [
    {
     "name": "stdout",
     "output_type": "stream",
     "text": [
      "The Accuracy of the linear Regression :  0.9537019995248526 %\n",
      "linear cross validation score:  [0.9226481  0.97501191 0.93143071 0.96694209 0.9408353  0.93863795\n",
      " 0.9631974  0.93125019 0.87182566 0.70645281]\n",
      "linear cross validation mean score:  0.91\n",
      "linear cross validation std score:  0.07\n"
     ]
    }
   ],
   "source": [
    "#linear Regression\n",
    "from sklearn.linear_model import LinearRegression\n",
    "lin = LinearRegression()\n",
    "lin.fit(train_features_prepared ,train_label)\n",
    "lin_predict = lin.predict(train_features_prepared)\n",
    "\n",
    "#check accuracy\n",
    "from sklearn.metrics import r2_score\n",
    "print(\"The Accuracy of the linear Regression : \" ,r2_score(train_label , lin_predict), '%')\n",
    "\n",
    "#applying cross validation\n",
    "from sklearn.model_selection import cross_val_score\n",
    "lin_score = cross_val_score(lin , train_features_prepared , train_label , scoring = 'r2' , cv = 10)\n",
    "print(\"linear cross validation score: \" , lin_score)\n",
    "print(\"linear cross validation mean score: \" , round(lin_score.mean() , 2))\n",
    "print(\"linear cross validation std score: \" , round(lin_score.std() , 2))"
   ]
  },
  {
   "cell_type": "code",
   "execution_count": 21,
   "id": "1d53e198",
   "metadata": {
    "execution": {
     "iopub.execute_input": "2024-07-10T01:04:16.842953Z",
     "iopub.status.busy": "2024-07-10T01:04:16.842541Z",
     "iopub.status.idle": "2024-07-10T01:04:16.929915Z",
     "shell.execute_reply": "2024-07-10T01:04:16.928502Z"
    },
    "papermill": {
     "duration": 0.103394,
     "end_time": "2024-07-10T01:04:16.932399",
     "exception": false,
     "start_time": "2024-07-10T01:04:16.829005",
     "status": "completed"
    },
    "tags": []
   },
   "outputs": [
    {
     "name": "stdout",
     "output_type": "stream",
     "text": [
      "The Accuracy of the DecisionTree :  1.0\n",
      "DecisionTree cross validation score:  [0.6252649  0.84261972 0.81708806 0.94442146 0.98819289 0.98342355\n",
      " 0.89156042 0.90551398 0.9196828  0.80319339]\n",
      "DecisionTree cross validation mean score:  0.87\n",
      "DecisionTree cross validation std score:  0.1\n"
     ]
    }
   ],
   "source": [
    "#DecisionTree\n",
    "from sklearn.tree import DecisionTreeRegressor\n",
    "tree = DecisionTreeRegressor()\n",
    "tree.fit(train_features_prepared ,train_label)\n",
    "tree_predict = tree.predict(train_features_prepared)\n",
    "\n",
    "#check accuracy\n",
    "from sklearn.metrics import r2_score\n",
    "print(\"The Accuracy of the DecisionTree : \" ,r2_score(train_label , tree_predict))\n",
    "#The Accuracy of the DecisionTree :  100.0 %\n",
    "#the accuracy of the decisiontree is not accurate very much\n",
    "\n",
    "#applying cross validation\n",
    "from sklearn.model_selection import cross_val_score\n",
    "tree_score = cross_val_score(tree , train_features_prepared , train_label , scoring = 'r2' , cv = 10)\n",
    "print(\"DecisionTree cross validation score: \" , tree_score)\n",
    "print(\"DecisionTree cross validation mean score: \" , round(tree_score.mean() , 2))\n",
    "print(\"DecisionTree cross validation std score: \" , round(tree_score.std() , 2))"
   ]
  },
  {
   "cell_type": "markdown",
   "id": "eba95432",
   "metadata": {
    "papermill": {
     "duration": 0.012528,
     "end_time": "2024-07-10T01:04:16.957111",
     "exception": false,
     "start_time": "2024-07-10T01:04:16.944583",
     "status": "completed"
    },
    "tags": []
   },
   "source": [
    "# Fine Tuning"
   ]
  },
  {
   "cell_type": "code",
   "execution_count": 22,
   "id": "520f22e7",
   "metadata": {
    "execution": {
     "iopub.execute_input": "2024-07-10T01:04:16.982990Z",
     "iopub.status.busy": "2024-07-10T01:04:16.982597Z",
     "iopub.status.idle": "2024-07-10T01:04:17.269842Z",
     "shell.execute_reply": "2024-07-10T01:04:17.268548Z"
    },
    "papermill": {
     "duration": 0.303201,
     "end_time": "2024-07-10T01:04:17.272345",
     "exception": false,
     "start_time": "2024-07-10T01:04:16.969144",
     "status": "completed"
    },
    "tags": []
   },
   "outputs": [
    {
     "data": {
      "text/plain": [
       "{'max_depth': 4, 'max_features': 4}"
      ]
     },
     "execution_count": 22,
     "metadata": {},
     "output_type": "execute_result"
    }
   ],
   "source": [
    "#GridSearchCV\n",
    "from sklearn.model_selection import GridSearchCV\n",
    "parameters = {'max_depth' : [1,2,3,4] , 'max_features': [2,4,6,8]}\n",
    "grid = GridSearchCV(tree , parameters , cv = 5, scoring = 'neg_mean_squared_error')\n",
    "grid.fit(train_features_prepared , train_label)\n",
    "grid.best_params_"
   ]
  },
  {
   "cell_type": "code",
   "execution_count": 23,
   "id": "5dcf7072",
   "metadata": {
    "execution": {
     "iopub.execute_input": "2024-07-10T01:04:17.299039Z",
     "iopub.status.busy": "2024-07-10T01:04:17.298544Z",
     "iopub.status.idle": "2024-07-10T01:04:17.346995Z",
     "shell.execute_reply": "2024-07-10T01:04:17.345728Z"
    },
    "papermill": {
     "duration": 0.064713,
     "end_time": "2024-07-10T01:04:17.349661",
     "exception": false,
     "start_time": "2024-07-10T01:04:17.284948",
     "status": "completed"
    },
    "tags": []
   },
   "outputs": [
    {
     "name": "stdout",
     "output_type": "stream",
     "text": [
      "The Accuracy of the DecisionTree :  0.9876876614905055\n",
      "DecisionTree cross validation score:  [0.78043835 0.8208508  0.83443694 0.94251002 0.9543826  0.97757097\n",
      " 0.88448248 0.84211657 0.88678491 0.09882781]\n",
      "DecisionTree cross validation mean score:  0.8\n",
      "DecisionTree cross validation std score:  0.24\n"
     ]
    }
   ],
   "source": [
    "#make cross validation again \n",
    "from sklearn.tree import DecisionTreeRegressor\n",
    "treef = DecisionTreeRegressor(max_depth = 4 , max_features = 6)\n",
    "treef.fit(train_features_prepared ,train_label)\n",
    "treef_predict = treef.predict(train_features_prepared)\n",
    "\n",
    "#check accuracy\n",
    "from sklearn.metrics import r2_score\n",
    "print(\"The Accuracy of the DecisionTree : \" ,r2_score(train_label , treef_predict))\n",
    "\n",
    "#applying cross validation\n",
    "from sklearn.model_selection import cross_val_score\n",
    "treef_score = cross_val_score(treef , train_features_prepared , train_label , scoring = 'r2' , cv = 10)\n",
    "print(\"DecisionTree cross validation score: \" , treef_score)\n",
    "print(\"DecisionTree cross validation mean score: \" , round(treef_score.mean() , 2))\n",
    "print(\"DecisionTree cross validation std score: \" , round(treef_score.std() , 2))"
   ]
  },
  {
   "cell_type": "markdown",
   "id": "760de4c2",
   "metadata": {
    "papermill": {
     "duration": 0.01228,
     "end_time": "2024-07-10T01:04:17.374405",
     "exception": false,
     "start_time": "2024-07-10T01:04:17.362125",
     "status": "completed"
    },
    "tags": []
   },
   "source": [
    "# Testing accuracy"
   ]
  },
  {
   "cell_type": "code",
   "execution_count": 24,
   "id": "00678527",
   "metadata": {
    "execution": {
     "iopub.execute_input": "2024-07-10T01:04:17.403503Z",
     "iopub.status.busy": "2024-07-10T01:04:17.402458Z",
     "iopub.status.idle": "2024-07-10T01:04:17.418996Z",
     "shell.execute_reply": "2024-07-10T01:04:17.417881Z"
    },
    "papermill": {
     "duration": 0.034035,
     "end_time": "2024-07-10T01:04:17.421730",
     "exception": false,
     "start_time": "2024-07-10T01:04:17.387695",
     "status": "completed"
    },
    "tags": []
   },
   "outputs": [
    {
     "name": "stdout",
     "output_type": "stream",
     "text": [
      "Linear Regression Accuracy on Test Data:  0.8987266414319839\n",
      "Decision Tree Accuracy on Test Data:  0.7327715219618318\n"
     ]
    }
   ],
   "source": [
    "#split test_set into feature and label\n",
    "test_feature = test_set.drop('Profit' , axis = 1).copy()\n",
    "test_label  = test_set[['Profit']].copy()\n",
    "\n",
    "#making the pipeline for the testing data\n",
    "test_features_prepared = full_pipeline.transform(test_feature)\n",
    "\n",
    "lin_test = lin.predict(test_features_prepared)\n",
    "tree_test = treef.predict(test_features_prepared)\n",
    "\n",
    "#calculating the accuracy of the machine learning models\n",
    "print(\"Linear Regression Accuracy on Test Data: \", r2_score(test_label, lin_test))\n",
    "print(\"Decision Tree Accuracy on Test Data: \", r2_score(test_label, tree_test))"
   ]
  },
  {
   "cell_type": "markdown",
   "id": "03c1c7e1",
   "metadata": {
    "papermill": {
     "duration": 0.012811,
     "end_time": "2024-07-10T01:04:17.447419",
     "exception": false,
     "start_time": "2024-07-10T01:04:17.434608",
     "status": "completed"
    },
    "tags": []
   },
   "source": [
    "# Making DataFrame of models accuracy"
   ]
  },
  {
   "cell_type": "code",
   "execution_count": 25,
   "id": "411c337d",
   "metadata": {
    "execution": {
     "iopub.execute_input": "2024-07-10T01:04:17.475084Z",
     "iopub.status.busy": "2024-07-10T01:04:17.474004Z",
     "iopub.status.idle": "2024-07-10T01:04:17.491175Z",
     "shell.execute_reply": "2024-07-10T01:04:17.490019Z"
    },
    "papermill": {
     "duration": 0.033558,
     "end_time": "2024-07-10T01:04:17.493630",
     "exception": false,
     "start_time": "2024-07-10T01:04:17.460072",
     "status": "completed"
    },
    "tags": []
   },
   "outputs": [
    {
     "data": {
      "text/html": [
       "<div>\n",
       "<style scoped>\n",
       "    .dataframe tbody tr th:only-of-type {\n",
       "        vertical-align: middle;\n",
       "    }\n",
       "\n",
       "    .dataframe tbody tr th {\n",
       "        vertical-align: top;\n",
       "    }\n",
       "\n",
       "    .dataframe thead th {\n",
       "        text-align: right;\n",
       "    }\n",
       "</style>\n",
       "<table border=\"1\" class=\"dataframe\">\n",
       "  <thead>\n",
       "    <tr style=\"text-align: right;\">\n",
       "      <th></th>\n",
       "      <th>Linear Regression</th>\n",
       "      <th>Decision Tree</th>\n",
       "    </tr>\n",
       "  </thead>\n",
       "  <tbody>\n",
       "    <tr>\n",
       "      <th>Training Accuracy</th>\n",
       "      <td>95.370200</td>\n",
       "      <td>98.768766</td>\n",
       "    </tr>\n",
       "    <tr>\n",
       "      <th>Testing Accuracy</th>\n",
       "      <td>89.872664</td>\n",
       "      <td>73.277152</td>\n",
       "    </tr>\n",
       "  </tbody>\n",
       "</table>\n",
       "</div>"
      ],
      "text/plain": [
       "                   Linear Regression  Decision Tree\n",
       "Training Accuracy          95.370200      98.768766\n",
       "Testing Accuracy           89.872664      73.277152"
      ]
     },
     "execution_count": 25,
     "metadata": {},
     "output_type": "execute_result"
    }
   ],
   "source": [
    "#making a dataframe of the whole accuracy needed\n",
    "#making the percent % of them\n",
    "pd.DataFrame({ \"Linear Regression\": [r2_score(train_label , lin_predict)*100, \n",
    "                                     r2_score(test_label, lin_test)*100],\n",
    "              \"Decision Tree\": [r2_score(train_label, treef_predict)*100,\n",
    "                                r2_score(test_label, tree_test)*100]},\n",
    "                                index=[\"Training Accuracy\", \"Testing Accuracy\"])"
   ]
  }
 ],
 "metadata": {
  "kaggle": {
   "accelerator": "none",
   "dataSources": [
    {
     "datasetId": 21716,
     "sourceId": 27925,
     "sourceType": "datasetVersion"
    }
   ],
   "dockerImageVersionId": 30732,
   "isGpuEnabled": false,
   "isInternetEnabled": true,
   "language": "python",
   "sourceType": "notebook"
  },
  "kernelspec": {
   "display_name": "Python 3",
   "language": "python",
   "name": "python3"
  },
  "language_info": {
   "codemirror_mode": {
    "name": "ipython",
    "version": 3
   },
   "file_extension": ".py",
   "mimetype": "text/x-python",
   "name": "python",
   "nbconvert_exporter": "python",
   "pygments_lexer": "ipython3",
   "version": "3.10.13"
  },
  "papermill": {
   "default_parameters": {},
   "duration": 14.479659,
   "end_time": "2024-07-10T01:04:18.329821",
   "environment_variables": {},
   "exception": null,
   "input_path": "__notebook__.ipynb",
   "output_path": "__notebook__.ipynb",
   "parameters": {},
   "start_time": "2024-07-10T01:04:03.850162",
   "version": "2.5.0"
  }
 },
 "nbformat": 4,
 "nbformat_minor": 5
}
