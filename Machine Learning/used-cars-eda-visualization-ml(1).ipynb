{
 "cells": [
  {
   "cell_type": "code",
   "execution_count": 1,
   "id": "a33cdddb",
   "metadata": {
    "_cell_guid": "b1076dfc-b9ad-4769-8c92-a6c4dae69d19",
    "_uuid": "8f2839f25d086af736a60e9eeb907d3b93b6e0e5",
    "execution": {
     "iopub.execute_input": "2024-07-17T01:55:04.682534Z",
     "iopub.status.busy": "2024-07-17T01:55:04.682144Z",
     "iopub.status.idle": "2024-07-17T01:55:06.722190Z",
     "shell.execute_reply": "2024-07-17T01:55:06.721110Z"
    },
    "papermill": {
     "duration": 2.053691,
     "end_time": "2024-07-17T01:55:06.724736",
     "exception": false,
     "start_time": "2024-07-17T01:55:04.671045",
     "status": "completed"
    },
    "tags": []
   },
   "outputs": [
    {
     "name": "stdout",
     "output_type": "stream",
     "text": [
      "/kaggle/input/used-cars-price-prediction/test-data.csv\n",
      "/kaggle/input/used-cars-price-prediction/train-data.csv\n"
     ]
    }
   ],
   "source": [
    "# This Python 3 environment comes with many helpful analytics libraries installed\n",
    "# It is defined by the kaggle/python Docker image: https://github.com/kaggle/docker-python\n",
    "# For example, here's several helpful packages to load\n",
    "\n",
    "import numpy as np # linear algebra\n",
    "import pandas as pd # data processing, CSV file I/O (e.g. pd.read_csv)\n",
    "import matplotlib.pyplot as plt\n",
    "import seaborn as sns\n",
    "\n",
    "# Input data files are available in the read-only \"../input/\" directory\n",
    "# For example, running this (by clicking run or pressing Shift+Enter) will list all files under the input directory\n",
    "\n",
    "import os\n",
    "for dirname, _, filenames in os.walk('/kaggle/input'):\n",
    "    for filename in filenames:\n",
    "        print(os.path.join(dirname, filename))\n",
    "\n",
    "# You can write up to 20GB to the current directory (/kaggle/working/) that gets preserved as output when you create a version using \"Save & Run All\" \n",
    "# You can also write temporary files to /kaggle/temp/, but they won't be saved outside of the current session"
   ]
  },
  {
   "cell_type": "code",
   "execution_count": 2,
   "id": "58776c6d",
   "metadata": {
    "execution": {
     "iopub.execute_input": "2024-07-17T01:55:06.742653Z",
     "iopub.status.busy": "2024-07-17T01:55:06.742149Z",
     "iopub.status.idle": "2024-07-17T01:55:06.810276Z",
     "shell.execute_reply": "2024-07-17T01:55:06.809105Z"
    },
    "papermill": {
     "duration": 0.079693,
     "end_time": "2024-07-17T01:55:06.812809",
     "exception": false,
     "start_time": "2024-07-17T01:55:06.733116",
     "status": "completed"
    },
    "tags": []
   },
   "outputs": [
    {
     "data": {
      "text/plain": [
       "((6019, 14), (1234, 13))"
      ]
     },
     "execution_count": 2,
     "metadata": {},
     "output_type": "execute_result"
    }
   ],
   "source": [
    "train = pd.read_csv('/kaggle/input/used-cars-price-prediction/train-data.csv')\n",
    "test =pd.read_csv('/kaggle/input/used-cars-price-prediction/test-data.csv')\n",
    "train.shape , test.shape"
   ]
  },
  {
   "cell_type": "code",
   "execution_count": 3,
   "id": "08a2fdb6",
   "metadata": {
    "execution": {
     "iopub.execute_input": "2024-07-17T01:55:06.830988Z",
     "iopub.status.busy": "2024-07-17T01:55:06.830610Z",
     "iopub.status.idle": "2024-07-17T01:55:06.848431Z",
     "shell.execute_reply": "2024-07-17T01:55:06.847387Z"
    },
    "papermill": {
     "duration": 0.029492,
     "end_time": "2024-07-17T01:55:06.850641",
     "exception": false,
     "start_time": "2024-07-17T01:55:06.821149",
     "status": "completed"
    },
    "tags": []
   },
   "outputs": [],
   "source": [
    "train_feature = train.drop(['Unnamed: 0' , 'Name' , 'Price' , 'New_Price'] , axis = 'columns').copy()\n",
    "train_label = train['Price']"
   ]
  },
  {
   "cell_type": "code",
   "execution_count": 4,
   "id": "1d2f6619",
   "metadata": {
    "execution": {
     "iopub.execute_input": "2024-07-17T01:55:06.868539Z",
     "iopub.status.busy": "2024-07-17T01:55:06.867978Z",
     "iopub.status.idle": "2024-07-17T01:55:06.875455Z",
     "shell.execute_reply": "2024-07-17T01:55:06.874119Z"
    },
    "papermill": {
     "duration": 0.018928,
     "end_time": "2024-07-17T01:55:06.877740",
     "exception": false,
     "start_time": "2024-07-17T01:55:06.858812",
     "status": "completed"
    },
    "tags": []
   },
   "outputs": [],
   "source": [
    "test_feature = test.drop(['Unnamed: 0' , 'Name' , 'New_Price'] , axis = 'columns').copy()"
   ]
  },
  {
   "cell_type": "code",
   "execution_count": 5,
   "id": "fdeeb950",
   "metadata": {
    "execution": {
     "iopub.execute_input": "2024-07-17T01:55:06.896057Z",
     "iopub.status.busy": "2024-07-17T01:55:06.895316Z",
     "iopub.status.idle": "2024-07-17T01:55:06.929379Z",
     "shell.execute_reply": "2024-07-17T01:55:06.928288Z"
    },
    "papermill": {
     "duration": 0.045714,
     "end_time": "2024-07-17T01:55:06.931697",
     "exception": false,
     "start_time": "2024-07-17T01:55:06.885983",
     "status": "completed"
    },
    "tags": []
   },
   "outputs": [
    {
     "name": "stdout",
     "output_type": "stream",
     "text": [
      "<class 'pandas.core.frame.DataFrame'>\n",
      "RangeIndex: 6019 entries, 0 to 6018\n",
      "Data columns (total 14 columns):\n",
      " #   Column             Non-Null Count  Dtype  \n",
      "---  ------             --------------  -----  \n",
      " 0   Unnamed: 0         6019 non-null   int64  \n",
      " 1   Name               6019 non-null   object \n",
      " 2   Location           6019 non-null   object \n",
      " 3   Year               6019 non-null   int64  \n",
      " 4   Kilometers_Driven  6019 non-null   int64  \n",
      " 5   Fuel_Type          6019 non-null   object \n",
      " 6   Transmission       6019 non-null   object \n",
      " 7   Owner_Type         6019 non-null   object \n",
      " 8   Mileage            6017 non-null   object \n",
      " 9   Engine             5983 non-null   object \n",
      " 10  Power              5983 non-null   object \n",
      " 11  Seats              5977 non-null   float64\n",
      " 12  New_Price          824 non-null    object \n",
      " 13  Price              6019 non-null   float64\n",
      "dtypes: float64(2), int64(3), object(9)\n",
      "memory usage: 658.5+ KB\n",
      "<class 'pandas.core.frame.DataFrame'>\n",
      "RangeIndex: 1234 entries, 0 to 1233\n",
      "Data columns (total 13 columns):\n",
      " #   Column             Non-Null Count  Dtype  \n",
      "---  ------             --------------  -----  \n",
      " 0   Unnamed: 0         1234 non-null   int64  \n",
      " 1   Name               1234 non-null   object \n",
      " 2   Location           1234 non-null   object \n",
      " 3   Year               1234 non-null   int64  \n",
      " 4   Kilometers_Driven  1234 non-null   int64  \n",
      " 5   Fuel_Type          1234 non-null   object \n",
      " 6   Transmission       1234 non-null   object \n",
      " 7   Owner_Type         1234 non-null   object \n",
      " 8   Mileage            1234 non-null   object \n",
      " 9   Engine             1224 non-null   object \n",
      " 10  Power              1224 non-null   object \n",
      " 11  Seats              1223 non-null   float64\n",
      " 12  New_Price          182 non-null    object \n",
      "dtypes: float64(1), int64(3), object(9)\n",
      "memory usage: 125.5+ KB\n"
     ]
    },
    {
     "data": {
      "text/plain": [
       "(None, None)"
      ]
     },
     "execution_count": 5,
     "metadata": {},
     "output_type": "execute_result"
    }
   ],
   "source": [
    "train.info() , test.info()"
   ]
  },
  {
   "cell_type": "code",
   "execution_count": 6,
   "id": "96107fa7",
   "metadata": {
    "execution": {
     "iopub.execute_input": "2024-07-17T01:55:06.950571Z",
     "iopub.status.busy": "2024-07-17T01:55:06.949650Z",
     "iopub.status.idle": "2024-07-17T01:55:06.955989Z",
     "shell.execute_reply": "2024-07-17T01:55:06.955050Z"
    },
    "papermill": {
     "duration": 0.018031,
     "end_time": "2024-07-17T01:55:06.958202",
     "exception": false,
     "start_time": "2024-07-17T01:55:06.940171",
     "status": "completed"
    },
    "tags": []
   },
   "outputs": [
    {
     "data": {
      "text/plain": [
       "(6019, 10)"
      ]
     },
     "execution_count": 6,
     "metadata": {},
     "output_type": "execute_result"
    }
   ],
   "source": [
    "train_feature.shape "
   ]
  },
  {
   "cell_type": "markdown",
   "id": "0ec28fcc",
   "metadata": {
    "papermill": {
     "duration": 0.008035,
     "end_time": "2024-07-17T01:55:06.974746",
     "exception": false,
     "start_time": "2024-07-17T01:55:06.966711",
     "status": "completed"
    },
    "tags": []
   },
   "source": [
    "# EDA For Train data"
   ]
  },
  {
   "cell_type": "code",
   "execution_count": 7,
   "id": "ca6ce11f",
   "metadata": {
    "execution": {
     "iopub.execute_input": "2024-07-17T01:55:06.994087Z",
     "iopub.status.busy": "2024-07-17T01:55:06.993723Z",
     "iopub.status.idle": "2024-07-17T01:55:07.004233Z",
     "shell.execute_reply": "2024-07-17T01:55:07.003273Z"
    },
    "papermill": {
     "duration": 0.022402,
     "end_time": "2024-07-17T01:55:07.006419",
     "exception": false,
     "start_time": "2024-07-17T01:55:06.984017",
     "status": "completed"
    },
    "tags": []
   },
   "outputs": [
    {
     "data": {
      "text/plain": [
       "Location              0\n",
       "Year                  0\n",
       "Kilometers_Driven     0\n",
       "Fuel_Type             0\n",
       "Transmission          0\n",
       "Owner_Type            0\n",
       "Mileage               2\n",
       "Engine               36\n",
       "Power                36\n",
       "Seats                42\n",
       "dtype: int64"
      ]
     },
     "execution_count": 7,
     "metadata": {},
     "output_type": "execute_result"
    }
   ],
   "source": [
    "train_feature.isnull().sum()"
   ]
  },
  {
   "cell_type": "code",
   "execution_count": 8,
   "id": "ab09224c",
   "metadata": {
    "execution": {
     "iopub.execute_input": "2024-07-17T01:55:07.026084Z",
     "iopub.status.busy": "2024-07-17T01:55:07.024961Z",
     "iopub.status.idle": "2024-07-17T01:55:07.053510Z",
     "shell.execute_reply": "2024-07-17T01:55:07.052262Z"
    },
    "papermill": {
     "duration": 0.040795,
     "end_time": "2024-07-17T01:55:07.055851",
     "exception": false,
     "start_time": "2024-07-17T01:55:07.015056",
     "status": "completed"
    },
    "tags": []
   },
   "outputs": [
    {
     "data": {
      "text/html": [
       "<div>\n",
       "<style scoped>\n",
       "    .dataframe tbody tr th:only-of-type {\n",
       "        vertical-align: middle;\n",
       "    }\n",
       "\n",
       "    .dataframe tbody tr th {\n",
       "        vertical-align: top;\n",
       "    }\n",
       "\n",
       "    .dataframe thead th {\n",
       "        text-align: right;\n",
       "    }\n",
       "</style>\n",
       "<table border=\"1\" class=\"dataframe\">\n",
       "  <thead>\n",
       "    <tr style=\"text-align: right;\">\n",
       "      <th></th>\n",
       "      <th>Location</th>\n",
       "      <th>Year</th>\n",
       "      <th>Kilometers_Driven</th>\n",
       "      <th>Fuel_Type</th>\n",
       "      <th>Transmission</th>\n",
       "      <th>Owner_Type</th>\n",
       "      <th>Mileage</th>\n",
       "      <th>Engine</th>\n",
       "      <th>Power</th>\n",
       "      <th>Seats</th>\n",
       "    </tr>\n",
       "  </thead>\n",
       "  <tbody>\n",
       "    <tr>\n",
       "      <th>194</th>\n",
       "      <td>Ahmedabad</td>\n",
       "      <td>2007</td>\n",
       "      <td>60006</td>\n",
       "      <td>Petrol</td>\n",
       "      <td>Manual</td>\n",
       "      <td>First</td>\n",
       "      <td>0.0 kmpl</td>\n",
       "      <td>NaN</td>\n",
       "      <td>NaN</td>\n",
       "      <td>NaN</td>\n",
       "    </tr>\n",
       "    <tr>\n",
       "      <th>208</th>\n",
       "      <td>Kolkata</td>\n",
       "      <td>2010</td>\n",
       "      <td>42001</td>\n",
       "      <td>Petrol</td>\n",
       "      <td>Manual</td>\n",
       "      <td>First</td>\n",
       "      <td>16.1 kmpl</td>\n",
       "      <td>NaN</td>\n",
       "      <td>NaN</td>\n",
       "      <td>NaN</td>\n",
       "    </tr>\n",
       "    <tr>\n",
       "      <th>733</th>\n",
       "      <td>Chennai</td>\n",
       "      <td>2006</td>\n",
       "      <td>97800</td>\n",
       "      <td>Petrol</td>\n",
       "      <td>Manual</td>\n",
       "      <td>Third</td>\n",
       "      <td>16.1 kmpl</td>\n",
       "      <td>NaN</td>\n",
       "      <td>NaN</td>\n",
       "      <td>NaN</td>\n",
       "    </tr>\n",
       "    <tr>\n",
       "      <th>749</th>\n",
       "      <td>Mumbai</td>\n",
       "      <td>2008</td>\n",
       "      <td>55001</td>\n",
       "      <td>Diesel</td>\n",
       "      <td>Automatic</td>\n",
       "      <td>Second</td>\n",
       "      <td>0.0 kmpl</td>\n",
       "      <td>NaN</td>\n",
       "      <td>NaN</td>\n",
       "      <td>NaN</td>\n",
       "    </tr>\n",
       "    <tr>\n",
       "      <th>1294</th>\n",
       "      <td>Delhi</td>\n",
       "      <td>2009</td>\n",
       "      <td>55005</td>\n",
       "      <td>Petrol</td>\n",
       "      <td>Manual</td>\n",
       "      <td>First</td>\n",
       "      <td>12.8 kmpl</td>\n",
       "      <td>NaN</td>\n",
       "      <td>NaN</td>\n",
       "      <td>NaN</td>\n",
       "    </tr>\n",
       "    <tr>\n",
       "      <th>1327</th>\n",
       "      <td>Hyderabad</td>\n",
       "      <td>2015</td>\n",
       "      <td>50295</td>\n",
       "      <td>Petrol</td>\n",
       "      <td>Manual</td>\n",
       "      <td>First</td>\n",
       "      <td>16.1 kmpl</td>\n",
       "      <td>NaN</td>\n",
       "      <td>NaN</td>\n",
       "      <td>NaN</td>\n",
       "    </tr>\n",
       "    <tr>\n",
       "      <th>1385</th>\n",
       "      <td>Pune</td>\n",
       "      <td>2004</td>\n",
       "      <td>115000</td>\n",
       "      <td>Petrol</td>\n",
       "      <td>Manual</td>\n",
       "      <td>Second</td>\n",
       "      <td>0.0 kmpl</td>\n",
       "      <td>NaN</td>\n",
       "      <td>NaN</td>\n",
       "      <td>NaN</td>\n",
       "    </tr>\n",
       "    <tr>\n",
       "      <th>1460</th>\n",
       "      <td>Coimbatore</td>\n",
       "      <td>2008</td>\n",
       "      <td>69078</td>\n",
       "      <td>Petrol</td>\n",
       "      <td>Manual</td>\n",
       "      <td>First</td>\n",
       "      <td>0.0 kmpl</td>\n",
       "      <td>NaN</td>\n",
       "      <td>NaN</td>\n",
       "      <td>NaN</td>\n",
       "    </tr>\n",
       "    <tr>\n",
       "      <th>2074</th>\n",
       "      <td>Pune</td>\n",
       "      <td>2011</td>\n",
       "      <td>24255</td>\n",
       "      <td>Petrol</td>\n",
       "      <td>Manual</td>\n",
       "      <td>First</td>\n",
       "      <td>16.1 kmpl</td>\n",
       "      <td>NaN</td>\n",
       "      <td>NaN</td>\n",
       "      <td>NaN</td>\n",
       "    </tr>\n",
       "    <tr>\n",
       "      <th>2096</th>\n",
       "      <td>Coimbatore</td>\n",
       "      <td>2004</td>\n",
       "      <td>52146</td>\n",
       "      <td>Petrol</td>\n",
       "      <td>Manual</td>\n",
       "      <td>First</td>\n",
       "      <td>0.0 kmpl</td>\n",
       "      <td>NaN</td>\n",
       "      <td>NaN</td>\n",
       "      <td>NaN</td>\n",
       "    </tr>\n",
       "    <tr>\n",
       "      <th>2264</th>\n",
       "      <td>Pune</td>\n",
       "      <td>2012</td>\n",
       "      <td>24500</td>\n",
       "      <td>Petrol</td>\n",
       "      <td>Manual</td>\n",
       "      <td>Second</td>\n",
       "      <td>18.3 kmpl</td>\n",
       "      <td>NaN</td>\n",
       "      <td>NaN</td>\n",
       "      <td>NaN</td>\n",
       "    </tr>\n",
       "    <tr>\n",
       "      <th>2325</th>\n",
       "      <td>Pune</td>\n",
       "      <td>2015</td>\n",
       "      <td>67000</td>\n",
       "      <td>Petrol</td>\n",
       "      <td>Manual</td>\n",
       "      <td>First</td>\n",
       "      <td>16.1 kmpl</td>\n",
       "      <td>NaN</td>\n",
       "      <td>NaN</td>\n",
       "      <td>NaN</td>\n",
       "    </tr>\n",
       "    <tr>\n",
       "      <th>2335</th>\n",
       "      <td>Mumbai</td>\n",
       "      <td>2007</td>\n",
       "      <td>55000</td>\n",
       "      <td>Petrol</td>\n",
       "      <td>Manual</td>\n",
       "      <td>Second</td>\n",
       "      <td>16.1 kmpl</td>\n",
       "      <td>NaN</td>\n",
       "      <td>NaN</td>\n",
       "      <td>NaN</td>\n",
       "    </tr>\n",
       "    <tr>\n",
       "      <th>2530</th>\n",
       "      <td>Kochi</td>\n",
       "      <td>2014</td>\n",
       "      <td>64158</td>\n",
       "      <td>Diesel</td>\n",
       "      <td>Automatic</td>\n",
       "      <td>First</td>\n",
       "      <td>18.48 kmpl</td>\n",
       "      <td>NaN</td>\n",
       "      <td>NaN</td>\n",
       "      <td>NaN</td>\n",
       "    </tr>\n",
       "    <tr>\n",
       "      <th>2542</th>\n",
       "      <td>Bangalore</td>\n",
       "      <td>2011</td>\n",
       "      <td>65000</td>\n",
       "      <td>Petrol</td>\n",
       "      <td>Manual</td>\n",
       "      <td>Second</td>\n",
       "      <td>0.0 kmpl</td>\n",
       "      <td>NaN</td>\n",
       "      <td>NaN</td>\n",
       "      <td>NaN</td>\n",
       "    </tr>\n",
       "    <tr>\n",
       "      <th>2623</th>\n",
       "      <td>Pune</td>\n",
       "      <td>2012</td>\n",
       "      <td>95000</td>\n",
       "      <td>Diesel</td>\n",
       "      <td>Automatic</td>\n",
       "      <td>Second</td>\n",
       "      <td>18.48 kmpl</td>\n",
       "      <td>NaN</td>\n",
       "      <td>NaN</td>\n",
       "      <td>NaN</td>\n",
       "    </tr>\n",
       "    <tr>\n",
       "      <th>2668</th>\n",
       "      <td>Kolkata</td>\n",
       "      <td>2014</td>\n",
       "      <td>32986</td>\n",
       "      <td>Petrol</td>\n",
       "      <td>Manual</td>\n",
       "      <td>First</td>\n",
       "      <td>16.1 kmpl</td>\n",
       "      <td>NaN</td>\n",
       "      <td>NaN</td>\n",
       "      <td>NaN</td>\n",
       "    </tr>\n",
       "    <tr>\n",
       "      <th>2737</th>\n",
       "      <td>Jaipur</td>\n",
       "      <td>2001</td>\n",
       "      <td>200000</td>\n",
       "      <td>Petrol</td>\n",
       "      <td>Manual</td>\n",
       "      <td>First</td>\n",
       "      <td>12.0 kmpl</td>\n",
       "      <td>NaN</td>\n",
       "      <td>NaN</td>\n",
       "      <td>NaN</td>\n",
       "    </tr>\n",
       "    <tr>\n",
       "      <th>2780</th>\n",
       "      <td>Pune</td>\n",
       "      <td>2009</td>\n",
       "      <td>100000</td>\n",
       "      <td>Petrol</td>\n",
       "      <td>Manual</td>\n",
       "      <td>First</td>\n",
       "      <td>0.0 kmpl</td>\n",
       "      <td>NaN</td>\n",
       "      <td>NaN</td>\n",
       "      <td>NaN</td>\n",
       "    </tr>\n",
       "    <tr>\n",
       "      <th>2842</th>\n",
       "      <td>Bangalore</td>\n",
       "      <td>2012</td>\n",
       "      <td>43000</td>\n",
       "      <td>Petrol</td>\n",
       "      <td>Manual</td>\n",
       "      <td>First</td>\n",
       "      <td>0.0 kmpl</td>\n",
       "      <td>NaN</td>\n",
       "      <td>NaN</td>\n",
       "      <td>NaN</td>\n",
       "    </tr>\n",
       "    <tr>\n",
       "      <th>3272</th>\n",
       "      <td>Mumbai</td>\n",
       "      <td>2008</td>\n",
       "      <td>81000</td>\n",
       "      <td>Diesel</td>\n",
       "      <td>Automatic</td>\n",
       "      <td>Second</td>\n",
       "      <td>18.48 kmpl</td>\n",
       "      <td>NaN</td>\n",
       "      <td>NaN</td>\n",
       "      <td>NaN</td>\n",
       "    </tr>\n",
       "    <tr>\n",
       "      <th>3404</th>\n",
       "      <td>Jaipur</td>\n",
       "      <td>2006</td>\n",
       "      <td>125000</td>\n",
       "      <td>Petrol</td>\n",
       "      <td>Manual</td>\n",
       "      <td>Fourth &amp; Above</td>\n",
       "      <td>16.1 kmpl</td>\n",
       "      <td>NaN</td>\n",
       "      <td>NaN</td>\n",
       "      <td>NaN</td>\n",
       "    </tr>\n",
       "    <tr>\n",
       "      <th>3520</th>\n",
       "      <td>Delhi</td>\n",
       "      <td>2012</td>\n",
       "      <td>90000</td>\n",
       "      <td>Diesel</td>\n",
       "      <td>Automatic</td>\n",
       "      <td>First</td>\n",
       "      <td>18.48 kmpl</td>\n",
       "      <td>NaN</td>\n",
       "      <td>NaN</td>\n",
       "      <td>NaN</td>\n",
       "    </tr>\n",
       "    <tr>\n",
       "      <th>3522</th>\n",
       "      <td>Kochi</td>\n",
       "      <td>2012</td>\n",
       "      <td>66400</td>\n",
       "      <td>Petrol</td>\n",
       "      <td>Manual</td>\n",
       "      <td>First</td>\n",
       "      <td>0.0 kmpl</td>\n",
       "      <td>NaN</td>\n",
       "      <td>NaN</td>\n",
       "      <td>NaN</td>\n",
       "    </tr>\n",
       "    <tr>\n",
       "      <th>3810</th>\n",
       "      <td>Kolkata</td>\n",
       "      <td>2013</td>\n",
       "      <td>27000</td>\n",
       "      <td>Petrol</td>\n",
       "      <td>Automatic</td>\n",
       "      <td>First</td>\n",
       "      <td>14.0 kmpl</td>\n",
       "      <td>NaN</td>\n",
       "      <td>NaN</td>\n",
       "      <td>NaN</td>\n",
       "    </tr>\n",
       "    <tr>\n",
       "      <th>4011</th>\n",
       "      <td>Pune</td>\n",
       "      <td>2011</td>\n",
       "      <td>45271</td>\n",
       "      <td>Diesel</td>\n",
       "      <td>Manual</td>\n",
       "      <td>First</td>\n",
       "      <td>20.3 kmpl</td>\n",
       "      <td>NaN</td>\n",
       "      <td>NaN</td>\n",
       "      <td>NaN</td>\n",
       "    </tr>\n",
       "    <tr>\n",
       "      <th>4152</th>\n",
       "      <td>Mumbai</td>\n",
       "      <td>2003</td>\n",
       "      <td>75000</td>\n",
       "      <td>Diesel</td>\n",
       "      <td>Automatic</td>\n",
       "      <td>Second</td>\n",
       "      <td>0.0 kmpl</td>\n",
       "      <td>NaN</td>\n",
       "      <td>NaN</td>\n",
       "      <td>NaN</td>\n",
       "    </tr>\n",
       "    <tr>\n",
       "      <th>4229</th>\n",
       "      <td>Bangalore</td>\n",
       "      <td>2005</td>\n",
       "      <td>79000</td>\n",
       "      <td>Petrol</td>\n",
       "      <td>Manual</td>\n",
       "      <td>Second</td>\n",
       "      <td>17.0 kmpl</td>\n",
       "      <td>NaN</td>\n",
       "      <td>NaN</td>\n",
       "      <td>NaN</td>\n",
       "    </tr>\n",
       "    <tr>\n",
       "      <th>4577</th>\n",
       "      <td>Delhi</td>\n",
       "      <td>2012</td>\n",
       "      <td>72000</td>\n",
       "      <td>Diesel</td>\n",
       "      <td>Automatic</td>\n",
       "      <td>Third</td>\n",
       "      <td>18.48 kmpl</td>\n",
       "      <td>NaN</td>\n",
       "      <td>NaN</td>\n",
       "      <td>NaN</td>\n",
       "    </tr>\n",
       "    <tr>\n",
       "      <th>4604</th>\n",
       "      <td>Pune</td>\n",
       "      <td>2011</td>\n",
       "      <td>98000</td>\n",
       "      <td>Petrol</td>\n",
       "      <td>Manual</td>\n",
       "      <td>First</td>\n",
       "      <td>16.7 kmpl</td>\n",
       "      <td>NaN</td>\n",
       "      <td>NaN</td>\n",
       "      <td>NaN</td>\n",
       "    </tr>\n",
       "    <tr>\n",
       "      <th>4697</th>\n",
       "      <td>Kochi</td>\n",
       "      <td>2017</td>\n",
       "      <td>17941</td>\n",
       "      <td>Petrol</td>\n",
       "      <td>Manual</td>\n",
       "      <td>First</td>\n",
       "      <td>15.7 kmpl</td>\n",
       "      <td>NaN</td>\n",
       "      <td>NaN</td>\n",
       "      <td>NaN</td>\n",
       "    </tr>\n",
       "    <tr>\n",
       "      <th>4712</th>\n",
       "      <td>Pune</td>\n",
       "      <td>2003</td>\n",
       "      <td>80000</td>\n",
       "      <td>Petrol</td>\n",
       "      <td>Manual</td>\n",
       "      <td>Second</td>\n",
       "      <td>17.0 kmpl</td>\n",
       "      <td>NaN</td>\n",
       "      <td>NaN</td>\n",
       "      <td>NaN</td>\n",
       "    </tr>\n",
       "    <tr>\n",
       "      <th>4952</th>\n",
       "      <td>Kolkata</td>\n",
       "      <td>2010</td>\n",
       "      <td>47000</td>\n",
       "      <td>Petrol</td>\n",
       "      <td>Manual</td>\n",
       "      <td>First</td>\n",
       "      <td>14.6 kmpl</td>\n",
       "      <td>NaN</td>\n",
       "      <td>NaN</td>\n",
       "      <td>NaN</td>\n",
       "    </tr>\n",
       "    <tr>\n",
       "      <th>5015</th>\n",
       "      <td>Delhi</td>\n",
       "      <td>2006</td>\n",
       "      <td>63000</td>\n",
       "      <td>Petrol</td>\n",
       "      <td>Manual</td>\n",
       "      <td>First</td>\n",
       "      <td>16.1 kmpl</td>\n",
       "      <td>NaN</td>\n",
       "      <td>NaN</td>\n",
       "      <td>NaN</td>\n",
       "    </tr>\n",
       "    <tr>\n",
       "      <th>5185</th>\n",
       "      <td>Delhi</td>\n",
       "      <td>2012</td>\n",
       "      <td>52000</td>\n",
       "      <td>Petrol</td>\n",
       "      <td>Manual</td>\n",
       "      <td>First</td>\n",
       "      <td>16.1 kmpl</td>\n",
       "      <td>NaN</td>\n",
       "      <td>NaN</td>\n",
       "      <td>NaN</td>\n",
       "    </tr>\n",
       "    <tr>\n",
       "      <th>5270</th>\n",
       "      <td>Bangalore</td>\n",
       "      <td>2002</td>\n",
       "      <td>53000</td>\n",
       "      <td>Petrol</td>\n",
       "      <td>Manual</td>\n",
       "      <td>Second</td>\n",
       "      <td>0.0 kmpl</td>\n",
       "      <td>NaN</td>\n",
       "      <td>NaN</td>\n",
       "      <td>NaN</td>\n",
       "    </tr>\n",
       "  </tbody>\n",
       "</table>\n",
       "</div>"
      ],
      "text/plain": [
       "        Location  Year  Kilometers_Driven Fuel_Type Transmission  \\\n",
       "194    Ahmedabad  2007              60006    Petrol       Manual   \n",
       "208      Kolkata  2010              42001    Petrol       Manual   \n",
       "733      Chennai  2006              97800    Petrol       Manual   \n",
       "749       Mumbai  2008              55001    Diesel    Automatic   \n",
       "1294       Delhi  2009              55005    Petrol       Manual   \n",
       "1327   Hyderabad  2015              50295    Petrol       Manual   \n",
       "1385        Pune  2004             115000    Petrol       Manual   \n",
       "1460  Coimbatore  2008              69078    Petrol       Manual   \n",
       "2074        Pune  2011              24255    Petrol       Manual   \n",
       "2096  Coimbatore  2004              52146    Petrol       Manual   \n",
       "2264        Pune  2012              24500    Petrol       Manual   \n",
       "2325        Pune  2015              67000    Petrol       Manual   \n",
       "2335      Mumbai  2007              55000    Petrol       Manual   \n",
       "2530       Kochi  2014              64158    Diesel    Automatic   \n",
       "2542   Bangalore  2011              65000    Petrol       Manual   \n",
       "2623        Pune  2012              95000    Diesel    Automatic   \n",
       "2668     Kolkata  2014              32986    Petrol       Manual   \n",
       "2737      Jaipur  2001             200000    Petrol       Manual   \n",
       "2780        Pune  2009             100000    Petrol       Manual   \n",
       "2842   Bangalore  2012              43000    Petrol       Manual   \n",
       "3272      Mumbai  2008              81000    Diesel    Automatic   \n",
       "3404      Jaipur  2006             125000    Petrol       Manual   \n",
       "3520       Delhi  2012              90000    Diesel    Automatic   \n",
       "3522       Kochi  2012              66400    Petrol       Manual   \n",
       "3810     Kolkata  2013              27000    Petrol    Automatic   \n",
       "4011        Pune  2011              45271    Diesel       Manual   \n",
       "4152      Mumbai  2003              75000    Diesel    Automatic   \n",
       "4229   Bangalore  2005              79000    Petrol       Manual   \n",
       "4577       Delhi  2012              72000    Diesel    Automatic   \n",
       "4604        Pune  2011              98000    Petrol       Manual   \n",
       "4697       Kochi  2017              17941    Petrol       Manual   \n",
       "4712        Pune  2003              80000    Petrol       Manual   \n",
       "4952     Kolkata  2010              47000    Petrol       Manual   \n",
       "5015       Delhi  2006              63000    Petrol       Manual   \n",
       "5185       Delhi  2012              52000    Petrol       Manual   \n",
       "5270   Bangalore  2002              53000    Petrol       Manual   \n",
       "\n",
       "          Owner_Type     Mileage Engine Power  Seats  \n",
       "194            First    0.0 kmpl    NaN   NaN    NaN  \n",
       "208            First   16.1 kmpl    NaN   NaN    NaN  \n",
       "733            Third   16.1 kmpl    NaN   NaN    NaN  \n",
       "749           Second    0.0 kmpl    NaN   NaN    NaN  \n",
       "1294           First   12.8 kmpl    NaN   NaN    NaN  \n",
       "1327           First   16.1 kmpl    NaN   NaN    NaN  \n",
       "1385          Second    0.0 kmpl    NaN   NaN    NaN  \n",
       "1460           First    0.0 kmpl    NaN   NaN    NaN  \n",
       "2074           First   16.1 kmpl    NaN   NaN    NaN  \n",
       "2096           First    0.0 kmpl    NaN   NaN    NaN  \n",
       "2264          Second   18.3 kmpl    NaN   NaN    NaN  \n",
       "2325           First   16.1 kmpl    NaN   NaN    NaN  \n",
       "2335          Second   16.1 kmpl    NaN   NaN    NaN  \n",
       "2530           First  18.48 kmpl    NaN   NaN    NaN  \n",
       "2542          Second    0.0 kmpl    NaN   NaN    NaN  \n",
       "2623          Second  18.48 kmpl    NaN   NaN    NaN  \n",
       "2668           First   16.1 kmpl    NaN   NaN    NaN  \n",
       "2737           First   12.0 kmpl    NaN   NaN    NaN  \n",
       "2780           First    0.0 kmpl    NaN   NaN    NaN  \n",
       "2842           First    0.0 kmpl    NaN   NaN    NaN  \n",
       "3272          Second  18.48 kmpl    NaN   NaN    NaN  \n",
       "3404  Fourth & Above   16.1 kmpl    NaN   NaN    NaN  \n",
       "3520           First  18.48 kmpl    NaN   NaN    NaN  \n",
       "3522           First    0.0 kmpl    NaN   NaN    NaN  \n",
       "3810           First   14.0 kmpl    NaN   NaN    NaN  \n",
       "4011           First   20.3 kmpl    NaN   NaN    NaN  \n",
       "4152          Second    0.0 kmpl    NaN   NaN    NaN  \n",
       "4229          Second   17.0 kmpl    NaN   NaN    NaN  \n",
       "4577           Third  18.48 kmpl    NaN   NaN    NaN  \n",
       "4604           First   16.7 kmpl    NaN   NaN    NaN  \n",
       "4697           First   15.7 kmpl    NaN   NaN    NaN  \n",
       "4712          Second   17.0 kmpl    NaN   NaN    NaN  \n",
       "4952           First   14.6 kmpl    NaN   NaN    NaN  \n",
       "5015           First   16.1 kmpl    NaN   NaN    NaN  \n",
       "5185           First   16.1 kmpl    NaN   NaN    NaN  \n",
       "5270          Second    0.0 kmpl    NaN   NaN    NaN  "
      ]
     },
     "execution_count": 8,
     "metadata": {},
     "output_type": "execute_result"
    }
   ],
   "source": [
    "train_feature[train_feature['Power'].isnull()]"
   ]
  },
  {
   "cell_type": "code",
   "execution_count": 9,
   "id": "ea64f744",
   "metadata": {
    "execution": {
     "iopub.execute_input": "2024-07-17T01:55:07.076694Z",
     "iopub.status.busy": "2024-07-17T01:55:07.075739Z",
     "iopub.status.idle": "2024-07-17T01:55:07.098834Z",
     "shell.execute_reply": "2024-07-17T01:55:07.097816Z"
    },
    "papermill": {
     "duration": 0.035474,
     "end_time": "2024-07-17T01:55:07.100953",
     "exception": false,
     "start_time": "2024-07-17T01:55:07.065479",
     "status": "completed"
    },
    "tags": []
   },
   "outputs": [],
   "source": [
    "train_feature['Power'] = train_feature['Power'].fillna('0 bhp')\n",
    "train_feature['Power'] = train_feature['Power'].str.replace(' bhp' , '')\n",
    "train_feature['Power'] = train_feature['Power'].str.replace('null' , '0')\n",
    "train_feature['Power'] = train_feature['Power'].astype(float)\n",
    "\n",
    "train_feature['Engine'] = train_feature['Engine'].fillna('0 CC')\n",
    "train_feature['Engine'] = train_feature['Engine'].str.replace('nan' , '0')\n",
    "train_feature['Engine'] = train_feature['Engine'].str.replace(' CC' , '')\n",
    "train_feature['Engine'] = train_feature['Engine'].astype(float)"
   ]
  },
  {
   "cell_type": "code",
   "execution_count": 10,
   "id": "1aeb98fa",
   "metadata": {
    "execution": {
     "iopub.execute_input": "2024-07-17T01:55:07.123372Z",
     "iopub.status.busy": "2024-07-17T01:55:07.122414Z",
     "iopub.status.idle": "2024-07-17T01:55:07.131092Z",
     "shell.execute_reply": "2024-07-17T01:55:07.130014Z"
    },
    "papermill": {
     "duration": 0.021834,
     "end_time": "2024-07-17T01:55:07.133345",
     "exception": false,
     "start_time": "2024-07-17T01:55:07.111511",
     "status": "completed"
    },
    "tags": []
   },
   "outputs": [
    {
     "data": {
      "text/plain": [
       "0"
      ]
     },
     "execution_count": 10,
     "metadata": {},
     "output_type": "execute_result"
    }
   ],
   "source": [
    "train_feature['Seats'] = train_feature['Seats'].fillna(0)\n",
    "train_feature['Seats'].isnull().sum()"
   ]
  },
  {
   "cell_type": "code",
   "execution_count": 11,
   "id": "22fc6a43",
   "metadata": {
    "execution": {
     "iopub.execute_input": "2024-07-17T01:55:07.154373Z",
     "iopub.status.busy": "2024-07-17T01:55:07.153662Z",
     "iopub.status.idle": "2024-07-17T01:55:07.161483Z",
     "shell.execute_reply": "2024-07-17T01:55:07.160282Z"
    },
    "papermill": {
     "duration": 0.020768,
     "end_time": "2024-07-17T01:55:07.163619",
     "exception": false,
     "start_time": "2024-07-17T01:55:07.142851",
     "status": "completed"
    },
    "tags": []
   },
   "outputs": [
    {
     "data": {
      "text/plain": [
       "2"
      ]
     },
     "execution_count": 11,
     "metadata": {},
     "output_type": "execute_result"
    }
   ],
   "source": [
    "train_feature['Mileage'].isnull().sum() "
   ]
  },
  {
   "cell_type": "markdown",
   "id": "73033de0",
   "metadata": {
    "papermill": {
     "duration": 0.009031,
     "end_time": "2024-07-17T01:55:07.182068",
     "exception": false,
     "start_time": "2024-07-17T01:55:07.173037",
     "status": "completed"
    },
    "tags": []
   },
   "source": [
    "# EDA for test data"
   ]
  },
  {
   "cell_type": "code",
   "execution_count": 12,
   "id": "6aed0090",
   "metadata": {
    "execution": {
     "iopub.execute_input": "2024-07-17T01:55:07.203158Z",
     "iopub.status.busy": "2024-07-17T01:55:07.201987Z",
     "iopub.status.idle": "2024-07-17T01:55:07.213479Z",
     "shell.execute_reply": "2024-07-17T01:55:07.212339Z"
    },
    "papermill": {
     "duration": 0.024352,
     "end_time": "2024-07-17T01:55:07.215822",
     "exception": false,
     "start_time": "2024-07-17T01:55:07.191470",
     "status": "completed"
    },
    "tags": []
   },
   "outputs": [
    {
     "name": "stdout",
     "output_type": "stream",
     "text": [
      "<class 'pandas.core.frame.DataFrame'>\n",
      "RangeIndex: 1234 entries, 0 to 1233\n",
      "Data columns (total 13 columns):\n",
      " #   Column             Non-Null Count  Dtype  \n",
      "---  ------             --------------  -----  \n",
      " 0   Unnamed: 0         1234 non-null   int64  \n",
      " 1   Name               1234 non-null   object \n",
      " 2   Location           1234 non-null   object \n",
      " 3   Year               1234 non-null   int64  \n",
      " 4   Kilometers_Driven  1234 non-null   int64  \n",
      " 5   Fuel_Type          1234 non-null   object \n",
      " 6   Transmission       1234 non-null   object \n",
      " 7   Owner_Type         1234 non-null   object \n",
      " 8   Mileage            1234 non-null   object \n",
      " 9   Engine             1224 non-null   object \n",
      " 10  Power              1224 non-null   object \n",
      " 11  Seats              1223 non-null   float64\n",
      " 12  New_Price          182 non-null    object \n",
      "dtypes: float64(1), int64(3), object(9)\n",
      "memory usage: 125.5+ KB\n"
     ]
    }
   ],
   "source": [
    "test.info()"
   ]
  },
  {
   "cell_type": "code",
   "execution_count": 13,
   "id": "e888949b",
   "metadata": {
    "execution": {
     "iopub.execute_input": "2024-07-17T01:55:07.236459Z",
     "iopub.status.busy": "2024-07-17T01:55:07.235981Z",
     "iopub.status.idle": "2024-07-17T01:55:07.248560Z",
     "shell.execute_reply": "2024-07-17T01:55:07.247537Z"
    },
    "papermill": {
     "duration": 0.025532,
     "end_time": "2024-07-17T01:55:07.250918",
     "exception": false,
     "start_time": "2024-07-17T01:55:07.225386",
     "status": "completed"
    },
    "tags": []
   },
   "outputs": [],
   "source": [
    "test_feature['Power'] = test_feature['Power'].fillna('0 bhp')\n",
    "test_feature['Power'] = test_feature['Power'].str.replace(' bhp' , '')\n",
    "test_feature['Power'] = test_feature['Power'].str.replace('null' , '0')\n",
    "test_feature['Power'] = test_feature['Power'].astype(float)\n",
    "\n",
    "test_feature['Engine'] = test_feature['Engine'].fillna('0 CC')\n",
    "test_feature['Engine'] = test_feature['Engine'].str.replace('nan' , '0')\n",
    "test_feature['Engine'] = test_feature['Engine'].str.replace(' CC' , '')\n",
    "test_feature['Engine'] = test_feature['Engine'].astype(float)"
   ]
  },
  {
   "cell_type": "markdown",
   "id": "6c3b44a4",
   "metadata": {
    "papermill": {
     "duration": 0.009069,
     "end_time": "2024-07-17T01:55:07.269587",
     "exception": false,
     "start_time": "2024-07-17T01:55:07.260518",
     "status": "completed"
    },
    "tags": []
   },
   "source": [
    "# Data Visualization"
   ]
  },
  {
   "cell_type": "code",
   "execution_count": 14,
   "id": "db29a3a0",
   "metadata": {
    "execution": {
     "iopub.execute_input": "2024-07-17T01:55:07.289937Z",
     "iopub.status.busy": "2024-07-17T01:55:07.289580Z",
     "iopub.status.idle": "2024-07-17T01:55:07.497790Z",
     "shell.execute_reply": "2024-07-17T01:55:07.496773Z"
    },
    "papermill": {
     "duration": 0.220975,
     "end_time": "2024-07-17T01:55:07.499977",
     "exception": false,
     "start_time": "2024-07-17T01:55:07.279002",
     "status": "completed"
    },
    "tags": []
   },
   "outputs": [
    {
     "data": {
      "text/plain": [
       "<Axes: >"
      ]
     },
     "execution_count": 14,
     "metadata": {},
     "output_type": "execute_result"
    },
    {
     "data": {
      "image/png": "[encoded data removed]",
      "text/plain": [
       "<Figure size 640x480 with 1 Axes>"
      ]
     },
     "metadata": {},
     "output_type": "display_data"
    }
   ],
   "source": [
    "sns.boxplot(train_feature['Year'] , color=\"orange\") "
   ]
  },
  {
   "cell_type": "code",
   "execution_count": 15,
   "id": "f467481d",
   "metadata": {
    "execution": {
     "iopub.execute_input": "2024-07-17T01:55:07.522028Z",
     "iopub.status.busy": "2024-07-17T01:55:07.521120Z",
     "iopub.status.idle": "2024-07-17T01:55:07.735322Z",
     "shell.execute_reply": "2024-07-17T01:55:07.734180Z"
    },
    "papermill": {
     "duration": 0.227689,
     "end_time": "2024-07-17T01:55:07.737682",
     "exception": false,
     "start_time": "2024-07-17T01:55:07.509993",
     "status": "completed"
    },
    "tags": []
   },
   "outputs": [
    {
     "data": {
      "text/plain": [
       "<Axes: >"
      ]
     },
     "execution_count": 15,
     "metadata": {},
     "output_type": "execute_result"
    },
    {
     "data": {
      "image/png": "[encoded data removed]",
      "text/plain": [
       "<Figure size 640x480 with 1 Axes>"
      ]
     },
     "metadata": {},
     "output_type": "display_data"
    }
   ],
   "source": [
    "sns.boxplot(train_feature['Year'], color=\"orange\") "
   ]
  },
  {
   "cell_type": "code",
   "execution_count": 16,
   "id": "0464ed08",
   "metadata": {
    "execution": {
     "iopub.execute_input": "2024-07-17T01:55:07.759730Z",
     "iopub.status.busy": "2024-07-17T01:55:07.759362Z",
     "iopub.status.idle": "2024-07-17T01:55:08.057843Z",
     "shell.execute_reply": "2024-07-17T01:55:08.056871Z"
    },
    "papermill": {
     "duration": 0.312219,
     "end_time": "2024-07-17T01:55:08.060025",
     "exception": false,
     "start_time": "2024-07-17T01:55:07.747806",
     "status": "completed"
    },
    "tags": []
   },
   "outputs": [
    {
     "name": "stderr",
     "output_type": "stream",
     "text": [
      "/opt/conda/lib/python3.10/site-packages/seaborn/_oldcore.py:1119: FutureWarning: use_inf_as_na option is deprecated and will be removed in a future version. Convert inf values to NaN before operating instead.\n",
      "  with pd.option_context('mode.use_inf_as_na', True):\n"
     ]
    },
    {
     "data": {
      "text/plain": [
       "<Axes: xlabel='Owner_Type', ylabel='Count'>"
      ]
     },
     "execution_count": 16,
     "metadata": {},
     "output_type": "execute_result"
    },
    {
     "data": {
      "image/png": "[encoded data removed]",
      "text/plain": [
       "<Figure size 640x480 with 1 Axes>"
      ]
     },
     "metadata": {},
     "output_type": "display_data"
    }
   ],
   "source": [
    "sns.histplot(data  = train_feature , x = 'Owner_Type' , kde=True , color=\"red\")"
   ]
  },
  {
   "cell_type": "code",
   "execution_count": 17,
   "id": "afd6facf",
   "metadata": {
    "execution": {
     "iopub.execute_input": "2024-07-17T01:55:08.084088Z",
     "iopub.status.busy": "2024-07-17T01:55:08.083174Z",
     "iopub.status.idle": "2024-07-17T01:55:08.364336Z",
     "shell.execute_reply": "2024-07-17T01:55:08.363259Z"
    },
    "papermill": {
     "duration": 0.295519,
     "end_time": "2024-07-17T01:55:08.366583",
     "exception": false,
     "start_time": "2024-07-17T01:55:08.071064",
     "status": "completed"
    },
    "tags": []
   },
   "outputs": [
    {
     "name": "stderr",
     "output_type": "stream",
     "text": [
      "/opt/conda/lib/python3.10/site-packages/seaborn/_oldcore.py:1119: FutureWarning: use_inf_as_na option is deprecated and will be removed in a future version. Convert inf values to NaN before operating instead.\n",
      "  with pd.option_context('mode.use_inf_as_na', True):\n"
     ]
    },
    {
     "data": {
      "text/plain": [
       "<Axes: xlabel='Fuel_Type', ylabel='Count'>"
      ]
     },
     "execution_count": 17,
     "metadata": {},
     "output_type": "execute_result"
    },
    {
     "data": {
      "image/png": "[encoded data removed]",
      "text/plain": [
       "<Figure size 640x480 with 1 Axes>"
      ]
     },
     "metadata": {},
     "output_type": "display_data"
    }
   ],
   "source": [
    "sns.histplot(data  = train_feature , x = 'Fuel_Type' , kde=True , color=\"green\") "
   ]
  },
  {
   "cell_type": "code",
   "execution_count": 18,
   "id": "19ead243",
   "metadata": {
    "execution": {
     "iopub.execute_input": "2024-07-17T01:55:08.391071Z",
     "iopub.status.busy": "2024-07-17T01:55:08.390634Z",
     "iopub.status.idle": "2024-07-17T01:55:08.752885Z",
     "shell.execute_reply": "2024-07-17T01:55:08.751799Z"
    },
    "papermill": {
     "duration": 0.377073,
     "end_time": "2024-07-17T01:55:08.755007",
     "exception": false,
     "start_time": "2024-07-17T01:55:08.377934",
     "status": "completed"
    },
    "tags": []
   },
   "outputs": [
    {
     "name": "stderr",
     "output_type": "stream",
     "text": [
      "/opt/conda/lib/python3.10/site-packages/seaborn/_oldcore.py:1119: FutureWarning: use_inf_as_na option is deprecated and will be removed in a future version. Convert inf values to NaN before operating instead.\n",
      "  with pd.option_context('mode.use_inf_as_na', True):\n"
     ]
    },
    {
     "data": {
      "text/plain": [
       "<Axes: xlabel='Year', ylabel='Count'>"
      ]
     },
     "execution_count": 18,
     "metadata": {},
     "output_type": "execute_result"
    },
    {
     "data": {
      "image/png": "[encoded data removed]",
      "text/plain": [
       "<Figure size 640x480 with 1 Axes>"
      ]
     },
     "metadata": {},
     "output_type": "display_data"
    }
   ],
   "source": [
    "sns.histplot(data  = train_feature , x = 'Year' , kde=True , color=\"black\")"
   ]
  },
  {
   "cell_type": "code",
   "execution_count": 19,
   "id": "dd4ecb2c",
   "metadata": {
    "execution": {
     "iopub.execute_input": "2024-07-17T01:55:08.781627Z",
     "iopub.status.busy": "2024-07-17T01:55:08.780908Z",
     "iopub.status.idle": "2024-07-17T01:55:08.985268Z",
     "shell.execute_reply": "2024-07-17T01:55:08.984245Z"
    },
    "papermill": {
     "duration": 0.220082,
     "end_time": "2024-07-17T01:55:08.987487",
     "exception": false,
     "start_time": "2024-07-17T01:55:08.767405",
     "status": "completed"
    },
    "tags": []
   },
   "outputs": [
    {
     "data": {
      "text/plain": [
       "<Axes: >"
      ]
     },
     "execution_count": 19,
     "metadata": {},
     "output_type": "execute_result"
    },
    {
     "data": {
      "image/png": "[encoded data removed]",
      "text/plain": [
       "<Figure size 640x480 with 1 Axes>"
      ]
     },
     "metadata": {},
     "output_type": "display_data"
    }
   ],
   "source": [
    "sns.boxplot(train_label, color=\"orange\") "
   ]
  },
  {
   "cell_type": "markdown",
   "id": "47cf0a62",
   "metadata": {
    "papermill": {
     "duration": 0.012157,
     "end_time": "2024-07-17T01:55:09.013185",
     "exception": false,
     "start_time": "2024-07-17T01:55:09.001028",
     "status": "completed"
    },
    "tags": []
   },
   "source": [
    "# Imputation"
   ]
  },
  {
   "cell_type": "code",
   "execution_count": 20,
   "id": "f943dbf0",
   "metadata": {
    "execution": {
     "iopub.execute_input": "2024-07-17T01:55:09.040425Z",
     "iopub.status.busy": "2024-07-17T01:55:09.039650Z",
     "iopub.status.idle": "2024-07-17T01:55:09.053484Z",
     "shell.execute_reply": "2024-07-17T01:55:09.052212Z"
    },
    "papermill": {
     "duration": 0.030115,
     "end_time": "2024-07-17T01:55:09.055666",
     "exception": false,
     "start_time": "2024-07-17T01:55:09.025551",
     "status": "completed"
    },
    "tags": []
   },
   "outputs": [
    {
     "name": "stdout",
     "output_type": "stream",
     "text": [
      "<class 'pandas.core.frame.DataFrame'>\n",
      "RangeIndex: 6019 entries, 0 to 6018\n",
      "Data columns (total 10 columns):\n",
      " #   Column             Non-Null Count  Dtype  \n",
      "---  ------             --------------  -----  \n",
      " 0   Location           6019 non-null   object \n",
      " 1   Year               6019 non-null   int64  \n",
      " 2   Kilometers_Driven  6019 non-null   int64  \n",
      " 3   Fuel_Type          6019 non-null   object \n",
      " 4   Transmission       6019 non-null   object \n",
      " 5   Owner_Type         6019 non-null   object \n",
      " 6   Mileage            6017 non-null   object \n",
      " 7   Engine             6019 non-null   float64\n",
      " 8   Power              6019 non-null   float64\n",
      " 9   Seats              6019 non-null   float64\n",
      "dtypes: float64(3), int64(2), object(5)\n",
      "memory usage: 470.4+ KB\n"
     ]
    }
   ],
   "source": [
    "train_feature.info() "
   ]
  },
  {
   "cell_type": "code",
   "execution_count": 21,
   "id": "88fb9fc7",
   "metadata": {
    "execution": {
     "iopub.execute_input": "2024-07-17T01:55:09.082889Z",
     "iopub.status.busy": "2024-07-17T01:55:09.082249Z",
     "iopub.status.idle": "2024-07-17T01:55:09.507870Z",
     "shell.execute_reply": "2024-07-17T01:55:09.506851Z"
    },
    "papermill": {
     "duration": 0.441834,
     "end_time": "2024-07-17T01:55:09.510174",
     "exception": false,
     "start_time": "2024-07-17T01:55:09.068340",
     "status": "completed"
    },
    "tags": []
   },
   "outputs": [
    {
     "data": {
      "text/plain": [
       "array([[2.010e+03, 7.200e+04, 5.000e+00, 5.816e+01, 9.980e+02],\n",
       "       [2.015e+03, 4.100e+04, 5.000e+00, 1.262e+02, 1.582e+03],\n",
       "       [2.011e+03, 4.600e+04, 5.000e+00, 8.870e+01, 1.199e+03],\n",
       "       ...,\n",
       "       [2.012e+03, 5.500e+04, 8.000e+00, 1.120e+02, 2.498e+03],\n",
       "       [2.013e+03, 4.600e+04, 5.000e+00, 6.710e+01, 9.980e+02],\n",
       "       [2.011e+03, 4.700e+04, 5.000e+00, 5.760e+01, 9.360e+02]])"
      ]
     },
     "execution_count": 21,
     "metadata": {},
     "output_type": "execute_result"
    }
   ],
   "source": [
    "num_train = train_feature[['Year' , 'Kilometers_Driven' ,'Seats' , 'Power' , 'Engine']]\n",
    "from sklearn.impute import SimpleImputer\n",
    "impute = SimpleImputer(strategy = 'median')\n",
    "impute.fit(num_train)\n",
    "impute.statistics_\n",
    "impute.transform(num_train)"
   ]
  },
  {
   "cell_type": "code",
   "execution_count": 22,
   "id": "750421a2",
   "metadata": {
    "execution": {
     "iopub.execute_input": "2024-07-17T01:55:09.537344Z",
     "iopub.status.busy": "2024-07-17T01:55:09.536681Z",
     "iopub.status.idle": "2024-07-17T01:55:09.627613Z",
     "shell.execute_reply": "2024-07-17T01:55:09.626606Z"
    },
    "papermill": {
     "duration": 0.106945,
     "end_time": "2024-07-17T01:55:09.629807",
     "exception": false,
     "start_time": "2024-07-17T01:55:09.522862",
     "status": "completed"
    },
    "tags": []
   },
   "outputs": [
    {
     "data": {
      "text/plain": [
       "array([[0., 0., 0., ..., 0., 1., 0.],\n",
       "       [0., 0., 0., ..., 0., 0., 1.],\n",
       "       [0., 0., 0., ..., 0., 0., 0.],\n",
       "       ...,\n",
       "       [0., 0., 0., ..., 0., 0., 0.],\n",
       "       [0., 0., 0., ..., 1., 0., 0.],\n",
       "       [0., 0., 0., ..., 0., 0., 0.]])"
      ]
     },
     "execution_count": 22,
     "metadata": {},
     "output_type": "execute_result"
    }
   ],
   "source": [
    "categ = train_feature[['Kilometers_Driven' , 'Transmission' , 'Fuel_Type' , 'Owner_Type' , 'Location']]\n",
    "from sklearn.preprocessing import OneHotEncoder\n",
    "cat_encod = OneHotEncoder(sparse_output = False, handle_unknown='ignore')\n",
    "y = cat_encod.fit_transform(categ)\n",
    "y"
   ]
  },
  {
   "cell_type": "code",
   "execution_count": 23,
   "id": "29193dfe",
   "metadata": {
    "execution": {
     "iopub.execute_input": "2024-07-17T01:55:09.657130Z",
     "iopub.status.busy": "2024-07-17T01:55:09.656429Z",
     "iopub.status.idle": "2024-07-17T01:55:09.663154Z",
     "shell.execute_reply": "2024-07-17T01:55:09.662190Z"
    },
    "papermill": {
     "duration": 0.022539,
     "end_time": "2024-07-17T01:55:09.665194",
     "exception": false,
     "start_time": "2024-07-17T01:55:09.642655",
     "status": "completed"
    },
    "tags": []
   },
   "outputs": [
    {
     "data": {
      "text/plain": [
       "((6019, 10), (6019, 5), (6019, 5))"
      ]
     },
     "execution_count": 23,
     "metadata": {},
     "output_type": "execute_result"
    }
   ],
   "source": [
    "train_feature.shape , num_train.shape , categ.shape"
   ]
  },
  {
   "cell_type": "code",
   "execution_count": 24,
   "id": "b5d18464",
   "metadata": {
    "execution": {
     "iopub.execute_input": "2024-07-17T01:55:09.693845Z",
     "iopub.status.busy": "2024-07-17T01:55:09.692961Z",
     "iopub.status.idle": "2024-07-17T01:55:09.707420Z",
     "shell.execute_reply": "2024-07-17T01:55:09.706124Z"
    },
    "papermill": {
     "duration": 0.031815,
     "end_time": "2024-07-17T01:55:09.709911",
     "exception": false,
     "start_time": "2024-07-17T01:55:09.678096",
     "status": "completed"
    },
    "tags": []
   },
   "outputs": [
    {
     "data": {
      "text/plain": [
       "array([[-1.02713851,  0.14531489, -0.26352296, -0.93656959, -1.00192768],\n",
       "       [ 0.50216112, -0.19436922, -0.26352296,  0.27948594, -0.04830102],\n",
       "       [-0.72127858, -0.13958146, -0.26352296, -0.39073867, -0.67371028],\n",
       "       ...,\n",
       "       [-0.41541866, -0.0409635 ,  3.00463231,  0.02569422,  1.44745585],\n",
       "       [-0.10955873, -0.13958146, -0.26352296, -0.77678804, -1.00192768],\n",
       "       [-0.72127858, -0.12862391, -0.26352296, -0.94657827, -1.10316886]])"
      ]
     },
     "execution_count": 24,
     "metadata": {},
     "output_type": "execute_result"
    }
   ],
   "source": [
    "from sklearn.preprocessing import StandardScaler\n",
    "scale = StandardScaler()\n",
    "scale.fit_transform(num_train)"
   ]
  },
  {
   "cell_type": "code",
   "execution_count": 25,
   "id": "21e85ffd",
   "metadata": {
    "execution": {
     "iopub.execute_input": "2024-07-17T01:55:09.738570Z",
     "iopub.status.busy": "2024-07-17T01:55:09.738157Z",
     "iopub.status.idle": "2024-07-17T01:55:09.752164Z",
     "shell.execute_reply": "2024-07-17T01:55:09.751137Z"
    },
    "papermill": {
     "duration": 0.03078,
     "end_time": "2024-07-17T01:55:09.754575",
     "exception": false,
     "start_time": "2024-07-17T01:55:09.723795",
     "status": "completed"
    },
    "tags": []
   },
   "outputs": [
    {
     "data": {
      "text/plain": [
       "array([[-0.8       ,  0.48717949,  0.        , -0.51444635, -0.64119171],\n",
       "       [ 0.2       , -0.30769231,  0.        ,  0.54818054,  0.11528497],\n",
       "       [-0.6       , -0.17948718,  0.        , -0.03748243, -0.38082902],\n",
       "       ...,\n",
       "       [-0.4       ,  0.05128205,  3.        ,  0.3264095 ,  1.30181347],\n",
       "       [-0.2       , -0.17948718,  0.        , -0.3748243 , -0.64119171],\n",
       "       [-0.6       , -0.15384615,  0.        , -0.52319225, -0.72150259]])"
      ]
     },
     "execution_count": 25,
     "metadata": {},
     "output_type": "execute_result"
    }
   ],
   "source": [
    "from sklearn.preprocessing import RobustScaler\n",
    "scalerR = RobustScaler()\n",
    "scalenum_ROB = scalerR.fit_transform(num_train)\n",
    "scalenum_ROB"
   ]
  },
  {
   "cell_type": "markdown",
   "id": "a2237570",
   "metadata": {
    "papermill": {
     "duration": 0.012683,
     "end_time": "2024-07-17T01:55:09.780364",
     "exception": false,
     "start_time": "2024-07-17T01:55:09.767681",
     "status": "completed"
    },
    "tags": []
   },
   "source": [
    "# Pipeline"
   ]
  },
  {
   "cell_type": "code",
   "execution_count": 26,
   "id": "5b9e6e2d",
   "metadata": {
    "execution": {
     "iopub.execute_input": "2024-07-17T01:55:09.808107Z",
     "iopub.status.busy": "2024-07-17T01:55:09.807503Z",
     "iopub.status.idle": "2024-07-17T01:55:09.832479Z",
     "shell.execute_reply": "2024-07-17T01:55:09.831421Z"
    },
    "papermill": {
     "duration": 0.041253,
     "end_time": "2024-07-17T01:55:09.834616",
     "exception": false,
     "start_time": "2024-07-17T01:55:09.793363",
     "status": "completed"
    },
    "tags": []
   },
   "outputs": [
    {
     "data": {
      "text/html": [
       "<style>#sk-container-id-1 {color: black;background-color: white;}#sk-container-id-1 pre{padding: 0;}#sk-container-id-1 div.sk-toggleable {background-color: white;}#sk-container-id-1 label.sk-toggleable__label {cursor: pointer;display: block;width: 100%;margin-bottom: 0;padding: 0.3em;box-sizing: border-box;text-align: center;}#sk-container-id-1 label.sk-toggleable__label-arrow:before {content: \"▸\";float: left;margin-right: 0.25em;color: #696969;}#sk-container-id-1 label.sk-toggleable__label-arrow:hover:before {color: black;}#sk-container-id-1 div.sk-estimator:hover label.sk-toggleable__label-arrow:before {color: black;}#sk-container-id-1 div.sk-toggleable__content {max-height: 0;max-width: 0;overflow: hidden;text-align: left;background-color: #f0f8ff;}#sk-container-id-1 div.sk-toggleable__content pre {margin: 0.2em;color: black;border-radius: 0.25em;background-color: #f0f8ff;}#sk-container-id-1 input.sk-toggleable__control:checked~div.sk-toggleable__content {max-height: 200px;max-width: 100%;overflow: auto;}#sk-container-id-1 input.sk-toggleable__control:checked~label.sk-toggleable__label-arrow:before {content: \"▾\";}#sk-container-id-1 div.sk-estimator input.sk-toggleable__control:checked~label.sk-toggleable__label {background-color: #d4ebff;}#sk-container-id-1 div.sk-label input.sk-toggleable__control:checked~label.sk-toggleable__label {background-color: #d4ebff;}#sk-container-id-1 input.sk-hidden--visually {border: 0;clip: rect(1px 1px 1px 1px);clip: rect(1px, 1px, 1px, 1px);height: 1px;margin: -1px;overflow: hidden;padding: 0;position: absolute;width: 1px;}#sk-container-id-1 div.sk-estimator {font-family: monospace;background-color: #f0f8ff;border: 1px dotted black;border-radius: 0.25em;box-sizing: border-box;margin-bottom: 0.5em;}#sk-container-id-1 div.sk-estimator:hover {background-color: #d4ebff;}#sk-container-id-1 div.sk-parallel-item::after {content: \"\";width: 100%;border-bottom: 1px solid gray;flex-grow: 1;}#sk-container-id-1 div.sk-label:hover label.sk-toggleable__label {background-color: #d4ebff;}#sk-container-id-1 div.sk-serial::before {content: \"\";position: absolute;border-left: 1px solid gray;box-sizing: border-box;top: 0;bottom: 0;left: 50%;z-index: 0;}#sk-container-id-1 div.sk-serial {display: flex;flex-direction: column;align-items: center;background-color: white;padding-right: 0.2em;padding-left: 0.2em;position: relative;}#sk-container-id-1 div.sk-item {position: relative;z-index: 1;}#sk-container-id-1 div.sk-parallel {display: flex;align-items: stretch;justify-content: center;background-color: white;position: relative;}#sk-container-id-1 div.sk-item::before, #sk-container-id-1 div.sk-parallel-item::before {content: \"\";position: absolute;border-left: 1px solid gray;box-sizing: border-box;top: 0;bottom: 0;left: 50%;z-index: -1;}#sk-container-id-1 div.sk-parallel-item {display: flex;flex-direction: column;z-index: 1;position: relative;background-color: white;}#sk-container-id-1 div.sk-parallel-item:first-child::after {align-self: flex-end;width: 50%;}#sk-container-id-1 div.sk-parallel-item:last-child::after {align-self: flex-start;width: 50%;}#sk-container-id-1 div.sk-parallel-item:only-child::after {width: 0;}#sk-container-id-1 div.sk-dashed-wrapped {border: 1px dashed gray;margin: 0 0.4em 0.5em 0.4em;box-sizing: border-box;padding-bottom: 0.4em;background-color: white;}#sk-container-id-1 div.sk-label label {font-family: monospace;font-weight: bold;display: inline-block;line-height: 1.2em;}#sk-container-id-1 div.sk-label-container {text-align: center;}#sk-container-id-1 div.sk-container {/* jupyter's `normalize.less` sets `[hidden] { display: none; }` but bootstrap.min.css set `[hidden] { display: none !important; }` so we also need the `!important` here to be able to override the default hidden behavior on the sphinx rendered scikit-learn.org. See: https://github.com/scikit-learn/scikit-learn/issues/21755 */display: inline-block !important;position: relative;}#sk-container-id-1 div.sk-text-repr-fallback {display: none;}</style><div id=\"sk-container-id-1\" class=\"sk-top-container\"><div class=\"sk-text-repr-fallback\"><pre>Pipeline(steps=[(&#x27;imputer&#x27;, SimpleImputer(strategy=&#x27;median&#x27;)),\n",
       "                (&#x27;robust&#x27;, RobustScaler())])</pre><b>In a Jupyter environment, please rerun this cell to show the HTML representation or trust the notebook. <br />On GitHub, the HTML representation is unable to render, please try loading this page with nbviewer.org.</b></div><div class=\"sk-container\" hidden><div class=\"sk-item sk-dashed-wrapped\"><div class=\"sk-label-container\"><div class=\"sk-label sk-toggleable\"><input class=\"sk-toggleable__control sk-hidden--visually\" id=\"sk-estimator-id-1\" type=\"checkbox\" ><label for=\"sk-estimator-id-1\" class=\"sk-toggleable__label sk-toggleable__label-arrow\">Pipeline</label><div class=\"sk-toggleable__content\"><pre>Pipeline(steps=[(&#x27;imputer&#x27;, SimpleImputer(strategy=&#x27;median&#x27;)),\n",
       "                (&#x27;robust&#x27;, RobustScaler())])</pre></div></div></div><div class=\"sk-serial\"><div class=\"sk-item\"><div class=\"sk-estimator sk-toggleable\"><input class=\"sk-toggleable__control sk-hidden--visually\" id=\"sk-estimator-id-2\" type=\"checkbox\" ><label for=\"sk-estimator-id-2\" class=\"sk-toggleable__label sk-toggleable__label-arrow\">SimpleImputer</label><div class=\"sk-toggleable__content\"><pre>SimpleImputer(strategy=&#x27;median&#x27;)</pre></div></div></div><div class=\"sk-item\"><div class=\"sk-estimator sk-toggleable\"><input class=\"sk-toggleable__control sk-hidden--visually\" id=\"sk-estimator-id-3\" type=\"checkbox\" ><label for=\"sk-estimator-id-3\" class=\"sk-toggleable__label sk-toggleable__label-arrow\">RobustScaler</label><div class=\"sk-toggleable__content\"><pre>RobustScaler()</pre></div></div></div></div></div></div></div>"
      ],
      "text/plain": [
       "Pipeline(steps=[('imputer', SimpleImputer(strategy='median')),\n",
       "                ('robust', RobustScaler())])"
      ]
     },
     "execution_count": 26,
     "metadata": {},
     "output_type": "execute_result"
    }
   ],
   "source": [
    "from sklearn.pipeline import Pipeline\n",
    "pip = Pipeline([('imputer' , SimpleImputer(strategy = 'median')) , ('robust' , RobustScaler())])\n",
    "result_num = pip.fit_transform(num_train)\n",
    "pip"
   ]
  },
  {
   "cell_type": "code",
   "execution_count": 27,
   "id": "026557cb",
   "metadata": {
    "execution": {
     "iopub.execute_input": "2024-07-17T01:55:09.863433Z",
     "iopub.status.busy": "2024-07-17T01:55:09.863047Z",
     "iopub.status.idle": "2024-07-17T01:55:09.986943Z",
     "shell.execute_reply": "2024-07-17T01:55:09.985764Z"
    },
    "papermill": {
     "duration": 0.140882,
     "end_time": "2024-07-17T01:55:09.989150",
     "exception": false,
     "start_time": "2024-07-17T01:55:09.848268",
     "status": "completed"
    },
    "tags": []
   },
   "outputs": [
    {
     "data": {
      "text/html": [
       "<style>#sk-container-id-2 {color: black;background-color: white;}#sk-container-id-2 pre{padding: 0;}#sk-container-id-2 div.sk-toggleable {background-color: white;}#sk-container-id-2 label.sk-toggleable__label {cursor: pointer;display: block;width: 100%;margin-bottom: 0;padding: 0.3em;box-sizing: border-box;text-align: center;}#sk-container-id-2 label.sk-toggleable__label-arrow:before {content: \"▸\";float: left;margin-right: 0.25em;color: #696969;}#sk-container-id-2 label.sk-toggleable__label-arrow:hover:before {color: black;}#sk-container-id-2 div.sk-estimator:hover label.sk-toggleable__label-arrow:before {color: black;}#sk-container-id-2 div.sk-toggleable__content {max-height: 0;max-width: 0;overflow: hidden;text-align: left;background-color: #f0f8ff;}#sk-container-id-2 div.sk-toggleable__content pre {margin: 0.2em;color: black;border-radius: 0.25em;background-color: #f0f8ff;}#sk-container-id-2 input.sk-toggleable__control:checked~div.sk-toggleable__content {max-height: 200px;max-width: 100%;overflow: auto;}#sk-container-id-2 input.sk-toggleable__control:checked~label.sk-toggleable__label-arrow:before {content: \"▾\";}#sk-container-id-2 div.sk-estimator input.sk-toggleable__control:checked~label.sk-toggleable__label {background-color: #d4ebff;}#sk-container-id-2 div.sk-label input.sk-toggleable__control:checked~label.sk-toggleable__label {background-color: #d4ebff;}#sk-container-id-2 input.sk-hidden--visually {border: 0;clip: rect(1px 1px 1px 1px);clip: rect(1px, 1px, 1px, 1px);height: 1px;margin: -1px;overflow: hidden;padding: 0;position: absolute;width: 1px;}#sk-container-id-2 div.sk-estimator {font-family: monospace;background-color: #f0f8ff;border: 1px dotted black;border-radius: 0.25em;box-sizing: border-box;margin-bottom: 0.5em;}#sk-container-id-2 div.sk-estimator:hover {background-color: #d4ebff;}#sk-container-id-2 div.sk-parallel-item::after {content: \"\";width: 100%;border-bottom: 1px solid gray;flex-grow: 1;}#sk-container-id-2 div.sk-label:hover label.sk-toggleable__label {background-color: #d4ebff;}#sk-container-id-2 div.sk-serial::before {content: \"\";position: absolute;border-left: 1px solid gray;box-sizing: border-box;top: 0;bottom: 0;left: 50%;z-index: 0;}#sk-container-id-2 div.sk-serial {display: flex;flex-direction: column;align-items: center;background-color: white;padding-right: 0.2em;padding-left: 0.2em;position: relative;}#sk-container-id-2 div.sk-item {position: relative;z-index: 1;}#sk-container-id-2 div.sk-parallel {display: flex;align-items: stretch;justify-content: center;background-color: white;position: relative;}#sk-container-id-2 div.sk-item::before, #sk-container-id-2 div.sk-parallel-item::before {content: \"\";position: absolute;border-left: 1px solid gray;box-sizing: border-box;top: 0;bottom: 0;left: 50%;z-index: -1;}#sk-container-id-2 div.sk-parallel-item {display: flex;flex-direction: column;z-index: 1;position: relative;background-color: white;}#sk-container-id-2 div.sk-parallel-item:first-child::after {align-self: flex-end;width: 50%;}#sk-container-id-2 div.sk-parallel-item:last-child::after {align-self: flex-start;width: 50%;}#sk-container-id-2 div.sk-parallel-item:only-child::after {width: 0;}#sk-container-id-2 div.sk-dashed-wrapped {border: 1px dashed gray;margin: 0 0.4em 0.5em 0.4em;box-sizing: border-box;padding-bottom: 0.4em;background-color: white;}#sk-container-id-2 div.sk-label label {font-family: monospace;font-weight: bold;display: inline-block;line-height: 1.2em;}#sk-container-id-2 div.sk-label-container {text-align: center;}#sk-container-id-2 div.sk-container {/* jupyter's `normalize.less` sets `[hidden] { display: none; }` but bootstrap.min.css set `[hidden] { display: none !important; }` so we also need the `!important` here to be able to override the default hidden behavior on the sphinx rendered scikit-learn.org. See: https://github.com/scikit-learn/scikit-learn/issues/21755 */display: inline-block !important;position: relative;}#sk-container-id-2 div.sk-text-repr-fallback {display: none;}</style><div id=\"sk-container-id-2\" class=\"sk-top-container\"><div class=\"sk-text-repr-fallback\"><pre>ColumnTransformer(transformers=[(&#x27;num&#x27;,\n",
       "                                 Pipeline(steps=[(&#x27;imputer&#x27;,\n",
       "                                                  SimpleImputer(strategy=&#x27;median&#x27;)),\n",
       "                                                 (&#x27;robust&#x27;, RobustScaler())]),\n",
       "                                       Year  Kilometers_Driven  Seats   Power  Engine\n",
       "0     2010              72000    5.0   58.16   998.0\n",
       "1     2015              41000    5.0  126.20  1582.0\n",
       "2     2011              46000    5.0   88.70  1199.0\n",
       "3     2012              87000    7.0   88.76  1248.0\n",
       "4     2013              40670    5.0  140.80  1968.0\n",
       "...    ...                ...    ...     ...     ...\n",
       "6014  2014              27365    5.0   74.00  1248.0\n",
       "6015  2015             100000    5.0   71...\n",
       "0                 72000       Manual       CNG      First      Mumbai\n",
       "1                 41000       Manual    Diesel      First        Pune\n",
       "2                 46000       Manual    Petrol      First     Chennai\n",
       "3                 87000       Manual    Diesel      First     Chennai\n",
       "4                 40670    Automatic    Diesel     Second  Coimbatore\n",
       "...                 ...          ...       ...        ...         ...\n",
       "6014              27365       Manual    Diesel      First       Delhi\n",
       "6015             100000       Manual    Diesel      First      Jaipur\n",
       "6016              55000       Manual    Diesel     Second      Jaipur\n",
       "6017              46000       Manual    Petrol      First     Kolkata\n",
       "6018              47000       Manual    Diesel      First   Hyderabad\n",
       "\n",
       "[6019 rows x 5 columns])])</pre><b>In a Jupyter environment, please rerun this cell to show the HTML representation or trust the notebook. <br />On GitHub, the HTML representation is unable to render, please try loading this page with nbviewer.org.</b></div><div class=\"sk-container\" hidden><div class=\"sk-item sk-dashed-wrapped\"><div class=\"sk-label-container\"><div class=\"sk-label sk-toggleable\"><input class=\"sk-toggleable__control sk-hidden--visually\" id=\"sk-estimator-id-4\" type=\"checkbox\" ><label for=\"sk-estimator-id-4\" class=\"sk-toggleable__label sk-toggleable__label-arrow\">ColumnTransformer</label><div class=\"sk-toggleable__content\"><pre>ColumnTransformer(transformers=[(&#x27;num&#x27;,\n",
       "                                 Pipeline(steps=[(&#x27;imputer&#x27;,\n",
       "                                                  SimpleImputer(strategy=&#x27;median&#x27;)),\n",
       "                                                 (&#x27;robust&#x27;, RobustScaler())]),\n",
       "                                       Year  Kilometers_Driven  Seats   Power  Engine\n",
       "0     2010              72000    5.0   58.16   998.0\n",
       "1     2015              41000    5.0  126.20  1582.0\n",
       "2     2011              46000    5.0   88.70  1199.0\n",
       "3     2012              87000    7.0   88.76  1248.0\n",
       "4     2013              40670    5.0  140.80  1968.0\n",
       "...    ...                ...    ...     ...     ...\n",
       "6014  2014              27365    5.0   74.00  1248.0\n",
       "6015  2015             100000    5.0   71...\n",
       "0                 72000       Manual       CNG      First      Mumbai\n",
       "1                 41000       Manual    Diesel      First        Pune\n",
       "2                 46000       Manual    Petrol      First     Chennai\n",
       "3                 87000       Manual    Diesel      First     Chennai\n",
       "4                 40670    Automatic    Diesel     Second  Coimbatore\n",
       "...                 ...          ...       ...        ...         ...\n",
       "6014              27365       Manual    Diesel      First       Delhi\n",
       "6015             100000       Manual    Diesel      First      Jaipur\n",
       "6016              55000       Manual    Diesel     Second      Jaipur\n",
       "6017              46000       Manual    Petrol      First     Kolkata\n",
       "6018              47000       Manual    Diesel      First   Hyderabad\n",
       "\n",
       "[6019 rows x 5 columns])])</pre></div></div></div><div class=\"sk-parallel\"><div class=\"sk-parallel-item\"><div class=\"sk-item\"><div class=\"sk-label-container\"><div class=\"sk-label sk-toggleable\"><input class=\"sk-toggleable__control sk-hidden--visually\" id=\"sk-estimator-id-5\" type=\"checkbox\" ><label for=\"sk-estimator-id-5\" class=\"sk-toggleable__label sk-toggleable__label-arrow\">num</label><div class=\"sk-toggleable__content\"><pre>      Year  Kilometers_Driven  Seats   Power  Engine\n",
       "0     2010              72000    5.0   58.16   998.0\n",
       "1     2015              41000    5.0  126.20  1582.0\n",
       "2     2011              46000    5.0   88.70  1199.0\n",
       "3     2012              87000    7.0   88.76  1248.0\n",
       "4     2013              40670    5.0  140.80  1968.0\n",
       "...    ...                ...    ...     ...     ...\n",
       "6014  2014              27365    5.0   74.00  1248.0\n",
       "6015  2015             100000    5.0   71.00  1120.0\n",
       "6016  2012              55000    8.0  112.00  2498.0\n",
       "6017  2013              46000    5.0   67.10   998.0\n",
       "6018  2011              47000    5.0   57.60   936.0\n",
       "\n",
       "[6019 rows x 5 columns]</pre></div></div></div><div class=\"sk-serial\"><div class=\"sk-item\"><div class=\"sk-serial\"><div class=\"sk-item\"><div class=\"sk-estimator sk-toggleable\"><input class=\"sk-toggleable__control sk-hidden--visually\" id=\"sk-estimator-id-6\" type=\"checkbox\" ><label for=\"sk-estimator-id-6\" class=\"sk-toggleable__label sk-toggleable__label-arrow\">SimpleImputer</label><div class=\"sk-toggleable__content\"><pre>SimpleImputer(strategy=&#x27;median&#x27;)</pre></div></div></div><div class=\"sk-item\"><div class=\"sk-estimator sk-toggleable\"><input class=\"sk-toggleable__control sk-hidden--visually\" id=\"sk-estimator-id-7\" type=\"checkbox\" ><label for=\"sk-estimator-id-7\" class=\"sk-toggleable__label sk-toggleable__label-arrow\">RobustScaler</label><div class=\"sk-toggleable__content\"><pre>RobustScaler()</pre></div></div></div></div></div></div></div></div><div class=\"sk-parallel-item\"><div class=\"sk-item\"><div class=\"sk-label-container\"><div class=\"sk-label sk-toggleable\"><input class=\"sk-toggleable__control sk-hidden--visually\" id=\"sk-estimator-id-8\" type=\"checkbox\" ><label for=\"sk-estimator-id-8\" class=\"sk-toggleable__label sk-toggleable__label-arrow\">cat</label><div class=\"sk-toggleable__content\"><pre>      Kilometers_Driven Transmission Fuel_Type Owner_Type    Location\n",
       "0                 72000       Manual       CNG      First      Mumbai\n",
       "1                 41000       Manual    Diesel      First        Pune\n",
       "2                 46000       Manual    Petrol      First     Chennai\n",
       "3                 87000       Manual    Diesel      First     Chennai\n",
       "4                 40670    Automatic    Diesel     Second  Coimbatore\n",
       "...                 ...          ...       ...        ...         ...\n",
       "6014              27365       Manual    Diesel      First       Delhi\n",
       "6015             100000       Manual    Diesel      First      Jaipur\n",
       "6016              55000       Manual    Diesel     Second      Jaipur\n",
       "6017              46000       Manual    Petrol      First     Kolkata\n",
       "6018              47000       Manual    Diesel      First   Hyderabad\n",
       "\n",
       "[6019 rows x 5 columns]</pre></div></div></div><div class=\"sk-serial\"><div class=\"sk-item\"><div class=\"sk-estimator sk-toggleable\"><input class=\"sk-toggleable__control sk-hidden--visually\" id=\"sk-estimator-id-9\" type=\"checkbox\" ><label for=\"sk-estimator-id-9\" class=\"sk-toggleable__label sk-toggleable__label-arrow\">OneHotEncoder</label><div class=\"sk-toggleable__content\"><pre>OneHotEncoder(handle_unknown=&#x27;ignore&#x27;, sparse=False)</pre></div></div></div></div></div></div></div></div></div></div>"
      ],
      "text/plain": [
       "ColumnTransformer(transformers=[('num',\n",
       "                                 Pipeline(steps=[('imputer',\n",
       "                                                  SimpleImputer(strategy='median')),\n",
       "                                                 ('robust', RobustScaler())]),\n",
       "                                       Year  Kilometers_Driven  Seats   Power  Engine\n",
       "0     2010              72000    5.0   58.16   998.0\n",
       "1     2015              41000    5.0  126.20  1582.0\n",
       "2     2011              46000    5.0   88.70  1199.0\n",
       "3     2012              87000    7.0   88.76  1248.0\n",
       "4     2013              40670    5.0  140.80  1968.0\n",
       "...    ...                ...    ...     ...     ...\n",
       "6014  2014              27365    5.0   74.00  1248.0\n",
       "6015  2015             100000    5.0   71...\n",
       "0                 72000       Manual       CNG      First      Mumbai\n",
       "1                 41000       Manual    Diesel      First        Pune\n",
       "2                 46000       Manual    Petrol      First     Chennai\n",
       "3                 87000       Manual    Diesel      First     Chennai\n",
       "4                 40670    Automatic    Diesel     Second  Coimbatore\n",
       "...                 ...          ...       ...        ...         ...\n",
       "6014              27365       Manual    Diesel      First       Delhi\n",
       "6015             100000       Manual    Diesel      First      Jaipur\n",
       "6016              55000       Manual    Diesel     Second      Jaipur\n",
       "6017              46000       Manual    Petrol      First     Kolkata\n",
       "6018              47000       Manual    Diesel      First   Hyderabad\n",
       "\n",
       "[6019 rows x 5 columns])])"
      ]
     },
     "execution_count": 27,
     "metadata": {},
     "output_type": "execute_result"
    }
   ],
   "source": [
    "from sklearn.compose import ColumnTransformer\n",
    "full_pipeline = ColumnTransformer([(\"num\" ,pip ,num_train) , (\"cat\" , OneHotEncoder(sparse = False, handle_unknown='ignore') , categ)])\n",
    "full_pipeline"
   ]
  },
  {
   "cell_type": "code",
   "execution_count": 28,
   "id": "ef7e23e1",
   "metadata": {
    "execution": {
     "iopub.execute_input": "2024-07-17T01:55:10.074397Z",
     "iopub.status.busy": "2024-07-17T01:55:10.074014Z",
     "iopub.status.idle": "2024-07-17T01:55:10.086458Z",
     "shell.execute_reply": "2024-07-17T01:55:10.085499Z"
    },
    "papermill": {
     "duration": 0.085313,
     "end_time": "2024-07-17T01:55:10.088703",
     "exception": false,
     "start_time": "2024-07-17T01:55:10.003390",
     "status": "completed"
    },
    "tags": []
   },
   "outputs": [
    {
     "name": "stdout",
     "output_type": "stream",
     "text": [
      "<class 'pandas.core.frame.DataFrame'>\n",
      "RangeIndex: 6019 entries, 0 to 6018\n",
      "Data columns (total 10 columns):\n",
      " #   Column             Non-Null Count  Dtype  \n",
      "---  ------             --------------  -----  \n",
      " 0   Location           6019 non-null   object \n",
      " 1   Year               6019 non-null   int64  \n",
      " 2   Kilometers_Driven  6019 non-null   int64  \n",
      " 3   Fuel_Type          6019 non-null   object \n",
      " 4   Transmission       6019 non-null   object \n",
      " 5   Owner_Type         6019 non-null   object \n",
      " 6   Mileage            6017 non-null   object \n",
      " 7   Engine             6019 non-null   float64\n",
      " 8   Power              6019 non-null   float64\n",
      " 9   Seats              6019 non-null   float64\n",
      "dtypes: float64(3), int64(2), object(5)\n",
      "memory usage: 470.4+ KB\n"
     ]
    }
   ],
   "source": [
    "train_feature.info()"
   ]
  },
  {
   "cell_type": "code",
   "execution_count": 29,
   "id": "6b288dfe",
   "metadata": {
    "execution": {
     "iopub.execute_input": "2024-07-17T01:55:10.118939Z",
     "iopub.status.busy": "2024-07-17T01:55:10.118055Z",
     "iopub.status.idle": "2024-07-17T01:55:10.331148Z",
     "shell.execute_reply": "2024-07-17T01:55:10.330092Z"
    },
    "papermill": {
     "duration": 0.230716,
     "end_time": "2024-07-17T01:55:10.333542",
     "exception": false,
     "start_time": "2024-07-17T01:55:10.102826",
     "status": "completed"
    },
    "tags": []
   },
   "outputs": [
    {
     "data": {
      "text/plain": [
       "(6019, 3120)"
      ]
     },
     "execution_count": 29,
     "metadata": {},
     "output_type": "execute_result"
    }
   ],
   "source": [
    "from sklearn.compose import make_column_transformer\n",
    "fnum = list(num_train)\n",
    "cat = list(categ)\n",
    "Full_pipeline = make_column_transformer((pip, fnum),(OneHotEncoder(sparse_output= False), cat))\n",
    "\n",
    "train_features_prepared = Full_pipeline.fit_transform(train_feature)\n",
    "train_features_prepared.shape"
   ]
  },
  {
   "cell_type": "markdown",
   "id": "e22af862",
   "metadata": {
    "papermill": {
     "duration": 0.013928,
     "end_time": "2024-07-17T01:55:10.362181",
     "exception": false,
     "start_time": "2024-07-17T01:55:10.348253",
     "status": "completed"
    },
    "tags": []
   },
   "source": [
    "# Training model"
   ]
  },
  {
   "cell_type": "markdown",
   "id": "e0086648",
   "metadata": {
    "papermill": {
     "duration": 0.013704,
     "end_time": "2024-07-17T01:55:10.390822",
     "exception": false,
     "start_time": "2024-07-17T01:55:10.377118",
     "status": "completed"
    },
    "tags": []
   },
   "source": [
    "### Linear Regression"
   ]
  },
  {
   "cell_type": "code",
   "execution_count": 30,
   "id": "2907a887",
   "metadata": {
    "execution": {
     "iopub.execute_input": "2024-07-17T01:55:10.420665Z",
     "iopub.status.busy": "2024-07-17T01:55:10.420276Z",
     "iopub.status.idle": "2024-07-17T01:55:20.597055Z",
     "shell.execute_reply": "2024-07-17T01:55:20.595933Z"
    },
    "papermill": {
     "duration": 10.195505,
     "end_time": "2024-07-17T01:55:20.600525",
     "exception": false,
     "start_time": "2024-07-17T01:55:10.405020",
     "status": "completed"
    },
    "tags": []
   },
   "outputs": [
    {
     "name": "stdout",
     "output_type": "stream",
     "text": [
      "Linear regression: \n",
      "0.8582717253029251\n",
      "1.920894737465474\n",
      "17.73710842264467\n"
     ]
    }
   ],
   "source": [
    "from sklearn.linear_model import LinearRegression\n",
    "lin = LinearRegression()\n",
    "lin.fit(train_features_prepared , train_label)\n",
    "y_predict = lin.predict(train_features_prepared) \n",
    "\n",
    "#accuracy\n",
    "from sklearn.metrics import r2_score, mean_absolute_error , mean_squared_error\n",
    "print(\"Linear regression: \")\n",
    "print(r2_score(train_label , y_predict))\n",
    "print(mean_absolute_error(train_label , y_predict))\n",
    "print(mean_squared_error(train_label , y_predict))"
   ]
  }
 ],
 "metadata": {
  "kaggle": {
   "accelerator": "none",
   "dataSources": [
    {
     "datasetId": 245550,
     "sourceId": 518431,
     "sourceType": "datasetVersion"
    }
   ],
   "dockerImageVersionId": 30746,
   "isGpuEnabled": false,
   "isInternetEnabled": true,
   "language": "python",
   "sourceType": "notebook"
  },
  "kernelspec": {
   "display_name": "Python 3",
   "language": "python",
   "name": "python3"
  },
  "language_info": {
   "codemirror_mode": {
    "name": "ipython",
    "version": 3
   },
   "file_extension": ".py",
   "mimetype": "text/x-python",
   "name": "python",
   "nbconvert_exporter": "python",
   "pygments_lexer": "ipython3",
   "version": "3.10.13"
  },
  "papermill": {
   "default_parameters": {},
   "duration": 19.277852,
   "end_time": "2024-07-17T01:55:21.269746",
   "environment_variables": {},
   "exception": null,
   "input_path": "__notebook__.ipynb",
   "output_path": "__notebook__.ipynb",
   "parameters": {},
   "start_time": "2024-07-17T01:55:01.991894",
   "version": "2.5.0"
  }
 },
 "nbformat": 4,
 "nbformat_minor": 5
}
